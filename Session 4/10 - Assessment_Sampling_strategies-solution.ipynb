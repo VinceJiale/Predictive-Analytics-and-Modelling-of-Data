{
 "cells": [
  {
   "cell_type": "markdown",
   "metadata": {},
   "source": [
    "# Sampling strategies"
   ]
  },
  {
   "cell_type": "markdown",
   "metadata": {
    "nbgrader": {
     "grade": false,
     "grade_id": "cell-d6f44786defd35b5",
     "locked": true,
     "solution": false
    }
   },
   "source": [
    "In this activity, we are going to try a few different sampling strategies."
   ]
  },
  {
   "cell_type": "markdown",
   "metadata": {},
   "source": [
    "## The data"
   ]
  },
  {
   "cell_type": "markdown",
   "metadata": {
    "nbgrader": {
     "grade": false,
     "grade_id": "cell-e9933b05c24aa156",
     "locked": true,
     "solution": false
    }
   },
   "source": [
    "Let's start by revisiting our data again:"
   ]
  },
  {
   "cell_type": "code",
   "execution_count": 1,
   "metadata": {
    "nbgrader": {
     "grade": false,
     "grade_id": "cell-5a601297c5e58098",
     "locked": true,
     "solution": false
    }
   },
   "outputs": [
    {
     "data": {
      "image/png": "[encoded data removed]",
      "text/plain": [
       "<Figure size 432x288 with 1 Axes>"
      ]
     },
     "metadata": {},
     "output_type": "display_data"
    }
   ],
   "source": [
    "##### added line to ensure plots are showing\n",
    "%matplotlib inline\n",
    "#####\n",
    "\n",
    "import numpy as np\n",
    "import matplotlib.pyplot as plt\n",
    "\n",
    "# _o stands for 'original'\n",
    "x_o = np.array([3,8,3,4,1,7,5,3,8,2,10,8,10,10,9,8,10,6,7,6])\n",
    "y_o = np.array([7,3,1,6,10,10,3,6,5,10,10,9,8,2,1,3,1,1,2,2])\n",
    "\n",
    "# Make a scatter plot and overlay with our equations\n",
    "plt.scatter(x_o,y_o,c='green')\n",
    "\n",
    "# Set the axes limits\n",
    "plt.axis([0, 11, 0, 11])\n",
    "x = np.array(range(0,12))\n",
    "plt.show()"
   ]
  },
  {
   "cell_type": "markdown",
   "metadata": {},
   "source": [
    "## Random sampling"
   ]
  },
  {
   "cell_type": "markdown",
   "metadata": {
    "nbgrader": {
     "grade": false,
     "grade_id": "cell-945d791137b83b16",
     "locked": true,
     "solution": false
    }
   },
   "source": [
    "Next, let's apply some sampling strategies. First, a random sample:"
   ]
  },
  {
   "cell_type": "code",
   "execution_count": 2,
   "metadata": {
    "nbgrader": {
     "grade": false,
     "grade_id": "cell-2ee3bc536748112f",
     "locked": true,
     "solution": false
    }
   },
   "outputs": [
    {
     "name": "stdout",
     "output_type": "stream",
     "text": [
      "[ 7 10  5  6  3 18 13  2 14  8]\n",
      "Selected x-values: [ 3  3  2 10  8 10  3 10  7 10]\n",
      "Selected y-values: [ 1  7 10 10  3  2  6  1  2  8]\n"
     ]
    },
    {
     "data": {
      "image/png": "[encoded data removed]",
      "text/plain": [
       "<Figure size 432x288 with 1 Axes>"
      ]
     },
     "metadata": {},
     "output_type": "display_data"
    }
   ],
   "source": [
    "import random\n",
    "\n",
    "np.random.seed(10)\n",
    "\n",
    "indices = range(0,len(x_o))\n",
    "print(np.random.choice(indices, 10, replace=False))\n",
    "indices = np.random.choice(indices, 10, replace=False)\n",
    "\n",
    "print('Selected x-values: '+str(x_o[indices]))\n",
    "print('Selected y-values: '+str(y_o[indices]))\n",
    "\n",
    "plt.scatter(x_o,y_o,c='red')\n",
    "plt.scatter(x_o[indices],y_o[indices],c='blue')\n",
    "plt.axis([0, 11, 0, 11])\n",
    "plt.show()"
   ]
  },
  {
   "cell_type": "markdown",
   "metadata": {
    "nbgrader": {
     "grade": false,
     "grade_id": "cell-6215eb71568d90b2",
     "locked": true,
     "solution": false
    }
   },
   "source": [
    "The blue sampled ones seem to be spread out quite evenly - the random sampling has done its job!"
   ]
  },
  {
   "cell_type": "markdown",
   "metadata": {},
   "source": [
    "## Maximum distance selection"
   ]
  },
  {
   "cell_type": "markdown",
   "metadata": {
    "nbgrader": {
     "grade": false,
     "grade_id": "cell-9e4637bb1566f108",
     "locked": true,
     "solution": false
    }
   },
   "source": [
    "Now, code a function that selects points based on the maximum distance calculation, use the average of all points in your growing sample to select new points:"
   ]
  },
  {
   "cell_type": "code",
   "execution_count": 3,
   "metadata": {
    "collapsed": true,
    "nbgrader": {
     "grade": true,
     "grade_id": "maximum_distance_sampling",
     "locked": false,
     "points": 0,
     "schema_version": 1,
     "solution": true
    }
   },
   "outputs": [],
   "source": [
    "# Use this function to calculate the Euclidean distance\n",
    "from scipy.spatial.distance import euclidean\n",
    "\n",
    "x_o = np.array([3,8,3,4,1,7,5,3,8,2,10,8,10,10,9,8,10,6,7,6])\n",
    "y_o = np.array([7,3,1,6,10,10,3,6,5,10,10,9,8,2,1,3,1,1,2,2])\n",
    "\n",
    "def maximum_distance_sampling(x_o, y_o, sample_size):\n",
    "    sample = []\n",
    "    \n",
    "    #Select point 5 (4 if counting from 0) to start with and delete it from the candidate set:\n",
    "    x_value = x_o[4]\n",
    "    y_value = y_o[4]\n",
    "    x_o = np.delete(x_o, 4)\n",
    "    y_o = np.delete(y_o, 4)\n",
    "    sample.append((x_value,y_value))\n",
    "    \n",
    "    # Keep on sampling as long as the sample is not big enough\n",
    "    while len(sample) < sample_size:\n",
    "        # Add the x and y values of the sample to the lists\n",
    "        x_value = y_value = 0\n",
    "        for x, y in sample:\n",
    "            x_value += x\n",
    "            y_value += y\n",
    "            \n",
    "        # Calculate the mean x and y values\n",
    "        x_value = x_value/len(sample)\n",
    "        y_value = y_value/len(sample)\n",
    "\n",
    "        # You can always print what you are doing to check progress\n",
    "        #print('Sample:',sample)\n",
    "        #print('X-value',x_value)\n",
    "        #print('y-value',y_value)\n",
    "        \n",
    "        max_dist = 0\n",
    "        max_index = 0\n",
    "        \n",
    "        # Loop all the observations not in the sample\n",
    "        for index in range(0,len(x_o)):\n",
    "            # Find the distance with the mean x and y values of the sample\n",
    "            dist = euclidean((x_value,y_value),(x_o[index],y_o[index]))\n",
    "            \n",
    "            # Check whether highest maximum distance\n",
    "            if dist > max_dist:\n",
    "                # If so, store for later\n",
    "                max_dist = dist\n",
    "                max_index = index\n",
    "        \n",
    "        # Add the observation the furthest from the sample to the sample\n",
    "        sample.append((x_o[max_index],y_o[max_index]))\n",
    "        \n",
    "        # Delete the observation from the remaining observations\n",
    "        x_o = np.delete(x_o,max_index)\n",
    "        y_o = np.delete(y_o,max_index)\n",
    "    \n",
    "    return sample"
   ]
  },
  {
   "cell_type": "markdown",
   "metadata": {
    "nbgrader": {
     "grade": false,
     "grade_id": "cell-6e650ecfa547c6b2",
     "locked": true,
     "solution": false
    }
   },
   "source": [
    "Verify your answer:"
   ]
  },
  {
   "cell_type": "code",
   "execution_count": 4,
   "metadata": {
    "collapsed": true,
    "nbgrader": {
     "grade": true,
     "grade_id": "cell-1d4eea8dc60ca5fe",
     "locked": true,
     "points": 10,
     "schema_version": 1,
     "solution": false
    }
   },
   "outputs": [],
   "source": [
    "# Used for testing\n",
    "x_o = np.array([3,8,3,4,1,7,5,3,8,2,10,8,10,10,9,8,10,6,7,6])\n",
    "y_o = np.array([7,3,1,6,10,10,3,6,5,10,10,9,8,2,1,3,1,1,2,2])\n",
    "\n",
    "assert maximum_distance_sampling(x_o,y_o, 10) == [(1, 10),\n",
    " (10, 1),\n",
    " (10, 10),\n",
    " (3, 1),\n",
    " (2, 10),\n",
    " (9, 1),\n",
    " (10, 2),\n",
    " (7, 10),\n",
    " (6, 1),\n",
    " (10, 8)]\n",
    "\n",
    "x_o = np.array([1,2,3,4,5])\n",
    "y_o = np.array([1,1,1,1,1])\n",
    "\n",
    "assert maximum_distance_sampling(x_o,y_o, 5) == [(5, 1), (1, 1), (2, 1), (4, 1), (3, 1)]"
   ]
  },
  {
   "cell_type": "markdown",
   "metadata": {
    "nbgrader": {
     "grade": false,
     "grade_id": "cell-ad0ffc922857890c",
     "locked": true,
     "solution": false
    }
   },
   "source": [
    "Now, let's visualise this:"
   ]
  },
  {
   "cell_type": "code",
   "execution_count": 5,
   "metadata": {},
   "outputs": [
    {
     "data": {
      "image/png": "[encoded data removed]",
      "text/plain": [
       "<Figure size 432x288 with 1 Axes>"
      ]
     },
     "metadata": {},
     "output_type": "display_data"
    }
   ],
   "source": [
    "x_o = np.array([3,8,3,4,1,7,5,3,8,2,10,8,10,10,9,8,10,6,7,6])\n",
    "y_o = np.array([7,3,1,6,10,10,3,6,5,10,10,9,8,2,1,3,1,1,2,2])\n",
    "\n",
    "sample = maximum_distance_sampling(x_o, y_o, 10)\n",
    "x_2 = []\n",
    "y_2 = []\n",
    "for pair in sample:\n",
    "    x_2.append(pair[0])\n",
    "    y_2.append(pair[1])\n",
    "\n",
    "plt.scatter(x_o,y_o,c='red')\n",
    "plt.scatter(x_2,y_2,c='blue')\n",
    "plt.axis([0, 11, 0, 11])\n",
    "plt.show()"
   ]
  },
  {
   "cell_type": "markdown",
   "metadata": {
    "nbgrader": {
     "grade": false,
     "grade_id": "cell-a0c6462cefa466cd",
     "locked": true,
     "solution": false
    }
   },
   "source": [
    "You can clearly see that all the selected points (blue) lie at the edge of the space, as they are the furthest away typically. \n",
    "\n",
    "Now, try this for fun: try to code the other maximum distance sampling where the maximum minimal distance to the points in the sample is used."
   ]
  }
 ],
 "metadata": {
  "kernelspec": {
   "display_name": "Python 3",
   "language": "python",
   "name": "python3"
  },
  "language_info": {
   "codemirror_mode": {
    "name": "ipython",
    "version": 3
   },
   "file_extension": ".py",
   "mimetype": "text/x-python",
   "name": "python",
   "nbconvert_exporter": "python",
   "pygments_lexer": "ipython3",
   "version": "3.6.3"
  }
 },
 "nbformat": 4,
 "nbformat_minor": 2
}
