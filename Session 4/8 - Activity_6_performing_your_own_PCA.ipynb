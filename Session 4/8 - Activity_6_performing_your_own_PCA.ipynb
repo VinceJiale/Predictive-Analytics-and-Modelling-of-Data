{
 "cells": [
  {
   "cell_type": "markdown",
   "metadata": {},
   "source": [
    "# Performing your own PCA"
   ]
  },
  {
   "cell_type": "markdown",
   "metadata": {
    "nbgrader": {
     "grade": false,
     "grade_id": "cell-d32953a6ee2f4900",
     "locked": true,
     "solution": false
    }
   },
   "source": [
    "The goal is to load a new dataset on the type of absenteeism, and see what variables are good explanatory factors. To this purpose, we will calculate the principle components, see how much variance they capture, and what variables are important in each component."
   ]
  },
  {
   "cell_type": "markdown",
   "metadata": {},
   "source": [
    "## The dataset"
   ]
  },
  {
   "cell_type": "markdown",
   "metadata": {
    "nbgrader": {
     "grade": false,
     "grade_id": "cell-f44e27347eeaccb7",
     "locked": true,
     "solution": false
    }
   },
   "source": [
    "First, let's load the data:"
   ]
  },
  {
   "cell_type": "code",
   "execution_count": 1,
   "metadata": {
    "nbgrader": {
     "grade": false,
     "grade_id": "cell-38b86388b4a7839e",
     "locked": true,
     "solution": false
    }
   },
   "outputs": [
    {
     "name": "stdout",
     "output_type": "stream",
     "text": [
      "       Reason for absence  Month of absence  Day of the week     Seasons  \\\n",
      "count          740.000000        740.000000       740.000000  740.000000   \n",
      "mean            19.216216          6.324324         3.914865    2.544595   \n",
      "std              8.433406          3.436287         1.421675    1.111831   \n",
      "min              0.000000          0.000000         2.000000    1.000000   \n",
      "25%             13.000000          3.000000         3.000000    2.000000   \n",
      "50%             23.000000          6.000000         4.000000    3.000000   \n",
      "75%             26.000000          9.000000         5.000000    4.000000   \n",
      "max             28.000000         12.000000         6.000000    4.000000   \n",
      "\n",
      "       Transportation expense  Distance from Residence to Work  Service time  \\\n",
      "count              740.000000                       740.000000    740.000000   \n",
      "mean               221.329730                        29.631081     12.554054   \n",
      "std                 66.952223                        14.836788      4.384873   \n",
      "min                118.000000                         5.000000      1.000000   \n",
      "25%                179.000000                        16.000000      9.000000   \n",
      "50%                225.000000                        26.000000     13.000000   \n",
      "75%                260.000000                        50.000000     16.000000   \n",
      "max                388.000000                        52.000000     29.000000   \n",
      "\n",
      "              Age  Work load Average/day   Hit target  Disciplinary failure  \\\n",
      "count  740.000000              740.000000  740.000000            740.000000   \n",
      "mean    36.450000              271.490235   94.587838              0.054054   \n",
      "std      6.478772               39.058116    3.779313              0.226277   \n",
      "min     27.000000              205.917000   81.000000              0.000000   \n",
      "25%     31.000000              244.387000   93.000000              0.000000   \n",
      "50%     37.000000              264.249000   95.000000              0.000000   \n",
      "75%     40.000000              294.217000   97.000000              0.000000   \n",
      "max     58.000000              378.884000  100.000000              1.000000   \n",
      "\n",
      "        Education         Son  Social drinker  Social smoker         Pet  \\\n",
      "count  740.000000  740.000000      740.000000     740.000000  740.000000   \n",
      "mean     1.291892    1.018919        0.567568       0.072973    0.745946   \n",
      "std      0.673238    1.098489        0.495749       0.260268    1.318258   \n",
      "min      1.000000    0.000000        0.000000       0.000000    0.000000   \n",
      "25%      1.000000    0.000000        0.000000       0.000000    0.000000   \n",
      "50%      1.000000    1.000000        1.000000       0.000000    0.000000   \n",
      "75%      1.000000    2.000000        1.000000       0.000000    1.000000   \n",
      "max      4.000000    4.000000        1.000000       1.000000    8.000000   \n",
      "\n",
      "           Weight      Height  Body mass index  Absenteeism time in hours  \n",
      "count  740.000000  740.000000       740.000000                 740.000000  \n",
      "mean    79.035135  172.114865        26.677027                   6.924324  \n",
      "std     12.883211    6.034995         4.285452                  13.330998  \n",
      "min     56.000000  163.000000        19.000000                   0.000000  \n",
      "25%     69.000000  169.000000        24.000000                   2.000000  \n",
      "50%     83.000000  170.000000        25.000000                   3.000000  \n",
      "75%     89.000000  172.000000        31.000000                   8.000000  \n",
      "max    108.000000  196.000000        38.000000                 120.000000  \n"
     ]
    }
   ],
   "source": [
    "##### added line to ensure plots are showing\n",
    "%matplotlib inline\n",
    "#####\n",
    "\n",
    "import matplotlib.pyplot as plt\n",
    "import pandas as pd\n",
    "import numpy as np\n",
    "from sklearn import datasets\n",
    "from sklearn.decomposition import PCA\n",
    "from sklearn.preprocessing import normalize\n",
    "from pandas.plotting import scatter_matrix\n",
    "import matplotlib.cm as cm\n",
    "from random import randint\n",
    "\n",
    "# For bigger pictures:\n",
    "#plt.rcParams[\"figure.dpi\"] = 144\n",
    "\n",
    "data = pd.read_csv(\"absent.csv\",sep=';',index_col=0)\n",
    "\n",
    "print(data.describe())"
   ]
  },
  {
   "cell_type": "markdown",
   "metadata": {},
   "source": [
    "## Applying PCA"
   ]
  },
  {
   "cell_type": "markdown",
   "metadata": {
    "nbgrader": {
     "grade": false,
     "grade_id": "cell-07fedbff0d679b4e",
     "locked": true,
     "solution": false
    }
   },
   "source": [
    "We are lucky to have all numeric variables. Now, let's apply PCA:"
   ]
  },
  {
   "cell_type": "code",
   "execution_count": 2,
   "metadata": {
    "nbgrader": {
     "grade": false,
     "grade_id": "cell-2b9207524c7fd89c",
     "locked": true,
     "solution": false
    }
   },
   "outputs": [
    {
     "data": {
      "image/png": "[encoded data removed]",
      "text/plain": [
       "<Figure size 432x288 with 1 Axes>"
      ]
     },
     "metadata": {},
     "output_type": "display_data"
    }
   ],
   "source": [
    "pca = PCA()\n",
    "pca.fit(data)\n",
    "\n",
    "# Scree plot\n",
    "plt.plot(range(1,len(pca.components_)+1),pca.explained_variance_ratio_,'-o')\n",
    "plt.xlabel('components')\n",
    "plt.ylabel('% explained variance')\n",
    "plt.title(\"Scree plot\")\n",
    "plt.show()"
   ]
  },
  {
   "cell_type": "markdown",
   "metadata": {
    "nbgrader": {
     "grade": false,
     "grade_id": "cell-68c2598e63a05257",
     "locked": true,
     "solution": false
    }
   },
   "source": [
    "Now, find all principle components for which the explained variance is above a certain threshold. Store them as the array of weights that they are, not as an index. Also, return the explained variance of the component in a separate array."
   ]
  },
  {
   "cell_type": "code",
   "execution_count": 3,
   "metadata": {
    "collapsed": true,
    "nbgrader": {
     "grade": true,
     "grade_id": "retain_explanatory_components",
     "locked": false,
     "points": 0,
     "schema_version": 1,
     "solution": true
    }
   },
   "outputs": [],
   "source": [
    "def retain_explanatory_components(pca, threshold):\n",
    "    components = []\n",
    "    importance = []\n",
    "    \n",
    "    ### BEGIN SOLUTION\n",
    "    # Loop over the principle components\n",
    "\n",
    "        \n",
    "        # For every component, chec whether the explained version exceeds the given threshold\n",
    "\n",
    "            \n",
    "            # If so, add the components to the lists\n",
    "\n",
    "    ### END SOLUTION\n",
    "    \n",
    "    return components, importance"
   ]
  },
  {
   "cell_type": "markdown",
   "metadata": {
    "nbgrader": {
     "grade": false,
     "grade_id": "cell-dbf43132fbb77a37",
     "locked": true,
     "solution": false
    }
   },
   "source": [
    "Test your answer:"
   ]
  },
  {
   "cell_type": "code",
   "execution_count": 4,
   "metadata": {
    "collapsed": true,
    "nbgrader": {
     "grade": true,
     "grade_id": "check_expl_comp",
     "locked": true,
     "points": 10,
     "schema_version": 1,
     "solution": false
    }
   },
   "outputs": [],
   "source": [
    "assert np.allclose(retain_explanatory_components(pca, 0.2)[0][0], np.array([-1.48852242e-02,  6.99276802e-03,  7.66122250e-04,  6.11880312e-04,\n",
    "        9.96345639e-01,  6.05407010e-02, -2.30112351e-02, -2.26092910e-02,\n",
    "        4.37804005e-03, -4.51306692e-03,  3.63385170e-04, -5.52332388e-04,\n",
    "        6.25535756e-03,  1.07400187e-03,  1.72931820e-04,  7.89616935e-03,\n",
    "       -4.16652431e-02, -1.80645216e-02, -9.16830153e-03,  5.39009095e-03]))\n",
    "assert np.allclose(retain_explanatory_components(pca, 0.2)[0][1], np.array([-2.83060899e-02, -1.50170564e-02,  4.84166019e-04,  4.29205251e-03,\n",
    "       -3.39209703e-03, -3.19059877e-02, -4.41430730e-04, -6.49555188e-03,\n",
    "        9.98550107e-01, -8.56669798e-03,  1.81246521e-04, -1.18565709e-03,\n",
    "        7.37281060e-04, -5.32303645e-04,  2.21123540e-04,  1.01739263e-04,\n",
    "       -1.37819309e-02,  1.71134026e-02, -1.06918322e-02,  1.03709466e-02]))\n",
    "assert np.allclose(retain_explanatory_components(pca, 0.2)[1][0],0.6646304049437459)\n",
    "assert np.allclose(retain_explanatory_components(pca, 0.2)[1][1],0.22517768476979574)"
   ]
  },
  {
   "cell_type": "markdown",
   "metadata": {},
   "source": [
    "## Finding important variables with PCA"
   ]
  },
  {
   "cell_type": "markdown",
   "metadata": {
    "nbgrader": {
     "grade": false,
     "grade_id": "cell-368d1c3108fa44dd",
     "locked": true,
     "solution": false
    }
   },
   "source": [
    "Now, let's check what variables are important in the two components that were withheld at a threshold of 10% explained variance.\n",
    "To do this, write a function that withholds all the important variables as a list of column names:"
   ]
  },
  {
   "cell_type": "code",
   "execution_count": 5,
   "metadata": {
    "collapsed": true,
    "nbgrader": {
     "grade": true,
     "grade_id": "find_relevant_variable",
     "locked": false,
     "points": 0,
     "schema_version": 1,
     "solution": true
    }
   },
   "outputs": [],
   "source": [
    "def find_relevant_variable(component, threshold):\n",
    "    variables = []\n",
    "    weights = []\n",
    "    \n",
    "    ### BEGIN SOLUTION\n",
    "    # Loop the variables/columns of the data\n",
    "\n",
    "        # Check whether the variable's absolute loading in the component exceeds the threshold\n",
    "\n",
    "            \n",
    "            # If so, store the variable and its loading\n",
    "\n",
    "    ### END SOLUTION\n",
    "    \n",
    "    return variables, weights"
   ]
  },
  {
   "cell_type": "markdown",
   "metadata": {
    "nbgrader": {
     "grade": false,
     "grade_id": "cell-4ff3ad5eb37fa46b",
     "locked": true,
     "solution": false
    }
   },
   "source": [
    "Test your answer:"
   ]
  },
  {
   "cell_type": "code",
   "execution_count": 6,
   "metadata": {
    "collapsed": true,
    "nbgrader": {
     "grade": true,
     "grade_id": "check_variable_retention",
     "locked": true,
     "points": 5,
     "schema_version": 1,
     "solution": false
    }
   },
   "outputs": [],
   "source": [
    "assert find_relevant_variable(pca.components_[2],0.1)[0] == ['Reason for absence',\n",
    "  'Distance from Residence to Work',\n",
    "  'Height',\n",
    "  'Absenteeism time in hours']\n",
    "assert np.allclose(find_relevant_variable(pca.components_[2],0.1)[1],[-0.188797388634668,\n",
    "  -0.8451595574544256,\n",
    "  0.15549031378361947,\n",
    "  0.45863653707083685])"
   ]
  },
  {
   "cell_type": "markdown",
   "metadata": {
    "nbgrader": {
     "grade": false,
     "grade_id": "cell-308a8e34bc8fa192",
     "locked": true,
     "solution": false
    }
   },
   "source": [
    "So, these functions should demonstrate what components, and what variables, are important in which components. Keep these things in mind and test some more on your own to get a good idea of what is happening. For example, we can clearly see that the second component is very much influenced by 'Distance from residence to work'. Nevertheless, the first two components are more important, and the variables influencing them are probably interesting to look at as well."
   ]
  }
 ],
 "metadata": {
  "kernelspec": {
   "display_name": "Python 3",
   "language": "python",
   "name": "python3"
  },
  "language_info": {
   "codemirror_mode": {
    "name": "ipython",
    "version": 3
   },
   "file_extension": ".py",
   "mimetype": "text/x-python",
   "name": "python",
   "nbconvert_exporter": "python",
   "pygments_lexer": "ipython3",
   "version": "3.6.3"
  }
 },
 "nbformat": 4,
 "nbformat_minor": 2
}
