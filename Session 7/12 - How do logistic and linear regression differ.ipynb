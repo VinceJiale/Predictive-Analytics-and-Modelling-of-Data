{
 "cells": [
  {
   "cell_type": "markdown",
   "metadata": {},
   "source": [
    "# How do logistic and linear regression differ? #\n",
    "\n",
    "Let's start by fitting linear regression to explain a binary target variable, and exploring the problems this creates. We will work with the same 'German credit' dataset we have used for Naive Bayes, but now use all the variables (their meaning is not relevant here). \n",
    "\n",
    "First, we need to modify the dataset. Similar to NB, we need a binary target and we need to convert categorical predictors into dummies. However, for regression, we need to drop one dummy for each variable, otherwise we will create perfect collinearity.\n",
    "\n",
    "We will leave the numeric predictors as they are. "
   ]
  },
  {
   "cell_type": "code",
   "execution_count": 2,
   "metadata": {},
   "outputs": [
    {
     "name": "stderr",
     "output_type": "stream",
     "text": [
      "C:\\Anaconda\\lib\\site-packages\\statsmodels\\compat\\pandas.py:56: FutureWarning: The pandas.core.datetools module is deprecated and will be removed in a future version. Please use the pandas.tseries module instead.\n",
      "  from pandas.core import datetools\n"
     ]
    },
    {
     "data": {
      "text/html": [
       "<div>\n",
       "<style>\n",
       "    .dataframe thead tr:only-child th {\n",
       "        text-align: right;\n",
       "    }\n",
       "\n",
       "    .dataframe thead th {\n",
       "        text-align: left;\n",
       "    }\n",
       "\n",
       "    .dataframe tbody tr th {\n",
       "        vertical-align: top;\n",
       "    }\n",
       "</style>\n",
       "<table border=\"1\" class=\"dataframe\">\n",
       "  <thead>\n",
       "    <tr style=\"text-align: right;\">\n",
       "      <th></th>\n",
       "      <th>Bad_2</th>\n",
       "      <th>ID</th>\n",
       "      <th>VAR2</th>\n",
       "      <th>VAR5</th>\n",
       "      <th>VAR8</th>\n",
       "      <th>VAR11</th>\n",
       "      <th>VAR13</th>\n",
       "      <th>VAR16</th>\n",
       "      <th>VAR18</th>\n",
       "      <th>VAR1_A12</th>\n",
       "      <th>...</th>\n",
       "      <th>VAR12_A124</th>\n",
       "      <th>VAR14_A142</th>\n",
       "      <th>VAR14_A143</th>\n",
       "      <th>VAR15_A152</th>\n",
       "      <th>VAR15_A153</th>\n",
       "      <th>VAR17_A172</th>\n",
       "      <th>VAR17_A173</th>\n",
       "      <th>VAR17_A174</th>\n",
       "      <th>VAR19_A192</th>\n",
       "      <th>VAR20_A202</th>\n",
       "    </tr>\n",
       "  </thead>\n",
       "  <tbody>\n",
       "    <tr>\n",
       "      <th>0</th>\n",
       "      <td>0</td>\n",
       "      <td>1</td>\n",
       "      <td>6</td>\n",
       "      <td>1169</td>\n",
       "      <td>4</td>\n",
       "      <td>4</td>\n",
       "      <td>67</td>\n",
       "      <td>2</td>\n",
       "      <td>1</td>\n",
       "      <td>0</td>\n",
       "      <td>...</td>\n",
       "      <td>0</td>\n",
       "      <td>0</td>\n",
       "      <td>1</td>\n",
       "      <td>1</td>\n",
       "      <td>0</td>\n",
       "      <td>0</td>\n",
       "      <td>1</td>\n",
       "      <td>0</td>\n",
       "      <td>1</td>\n",
       "      <td>0</td>\n",
       "    </tr>\n",
       "    <tr>\n",
       "      <th>1</th>\n",
       "      <td>1</td>\n",
       "      <td>2</td>\n",
       "      <td>48</td>\n",
       "      <td>5951</td>\n",
       "      <td>2</td>\n",
       "      <td>2</td>\n",
       "      <td>22</td>\n",
       "      <td>1</td>\n",
       "      <td>1</td>\n",
       "      <td>1</td>\n",
       "      <td>...</td>\n",
       "      <td>0</td>\n",
       "      <td>0</td>\n",
       "      <td>1</td>\n",
       "      <td>1</td>\n",
       "      <td>0</td>\n",
       "      <td>0</td>\n",
       "      <td>1</td>\n",
       "      <td>0</td>\n",
       "      <td>0</td>\n",
       "      <td>0</td>\n",
       "    </tr>\n",
       "    <tr>\n",
       "      <th>2</th>\n",
       "      <td>0</td>\n",
       "      <td>3</td>\n",
       "      <td>12</td>\n",
       "      <td>2096</td>\n",
       "      <td>2</td>\n",
       "      <td>3</td>\n",
       "      <td>49</td>\n",
       "      <td>1</td>\n",
       "      <td>2</td>\n",
       "      <td>0</td>\n",
       "      <td>...</td>\n",
       "      <td>0</td>\n",
       "      <td>0</td>\n",
       "      <td>1</td>\n",
       "      <td>1</td>\n",
       "      <td>0</td>\n",
       "      <td>1</td>\n",
       "      <td>0</td>\n",
       "      <td>0</td>\n",
       "      <td>0</td>\n",
       "      <td>0</td>\n",
       "    </tr>\n",
       "    <tr>\n",
       "      <th>3</th>\n",
       "      <td>0</td>\n",
       "      <td>4</td>\n",
       "      <td>42</td>\n",
       "      <td>7882</td>\n",
       "      <td>2</td>\n",
       "      <td>4</td>\n",
       "      <td>45</td>\n",
       "      <td>1</td>\n",
       "      <td>2</td>\n",
       "      <td>0</td>\n",
       "      <td>...</td>\n",
       "      <td>0</td>\n",
       "      <td>0</td>\n",
       "      <td>1</td>\n",
       "      <td>0</td>\n",
       "      <td>1</td>\n",
       "      <td>0</td>\n",
       "      <td>1</td>\n",
       "      <td>0</td>\n",
       "      <td>0</td>\n",
       "      <td>0</td>\n",
       "    </tr>\n",
       "    <tr>\n",
       "      <th>4</th>\n",
       "      <td>1</td>\n",
       "      <td>5</td>\n",
       "      <td>24</td>\n",
       "      <td>4870</td>\n",
       "      <td>3</td>\n",
       "      <td>4</td>\n",
       "      <td>53</td>\n",
       "      <td>2</td>\n",
       "      <td>2</td>\n",
       "      <td>0</td>\n",
       "      <td>...</td>\n",
       "      <td>1</td>\n",
       "      <td>0</td>\n",
       "      <td>1</td>\n",
       "      <td>0</td>\n",
       "      <td>1</td>\n",
       "      <td>0</td>\n",
       "      <td>1</td>\n",
       "      <td>0</td>\n",
       "      <td>0</td>\n",
       "      <td>0</td>\n",
       "    </tr>\n",
       "  </tbody>\n",
       "</table>\n",
       "<p>5 rows × 50 columns</p>\n",
       "</div>"
      ],
      "text/plain": [
       "   Bad_2  ID  VAR2  VAR5  VAR8  VAR11  VAR13  VAR16  VAR18  VAR1_A12  \\\n",
       "0      0   1     6  1169     4      4     67      2      1         0   \n",
       "1      1   2    48  5951     2      2     22      1      1         1   \n",
       "2      0   3    12  2096     2      3     49      1      2         0   \n",
       "3      0   4    42  7882     2      4     45      1      2         0   \n",
       "4      1   5    24  4870     3      4     53      2      2         0   \n",
       "\n",
       "      ...      VAR12_A124  VAR14_A142  VAR14_A143  VAR15_A152  VAR15_A153  \\\n",
       "0     ...               0           0           1           1           0   \n",
       "1     ...               0           0           1           1           0   \n",
       "2     ...               0           0           1           1           0   \n",
       "3     ...               0           0           1           0           1   \n",
       "4     ...               1           0           1           0           1   \n",
       "\n",
       "   VAR17_A172  VAR17_A173  VAR17_A174  VAR19_A192  VAR20_A202  \n",
       "0           0           1           0           1           0  \n",
       "1           0           1           0           0           0  \n",
       "2           1           0           0           0           0  \n",
       "3           0           1           0           0           0  \n",
       "4           0           1           0           0           0  \n",
       "\n",
       "[5 rows x 50 columns]"
      ]
     },
     "execution_count": 2,
     "metadata": {},
     "output_type": "execute_result"
    }
   ],
   "source": [
    "import numpy as np\n",
    "import matplotlib.pyplot as plt\n",
    "import pandas as pd\n",
    "import statsmodels.api as sm\n",
    "\n",
    "credit_data = pd.read_csv(\"german.csv\")\n",
    "credit_cat = credit_data.select_dtypes(include=['object'])\n",
    "credit_num = credit_data.select_dtypes(include=['int64'])\n",
    "credit_dum=pd.get_dummies(credit_cat, drop_first='True')  \n",
    "credit_dum.head()\n",
    "\n",
    "y=credit_num['VAR21']\n",
    "y.head()\n",
    "\n",
    "y1=pd.get_dummies(y, prefix='Bad')  \n",
    "y1.head()\n",
    "\n",
    "Y=y1.drop('Bad_1',axis=1)\n",
    "Y.head()\n",
    "\n",
    "credit=pd.concat([Y, credit_num.drop('VAR21',axis=1), credit_dum], axis=1)\n",
    "\n",
    "credit.to_csv('credit_regress.csv') # export into .csv for future use\n",
    "credit.head()"
   ]
  },
  {
   "cell_type": "code",
   "execution_count": 7,
   "metadata": {},
   "outputs": [
    {
     "name": "stdout",
     "output_type": "stream",
     "text": [
      "                            OLS Regression Results                            \n",
      "==============================================================================\n",
      "Dep. Variable:                  Bad_2   R-squared:                       0.142\n",
      "Model:                            OLS   Adj. R-squared:                  0.140\n",
      "Method:                 Least Squares   F-statistic:                     82.46\n",
      "Date:                Mon, 02 Sep 2019   Prob (F-statistic):           7.25e-34\n",
      "Time:                        22:51:54   Log-Likelihood:                -562.08\n",
      "No. Observations:                1000   AIC:                             1130.\n",
      "Df Residuals:                     997   BIC:                             1145.\n",
      "Df Model:                           2                                         \n",
      "Covariance Type:            nonrobust                                         \n",
      "==============================================================================\n",
      "                 coef    std err          t      P>|t|      [0.025      0.975]\n",
      "------------------------------------------------------------------------------\n",
      "const          0.2594      0.030      8.760      0.000       0.201       0.317\n",
      "VAR1_A14      -0.2908      0.028    -10.547      0.000      -0.345      -0.237\n",
      "VAR2           0.0074      0.001      6.642      0.000       0.005       0.010\n",
      "==============================================================================\n",
      "Omnibus:                      224.215   Durbin-Watson:                   2.020\n",
      "Prob(Omnibus):                  0.000   Jarque-Bera (JB):              108.836\n",
      "Skew:                           0.655   Prob(JB):                     2.33e-24\n",
      "Kurtosis:                       2.053   Cond. No.                         61.3\n",
      "==============================================================================\n",
      "\n",
      "Warnings:\n",
      "[1] Standard Errors assume that the covariance matrix of the errors is correctly specified.\n",
      "count    1000.000000\n",
      "mean        0.300000\n",
      "std         0.172731\n",
      "min        -0.001686\n",
      "25%         0.146785\n",
      "50%         0.348471\n",
      "75%         0.437554\n",
      "max         0.793884\n",
      "dtype: float64\n"
     ]
    }
   ],
   "source": [
    "# Let's take one dummy predictor - 'No checking account' (VAR1_A14) and one continuous - 'Loan duration in months' (VAR2)\n",
    "# For simplicity I am using just one dummy, \n",
    "# that means its effect shoud be interpreted in relation to all other categories for this variable, i.e 'having a checking account'\n",
    "\n",
    "#Add the intercept\n",
    "credit = sm.add_constant(credit)\n",
    "\n",
    "linreg = sm.OLS(credit[[\"Bad_2\"]],credit[[\"const\",\"VAR1_A14\", \"VAR2\"]]).fit()\n",
    "pred_stats = linreg.predict(credit[[\"const\",\"VAR1_A14\", \"VAR2\"]])\n",
    "\n",
    "print(linreg.summary())\n",
    "print(pred_stats.describe())"
   ]
  },
  {
   "cell_type": "markdown",
   "metadata": {},
   "source": [
    "On the surface, there is nothing wrong with the OLS Regression Results. R-squared is modest - only around 14%, but F-statistic is significant, and t-statistics for both predictors are also significant. \n",
    "\n",
    "We can interpret the estimate for a binary target variable with values of 0 and 1 as a probability. Also, regression coefficients seem to have a plausible interpretation — they show the increase or decrease in the predicted probability of default due to a one-unit change in the predictors.  \n",
    "\n",
    "However, examining the summary statistics for predictions shows that the minimum falls below 0. Conceptually, it should not be possible, since the probablity is bound between 0 and 1. However, our right-hand side (linear predictor) can take any values from $-\\infty$ to $+\\infty$. "
   ]
  },
  {
   "cell_type": "code",
   "execution_count": 6,
   "metadata": {},
   "outputs": [
    {
     "data": {
      "image/png": "[encoded data removed]",
      "text/plain": [
       "<matplotlib.figure.Figure at 0x280fb4b8f60>"
      ]
     },
     "metadata": {},
     "output_type": "display_data"
    }
   ],
   "source": [
    "# Let us plot the predictions against the actual y-values\n",
    "#Make a scatter plot of the y and x1\n",
    "x_plot = credit[['VAR2']]\n",
    "y_plot = credit[['Bad_2']]\n",
    "plt.scatter(x_plot, y_plot, color = \"blue\")\n",
    "plt.ylabel('Y Bad_2')\n",
    "plt.xlabel('VAR2 Duration')\n",
    "\n",
    "#Add the regression line for those without a checking account Var1_A14=0\n",
    "plt.plot(x_plot, linreg.params[0] + linreg.params[2]*x_plot, color = \"black\")\n",
    "\n",
    "#Add the regression line for those with a checking account Var1_A14=1 (params[1])\n",
    "plt.plot(x_plot, linreg.params[0] + linreg.params[2]*x_plot + linreg.params[1], color = \"red\")\n",
    "plt.show()"
   ]
  },
  {
   "cell_type": "markdown",
   "metadata": {},
   "source": [
    "The chart shows the blue dots for different values of Duration, but they form two lines: Goods (Y=0) and Bads (Y=1).\n",
    "\n",
    "Our fitted regression tries to impose a linear model on the non-linear relationship. Not only does it create a problem with predictions going beyond (0,1), but there are serious violations of OLS assumptions that are evident without any residual diagnostics. This means that we cannot say that our model adequately describes the data.\n",
    "\n",
    "We need the link function to connect both left- and right- hand sides. Logit transformation achieves this."
   ]
  },
  {
   "cell_type": "code",
   "execution_count": 90,
   "metadata": {},
   "outputs": [
    {
     "data": {
      "text/plain": [
       "array([[  0. ,   0.1,   0.2,   0.3,   0.4,   0.5,   0.6,   0.7,   0.8,\n",
       "          0.9,   1. ],\n",
       "       [  0. ,   0.1,   0.2,   0.4,   0.7,   1. ,   1.5,   2.3,   4. ,\n",
       "          9. ,  99. ],\n",
       "       [ -4.6,  -2.2,  -1.4,  -0.8,  -0.4,   0. ,   0.4,   0.8,   1.4,\n",
       "          2.2,   4.6]])"
      ]
     },
     "execution_count": 90,
     "metadata": {},
     "output_type": "execute_result"
    }
   ],
   "source": [
    "# Let us plot the logit transformation \n",
    "# We start with P(Y=1) values between 0 and 1 in deciles  \n",
    "P = np.array([0.01, 0.1, 0.2,0.3,0.4,0.5,0.6,0.7,0.8,0.9, 0.99])\n",
    "\n",
    "#Then transform Probability to Odds, removing the upper bound\n",
    "Odds = P/(1-P)\n",
    "# And finally take the natural logarithm of odds, removing the lower bound\n",
    "Log_odds = np.log(Odds)\n",
    "np.around(np.vstack((P, Odds, Log_odds)), 1)"
   ]
  },
  {
   "cell_type": "code",
   "execution_count": 104,
   "metadata": {},
   "outputs": [
    {
     "data": {
      "image/png": "[encoded data removed]",
      "text/plain": [
       "<matplotlib.figure.Figure at 0x2383821bc18>"
      ]
     },
     "metadata": {},
     "output_type": "display_data"
    }
   ],
   "source": [
    "# for a smoother continuous version and going backwards from Log-odds to P\n",
    "import math\n",
    "\n",
    "def sigmoid(Log_odds):\n",
    "    P = []\n",
    "    for item in Log_odds:\n",
    "        P.append(1/(1+math.exp(-item)))    # here we recover P from log-odds\n",
    "    return P\n",
    "Log_odds = np.arange(-6., 6., 0.1)\n",
    "sig = sigmoid(Log_odds)\n",
    "\n",
    "plt.plot(Log_odds,sig)\n",
    "plt.ylabel('P(Y=1)')\n",
    "plt.xlabel('Log_odds')\n",
    "plt.show()"
   ]
  },
  {
   "cell_type": "markdown",
   "metadata": {},
   "source": [
    "This is a widely used sigmoid curve resulting from the logit transformation of the probability. "
   ]
  },
  {
   "cell_type": "code",
   "execution_count": 9,
   "metadata": {},
   "outputs": [
    {
     "name": "stdout",
     "output_type": "stream",
     "text": [
      "Intercept   -1.147967\n",
      "VAR1_A14    -1.701929\n",
      "VAR2         0.037755\n",
      "dtype: float64\n",
      "count    1000.000000\n",
      "mean        0.300000\n",
      "std         0.174752\n",
      "min         0.063040\n",
      "25%         0.125233\n",
      "50%         0.332941\n",
      "75%         0.439829\n",
      "max         0.827836\n",
      "dtype: float64\n"
     ]
    }
   ],
   "source": [
    "# Let us fit logistic regression to the same variables\n",
    "# We will use the glm() function from the formula submodule of (statsmodels).\n",
    "\n",
    "import statsmodels.formula.api as smf\n",
    "\n",
    "# We can define our equation in advnace\n",
    "formula = 'Bad_2 ~ VAR1_A14+VAR2'\n",
    "\n",
    "logreg = smf.glm(formula=formula, data=credit, family=sm.families.Binomial()).fit()\n",
    "print(logreg.params)\n",
    "\n",
    "#The predict() function can be used to generate predicted probabilities\n",
    "prob1 = logreg.predict(credit[[\"VAR1_A14\", \"VAR2\"]])\n",
    "print(prob1.describe())"
   ]
  },
  {
   "cell_type": "markdown",
   "metadata": {
    "collapsed": true
   },
   "source": [
    "For the time being, let's examine this limited output. We will look later at the more detailed one and learn how to interpret it. For now, note that the signs for for VAR1_A14 and VAR2 are the same as before, however, the values are quite different. And they can no longer be interpreted as an effect on probability from one-unit change in X-variable. How to interpret them? Work through the activities of this week, and you will find out.\n",
    "\n",
    "The predicted probability is now within the boundaries. We can verify this by plotting the prediction against the actual y-values."
   ]
  },
  {
   "cell_type": "code",
   "execution_count": 13,
   "metadata": {},
   "outputs": [
    {
     "data": {
      "image/png": "[encoded data removed]",
      "text/plain": [
       "<matplotlib.figure.Figure at 0x1a28cfadb70>"
      ]
     },
     "metadata": {},
     "output_type": "display_data"
    }
   ],
   "source": [
    "x_plot = credit[['VAR2']]\n",
    "y_plot = credit[['Bad_2']]\n",
    "y_plot1= prob1\n",
    "plt.scatter(x_plot, y_plot, color = \"blue\")\n",
    "plt.ylabel('Y Bad_2')\n",
    "plt.xlabel('VAR2 Duration')\n",
    "plt.scatter(x_plot, y_plot1, prob1, color = \"red\")\n",
    "plt.show()"
   ]
  },
  {
   "cell_type": "markdown",
   "metadata": {},
   "source": [
    "Red dots correspond to the predicted probability of being Bad for values of 'Duration' given in the dataset. The upper curve is for those customers with a checking account Var1_A14=0, and the lower one is for those without it Var1_A14=1. Both are not  exactly the same as the nice sigmoid curve shown above, but they correspond to the limited range of the 'Duration' variable. An important point is that they do not cross 0 or 1.  "
   ]
  }
 ],
 "metadata": {
  "kernelspec": {
   "display_name": "Python 3",
   "language": "python",
   "name": "python3"
  },
  "language_info": {
   "codemirror_mode": {
    "name": "ipython",
    "version": 3
   },
   "file_extension": ".py",
   "mimetype": "text/x-python",
   "name": "python",
   "nbconvert_exporter": "python",
   "pygments_lexer": "ipython3",
   "version": "3.6.3"
  }
 },
 "nbformat": 4,
 "nbformat_minor": 2
}
