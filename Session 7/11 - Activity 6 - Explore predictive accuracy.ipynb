{
 "cells": [
  {
   "cell_type": "markdown",
   "metadata": {},
   "source": [
    "# Activity 6: Explore predictive accuracy\n",
    "\n",
    "In this activity, we will look at how to build a Naive Bayes model in Python with just one variable. We shall start with the same variable we used in previous activity and compare the results. Let's start by looking at how we run Naive Bayes in Python for categorical/qualitative predictors. \n",
    "\n",
    "We will look at the variable 'Telephone' together and then you will analyse 'Housing' on your own."
   ]
  },
  {
   "cell_type": "markdown",
   "metadata": {},
   "source": [
    "## Telephone"
   ]
  },
  {
   "cell_type": "code",
   "execution_count": 1,
   "metadata": {},
   "outputs": [
    {
     "data": {
      "text/html": [
       "<div>\n",
       "<style scoped>\n",
       "    .dataframe tbody tr th:only-of-type {\n",
       "        vertical-align: middle;\n",
       "    }\n",
       "\n",
       "    .dataframe tbody tr th {\n",
       "        vertical-align: top;\n",
       "    }\n",
       "\n",
       "    .dataframe thead th {\n",
       "        text-align: right;\n",
       "    }\n",
       "</style>\n",
       "<table border=\"1\" class=\"dataframe\">\n",
       "  <thead>\n",
       "    <tr style=\"text-align: right;\">\n",
       "      <th></th>\n",
       "      <th>Telephone</th>\n",
       "      <th>Status</th>\n",
       "    </tr>\n",
       "  </thead>\n",
       "  <tbody>\n",
       "    <tr>\n",
       "      <th>0</th>\n",
       "      <td>Known</td>\n",
       "      <td>Good</td>\n",
       "    </tr>\n",
       "    <tr>\n",
       "      <th>1</th>\n",
       "      <td>Unknown</td>\n",
       "      <td>Bad</td>\n",
       "    </tr>\n",
       "    <tr>\n",
       "      <th>2</th>\n",
       "      <td>Unknown</td>\n",
       "      <td>Good</td>\n",
       "    </tr>\n",
       "    <tr>\n",
       "      <th>3</th>\n",
       "      <td>Unknown</td>\n",
       "      <td>Good</td>\n",
       "    </tr>\n",
       "    <tr>\n",
       "      <th>4</th>\n",
       "      <td>Unknown</td>\n",
       "      <td>Bad</td>\n",
       "    </tr>\n",
       "    <tr>\n",
       "      <th>5</th>\n",
       "      <td>Known</td>\n",
       "      <td>Good</td>\n",
       "    </tr>\n",
       "    <tr>\n",
       "      <th>6</th>\n",
       "      <td>Unknown</td>\n",
       "      <td>Good</td>\n",
       "    </tr>\n",
       "    <tr>\n",
       "      <th>7</th>\n",
       "      <td>Known</td>\n",
       "      <td>Good</td>\n",
       "    </tr>\n",
       "    <tr>\n",
       "      <th>8</th>\n",
       "      <td>Unknown</td>\n",
       "      <td>Good</td>\n",
       "    </tr>\n",
       "    <tr>\n",
       "      <th>9</th>\n",
       "      <td>Unknown</td>\n",
       "      <td>Bad</td>\n",
       "    </tr>\n",
       "  </tbody>\n",
       "</table>\n",
       "</div>"
      ],
      "text/plain": [
       "  Telephone Status\n",
       "0     Known   Good\n",
       "1   Unknown    Bad\n",
       "2   Unknown   Good\n",
       "3   Unknown   Good\n",
       "4   Unknown    Bad\n",
       "5     Known   Good\n",
       "6   Unknown   Good\n",
       "7     Known   Good\n",
       "8   Unknown   Good\n",
       "9   Unknown    Bad"
      ]
     },
     "execution_count": 1,
     "metadata": {},
     "output_type": "execute_result"
    }
   ],
   "source": [
    "# We need the following packages\n",
    "\n",
    "import pandas as pd\n",
    "import numpy as np\n",
    "from sklearn.naive_bayes import MultinomialNB, BernoulliNB\n",
    "from sklearn.metrics import roc_curve, auc, roc_auc_score\n",
    "from sklearn.metrics import confusion_matrix as cm\n",
    "from sklearn.model_selection import train_test_split\n",
    "\n",
    "# Data prepapration. Let's use the same variables:\n",
    "data = pd.read_csv(\"german_credit.csv\", usecols=[\"Telephone\", \"Status\"])\n",
    "data.head(10)"
   ]
  },
  {
   "cell_type": "code",
   "execution_count": 2,
   "metadata": {},
   "outputs": [
    {
     "data": {
      "text/html": [
       "<div>\n",
       "<style scoped>\n",
       "    .dataframe tbody tr th:only-of-type {\n",
       "        vertical-align: middle;\n",
       "    }\n",
       "\n",
       "    .dataframe tbody tr th {\n",
       "        vertical-align: top;\n",
       "    }\n",
       "\n",
       "    .dataframe thead th {\n",
       "        text-align: right;\n",
       "    }\n",
       "</style>\n",
       "<table border=\"1\" class=\"dataframe\">\n",
       "  <thead>\n",
       "    <tr style=\"text-align: right;\">\n",
       "      <th></th>\n",
       "      <th>Telephone_Known</th>\n",
       "      <th>Telephone_Unknown</th>\n",
       "      <th>Status_Bad</th>\n",
       "    </tr>\n",
       "  </thead>\n",
       "  <tbody>\n",
       "    <tr>\n",
       "      <th>0</th>\n",
       "      <td>1</td>\n",
       "      <td>0</td>\n",
       "      <td>0</td>\n",
       "    </tr>\n",
       "    <tr>\n",
       "      <th>1</th>\n",
       "      <td>0</td>\n",
       "      <td>1</td>\n",
       "      <td>1</td>\n",
       "    </tr>\n",
       "    <tr>\n",
       "      <th>2</th>\n",
       "      <td>0</td>\n",
       "      <td>1</td>\n",
       "      <td>0</td>\n",
       "    </tr>\n",
       "    <tr>\n",
       "      <th>3</th>\n",
       "      <td>0</td>\n",
       "      <td>1</td>\n",
       "      <td>0</td>\n",
       "    </tr>\n",
       "    <tr>\n",
       "      <th>4</th>\n",
       "      <td>0</td>\n",
       "      <td>1</td>\n",
       "      <td>1</td>\n",
       "    </tr>\n",
       "    <tr>\n",
       "      <th>5</th>\n",
       "      <td>1</td>\n",
       "      <td>0</td>\n",
       "      <td>0</td>\n",
       "    </tr>\n",
       "    <tr>\n",
       "      <th>6</th>\n",
       "      <td>0</td>\n",
       "      <td>1</td>\n",
       "      <td>0</td>\n",
       "    </tr>\n",
       "    <tr>\n",
       "      <th>7</th>\n",
       "      <td>1</td>\n",
       "      <td>0</td>\n",
       "      <td>0</td>\n",
       "    </tr>\n",
       "    <tr>\n",
       "      <th>8</th>\n",
       "      <td>0</td>\n",
       "      <td>1</td>\n",
       "      <td>0</td>\n",
       "    </tr>\n",
       "    <tr>\n",
       "      <th>9</th>\n",
       "      <td>0</td>\n",
       "      <td>1</td>\n",
       "      <td>1</td>\n",
       "    </tr>\n",
       "  </tbody>\n",
       "</table>\n",
       "</div>"
      ],
      "text/plain": [
       "   Telephone_Known  Telephone_Unknown  Status_Bad\n",
       "0                1                  0           0\n",
       "1                0                  1           1\n",
       "2                0                  1           0\n",
       "3                0                  1           0\n",
       "4                0                  1           1\n",
       "5                1                  0           0\n",
       "6                0                  1           0\n",
       "7                1                  0           0\n",
       "8                0                  1           0\n",
       "9                0                  1           1"
      ]
     },
     "execution_count": 2,
     "metadata": {},
     "output_type": "execute_result"
    }
   ],
   "source": [
    "# We need to convert Telephone. Note that for Multinomial NB, we don't need to drop the extra level to avoid correlation.\n",
    "data = pd.concat([data,pd.get_dummies(data['Telephone'], prefix='Telephone', drop_first=False)],axis=1).drop(['Telephone'],axis=1)  \n",
    "\n",
    "# The target variable also should be coded as 0/1.\n",
    "data = pd.concat([data,pd.get_dummies(data['Status'], prefix='Status', drop_first=False)],axis=1).drop(['Status'],axis=1)  \n",
    "\n",
    "# For the rest of our analysis, we want to focus on Status_Bad rather than good\n",
    "data = data.drop('Status_Good',axis=1)\n",
    "\n",
    "data.head(10)"
   ]
  },
  {
   "cell_type": "code",
   "execution_count": 3,
   "metadata": {},
   "outputs": [
    {
     "name": "stdout",
     "output_type": "stream",
     "text": [
      "Confusion matrix: \n",
      "[[700   0]\n",
      " [300   0]]\n"
     ]
    }
   ],
   "source": [
    "X=data.drop('Status_Bad', axis=1)\n",
    "y=data['Status_Bad']\n",
    "\n",
    "model1 = MultinomialNB()\n",
    "# ravel() converts y-vector into 1d array as required by sklearn\n",
    "model1.fit(X, y.values.ravel()) \n",
    "\n",
    "y_pred = model1.predict(X) # this produces predicted class\n",
    "\n",
    "print(\"Confusion matrix: \\n\"+str(cm(y,y_pred)))"
   ]
  },
  {
   "cell_type": "code",
   "execution_count": 4,
   "metadata": {},
   "outputs": [
    {
     "name": "stdout",
     "output_type": "stream",
     "text": [
      "Confusion matrix: \n",
      "[[291 409]\n",
      " [113 187]]\n"
     ]
    },
    {
     "data": {
      "text/html": [
       "<div>\n",
       "<style scoped>\n",
       "    .dataframe tbody tr th:only-of-type {\n",
       "        vertical-align: middle;\n",
       "    }\n",
       "\n",
       "    .dataframe tbody tr th {\n",
       "        vertical-align: top;\n",
       "    }\n",
       "\n",
       "    .dataframe thead th {\n",
       "        text-align: right;\n",
       "    }\n",
       "</style>\n",
       "<table border=\"1\" class=\"dataframe\">\n",
       "  <thead>\n",
       "    <tr style=\"text-align: right;\">\n",
       "      <th>P_Bad</th>\n",
       "      <th>0.28002314048044485</th>\n",
       "      <th>0.31356461080822495</th>\n",
       "      <th>All</th>\n",
       "    </tr>\n",
       "    <tr>\n",
       "      <th>Bad</th>\n",
       "      <th></th>\n",
       "      <th></th>\n",
       "      <th></th>\n",
       "    </tr>\n",
       "  </thead>\n",
       "  <tbody>\n",
       "    <tr>\n",
       "      <th>0</th>\n",
       "      <td>291</td>\n",
       "      <td>409</td>\n",
       "      <td>700</td>\n",
       "    </tr>\n",
       "    <tr>\n",
       "      <th>1</th>\n",
       "      <td>113</td>\n",
       "      <td>187</td>\n",
       "      <td>300</td>\n",
       "    </tr>\n",
       "    <tr>\n",
       "      <th>All</th>\n",
       "      <td>404</td>\n",
       "      <td>596</td>\n",
       "      <td>1000</td>\n",
       "    </tr>\n",
       "  </tbody>\n",
       "</table>\n",
       "</div>"
      ],
      "text/plain": [
       "P_Bad  0.28002314048044485  0.31356461080822495   All\n",
       "Bad                                                  \n",
       "0                      291                  409   700\n",
       "1                      113                  187   300\n",
       "All                    404                  596  1000"
      ]
     },
     "execution_count": 4,
     "metadata": {},
     "output_type": "execute_result"
    }
   ],
   "source": [
    "# This happens because of imbalanced classes, as discussed before, since everyone is classified into 'Good'\n",
    "# From a business point, it means we should accept everyone, and our PD will be as before 300/1000=0.3\n",
    "# Let's see if we can correct for this\n",
    "\n",
    "y_prob = model1.predict_proba(X) # this produces predicted probabilities, column0 for 0 (Good), Column1 - for 1(Bad)\n",
    "y_pred1 = np.where(y_prob[:,1]>=0.3, 1, 0) # define cut-off at PD =0.3 \n",
    "print(\"Confusion matrix: \\n\"+str(cm(y,y_pred1)))\n",
    "\n",
    "y_pr = pd.DataFrame({'Bad': y, 'P_Bad': y_prob[:,1], 'Bad_hat': y_pred1})\n",
    "phone_cross = pd.crosstab(index=y_pr[\"Bad\"],  # Produce a two-way table\n",
    "                         columns=y_pr[\"P_Bad\"], margins=True)\n",
    "phone_cross"
   ]
  },
  {
   "cell_type": "code",
   "execution_count": 5,
   "metadata": {},
   "outputs": [
    {
     "name": "stdout",
     "output_type": "stream",
     "text": [
      "AUC:0.5195238095238095\n"
     ]
    }
   ],
   "source": [
    "# the accuracy is lower, since now we mis-classify 409+113 customers as compared to 300 in the previous step\n",
    "# however, from a business point of view we will only accept those that are predicted Good (404 or c.40%),\n",
    "# and our PD among accepted (predicted as Good) is 0.28\n",
    "# which is slighly lower than 0.3, but we will have to reject 60% of applicants\n",
    "\n",
    "# We can also calculate the area under the ROC curve\n",
    "false_positive_rate, true_positive_rate, thresholds = roc_curve(y, y_prob[:,1])\n",
    "roc_auc=auc(false_positive_rate, true_positive_rate)\n",
    "print(\"AUC:\" +str(roc_auc)) "
   ]
  },
  {
   "cell_type": "markdown",
   "metadata": {},
   "source": [
    "Not brilliant either, but we only used one variable. We can also split the sample into training and test sets to calculate AUC and confusion matrix on the test sample."
   ]
  },
  {
   "cell_type": "code",
   "execution_count": 6,
   "metadata": {},
   "outputs": [
    {
     "name": "stdout",
     "output_type": "stream",
     "text": [
      "Confusion matrix: \n",
      "[[ 82 119]\n",
      " [ 40  59]]\n",
      "AUC:0.5019598974822855\n"
     ]
    }
   ],
   "source": [
    "X_train, X_test, y_train, y_test = train_test_split(X, y, test_size=0.3, random_state=2) \n",
    "# 70% training and 30% test \n",
    "# random_state fixes the split, so if we want to compare the models, we compare then on the same sample\n",
    "\n",
    "model2 = BernoulliNB()\n",
    "model2.fit(X_train, y_train.values.ravel()) \n",
    "\n",
    "# this produces predicted probablities\n",
    "y_prob2 = model2.predict_proba(X_test) \n",
    "\n",
    "# define cut-off at PD =0.3 instead of 0.5\n",
    "y_pred2 = np.where(y_prob2[:,1]>=0.3, 1, 0) \n",
    "print(\"Confusion matrix: \\n\"+str(cm(y_test,y_pred2)))\n",
    "\n",
    "# Model AUC?\n",
    "false_positive_rate, true_positive_rate, thresholds = roc_curve(y_test, y_prob2[:,1])\n",
    "roc_auc = auc(false_positive_rate, true_positive_rate)\n",
    "print(\"AUC:\" +str(roc_auc)) "
   ]
  },
  {
   "cell_type": "markdown",
   "metadata": {},
   "source": [
    "As expected measures of predictive accuracy on the test sample are worse as compared to the training/whole. The deviation of AUC from 0.5 is small anyway, and estimated PD is now 0.32. Therefore, 'Telephone' is perhaps not a very strong predictor. "
   ]
  },
  {
   "cell_type": "markdown",
   "metadata": {},
   "source": [
    "## Housing"
   ]
  },
  {
   "cell_type": "markdown",
   "metadata": {},
   "source": [
    "Now it is your turn. You should repeat the same analysis for 'Housing'. Is predictive accuracy better for 'Housing' than for 'Telephone'?"
   ]
  },
  {
   "cell_type": "code",
   "execution_count": 7,
   "metadata": {},
   "outputs": [
    {
     "data": {
      "text/html": [
       "<div>\n",
       "<style scoped>\n",
       "    .dataframe tbody tr th:only-of-type {\n",
       "        vertical-align: middle;\n",
       "    }\n",
       "\n",
       "    .dataframe tbody tr th {\n",
       "        vertical-align: top;\n",
       "    }\n",
       "\n",
       "    .dataframe thead th {\n",
       "        text-align: right;\n",
       "    }\n",
       "</style>\n",
       "<table border=\"1\" class=\"dataframe\">\n",
       "  <thead>\n",
       "    <tr style=\"text-align: right;\">\n",
       "      <th></th>\n",
       "      <th>Housing_Free</th>\n",
       "      <th>Housing_Own</th>\n",
       "      <th>Housing_Rent</th>\n",
       "      <th>Status_Bad</th>\n",
       "    </tr>\n",
       "  </thead>\n",
       "  <tbody>\n",
       "    <tr>\n",
       "      <th>0</th>\n",
       "      <td>0</td>\n",
       "      <td>1</td>\n",
       "      <td>0</td>\n",
       "      <td>0</td>\n",
       "    </tr>\n",
       "    <tr>\n",
       "      <th>1</th>\n",
       "      <td>0</td>\n",
       "      <td>1</td>\n",
       "      <td>0</td>\n",
       "      <td>1</td>\n",
       "    </tr>\n",
       "    <tr>\n",
       "      <th>2</th>\n",
       "      <td>0</td>\n",
       "      <td>1</td>\n",
       "      <td>0</td>\n",
       "      <td>0</td>\n",
       "    </tr>\n",
       "    <tr>\n",
       "      <th>3</th>\n",
       "      <td>1</td>\n",
       "      <td>0</td>\n",
       "      <td>0</td>\n",
       "      <td>0</td>\n",
       "    </tr>\n",
       "    <tr>\n",
       "      <th>4</th>\n",
       "      <td>1</td>\n",
       "      <td>0</td>\n",
       "      <td>0</td>\n",
       "      <td>1</td>\n",
       "    </tr>\n",
       "  </tbody>\n",
       "</table>\n",
       "</div>"
      ],
      "text/plain": [
       "   Housing_Free  Housing_Own  Housing_Rent  Status_Bad\n",
       "0             0            1             0           0\n",
       "1             0            1             0           1\n",
       "2             0            1             0           0\n",
       "3             1            0             0           0\n",
       "4             1            0             0           1"
      ]
     },
     "execution_count": 7,
     "metadata": {},
     "output_type": "execute_result"
    }
   ],
   "source": [
    "data = pd.read_csv(\"german_credit.csv\", usecols=[\"Housing\", \"Status\"])\n",
    "data.head(10)\n",
    "\n",
    "data = pd.concat([data,pd.get_dummies(data['Housing'], prefix='Housing', drop_first=False)],axis=1).drop(['Housing'],axis=1)  \n",
    "\n",
    "# The target variable also should be coded as 0/1.\n",
    "data = pd.concat([data,pd.get_dummies(data['Status'], prefix='Status', drop_first=False)],axis=1).drop(['Status'],axis=1)  \n",
    "\n",
    "# For the rest of our analysis, we want to focus on Status_Bad rather than good\n",
    "data = data.drop('Status_Good',axis=1)\n",
    "\n",
    "data.head()"
   ]
  },
  {
   "cell_type": "code",
   "execution_count": 8,
   "metadata": {},
   "outputs": [
    {
     "name": "stdout",
     "output_type": "stream",
     "text": [
      "Confusion matrix: \n",
      "[[700   0]\n",
      " [300   0]]\n"
     ]
    }
   ],
   "source": [
    "X=data.drop('Status_Bad', axis=1)\n",
    "y=data['Status_Bad']\n",
    "\n",
    "# First, try without adjusting the probability-theshold:\n",
    "\n",
    "### BEGIN SOLUTION\n",
    "\n",
    "\n",
    "### END SOLUTION\n",
    "\n",
    "print(\"Confusion matrix: \\n\"+str(cm(y,y_pred)))"
   ]
  },
  {
   "cell_type": "code",
   "execution_count": 9,
   "metadata": {},
   "outputs": [
    {
     "ename": "NameError",
     "evalue": "name 'housing_cross' is not defined",
     "output_type": "error",
     "traceback": [
      "\u001b[1;31m---------------------------------------------------------------------------\u001b[0m",
      "\u001b[1;31mNameError\u001b[0m                                 Traceback (most recent call last)",
      "\u001b[1;32m<ipython-input-9-9fdd6f41d7c5>\u001b[0m in \u001b[0;36m<module>\u001b[1;34m()\u001b[0m\n\u001b[0;32m      6\u001b[0m \u001b[1;31m### END SOLUTION\u001b[0m\u001b[1;33m\u001b[0m\u001b[1;33m\u001b[0m\u001b[0m\n\u001b[0;32m      7\u001b[0m \u001b[1;33m\u001b[0m\u001b[0m\n\u001b[1;32m----> 8\u001b[1;33m \u001b[0mhousing_cross\u001b[0m\u001b[1;33m\u001b[0m\u001b[0m\n\u001b[0m",
      "\u001b[1;31mNameError\u001b[0m: name 'housing_cross' is not defined"
     ]
    }
   ],
   "source": [
    "# Now, adjust the probability cut-off:\n",
    "\n",
    "### BEGIN SOLUTION\n",
    "\n",
    "\n",
    "### END SOLUTION\n",
    "\n",
    "housing_cross"
   ]
  },
  {
   "cell_type": "code",
   "execution_count": 10,
   "metadata": {},
   "outputs": [
    {
     "name": "stdout",
     "output_type": "stream",
     "text": [
      "Confusion matrix: \n",
      "[[149  52]\n",
      " [ 65  34]]\n",
      "AUC:0.5407055630936228\n"
     ]
    }
   ],
   "source": [
    "X_train, X_test, y_train, y_test = train_test_split(X, y, test_size=0.3, random_state=2) \n",
    "\n",
    "# Now, apply a model to a 70% training and 30% test with appropriate cut-off \n",
    "\n",
    "### BEGIN SOLUTION\n",
    "\n",
    "\n",
    "### END SOLUTION\n",
    "\n",
    "print(\"Confusion matrix: \\n\"+str(cm(y_test,y_pred2)))\n",
    "\n",
    "# Model AUC\n",
    "false_positive_rate, true_positive_rate, thresholds = roc_curve(y_test, y_prob2[:,1])\n",
    "roc_auc = auc(false_positive_rate, true_positive_rate)\n",
    "print(\"AUC:\" +str(roc_auc)) "
   ]
  }
 ],
 "metadata": {
  "kernelspec": {
   "display_name": "Python 3",
   "language": "python",
   "name": "python3"
  },
  "language_info": {
   "codemirror_mode": {
    "name": "ipython",
    "version": 3
   },
   "file_extension": ".py",
   "mimetype": "text/x-python",
   "name": "python",
   "nbconvert_exporter": "python",
   "pygments_lexer": "ipython3",
   "version": "3.6.3"
  }
 },
 "nbformat": 4,
 "nbformat_minor": 2
}
