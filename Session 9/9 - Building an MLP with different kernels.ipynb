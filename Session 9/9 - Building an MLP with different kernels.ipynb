{
 "cells": [
  {
   "cell_type": "markdown",
   "metadata": {},
   "source": [
    "# Building an MLP with different kernels"
   ]
  },
  {
   "cell_type": "markdown",
   "metadata": {},
   "source": [
    "We are going to use the circular dataset we used in the TensorFlow playground and see what the effect of different kernels is on the outcome of the neural network."
   ]
  },
  {
   "cell_type": "markdown",
   "metadata": {},
   "source": [
    "## Dataset - circles"
   ]
  },
  {
   "cell_type": "code",
   "execution_count": 1,
   "metadata": {},
   "outputs": [
    {
     "name": "stdout",
     "output_type": "stream",
     "text": [
      "          x         y  label\n",
      "0  0.752283  0.362403      1\n",
      "1 -0.847564 -0.141613      1\n",
      "2 -0.894391 -0.253585      0\n",
      "3 -0.640343  0.442921      1\n",
      "4  0.080163  0.790360      1\n"
     ]
    }
   ],
   "source": [
    "import pandas as pd\n",
    "import numpy as np\n",
    "from sklearn.datasets import make_circles, make_checkerboard\n",
    "import matplotlib.pyplot as plt\n",
    "\n",
    "# scikit-learn offers a method to create a similar dataset\n",
    "X, y = make_circles(n_samples=1000, noise=0.05)\n",
    "\n",
    "df = pd.DataFrame(dict(x=X[:,0], y=X[:,1], label=y))\n",
    "colors = {0:'red', 1:'blue'}\n",
    "\n",
    "print(df.head())"
   ]
  },
  {
   "cell_type": "code",
   "execution_count": 2,
   "metadata": {},
   "outputs": [
    {
     "data": {
      "image/png": "[encoded data removed]",
      "text/plain": [
       "<Figure size 432x288 with 1 Axes>"
      ]
     },
     "metadata": {},
     "output_type": "display_data"
    }
   ],
   "source": [
    "# Plotting the dataset\n",
    "fig, ax = plt.subplots()\n",
    "grouped = df.groupby('label')\n",
    "for key, group in grouped:\n",
    "    group.plot(ax=ax, kind='scatter', x='x', y='y', label=key, color=colors[key])\n",
    "plt.show()"
   ]
  },
  {
   "cell_type": "markdown",
   "metadata": {},
   "source": [
    "We create a training and test set:"
   ]
  },
  {
   "cell_type": "code",
   "execution_count": 3,
   "metadata": {
    "collapsed": true
   },
   "outputs": [],
   "source": [
    "from sklearn.model_selection import train_test_split\n",
    "from sklearn.metrics import accuracy_score, roc_auc_score\n",
    "\n",
    "X_train, X_test, y_train, y_test = train_test_split(X, y, test_size = 0.3)"
   ]
  },
  {
   "cell_type": "markdown",
   "metadata": {},
   "source": [
    "## Linear kernel"
   ]
  },
  {
   "cell_type": "markdown",
   "metadata": {},
   "source": [
    "Now, we create a neural network with two hidden layers, and a linear kernel. Notice that we also run the algorithm 10 times/epochs:"
   ]
  },
  {
   "cell_type": "code",
   "execution_count": 9,
   "metadata": {},
   "outputs": [
    {
     "name": "stdout",
     "output_type": "stream",
     "text": [
      "_________________________________________________________________\n",
      "Layer (type)                 Output Shape              Param #   \n",
      "=================================================================\n",
      "dense_16 (Dense)             (None, 50)                150       \n",
      "_________________________________________________________________\n",
      "activation_16 (Activation)   (None, 50)                0         \n",
      "_________________________________________________________________\n",
      "dense_17 (Dense)             (None, 50)                2550      \n",
      "_________________________________________________________________\n",
      "activation_17 (Activation)   (None, 50)                0         \n",
      "_________________________________________________________________\n",
      "dense_18 (Dense)             (None, 1)                 51        \n",
      "_________________________________________________________________\n",
      "activation_18 (Activation)   (None, 1)                 0         \n",
      "=================================================================\n",
      "Total params: 2,751\n",
      "Trainable params: 2,751\n",
      "Non-trainable params: 0\n",
      "_________________________________________________________________\n",
      "Epoch 1/10\n",
      "700/700 [==============================] - 0s 497us/step - loss: 0.6976 - acc: 0.4743\n",
      "Epoch 2/10\n",
      "700/700 [==============================] - 0s 31us/step - loss: 0.6972 - acc: 0.4571\n",
      "Epoch 3/10\n",
      "700/700 [==============================] - 0s 34us/step - loss: 0.6956 - acc: 0.4871\n",
      "Epoch 4/10\n",
      "700/700 [==============================] - 0s 33us/step - loss: 0.6945 - acc: 0.5171\n",
      "Epoch 5/10\n",
      "700/700 [==============================] - 0s 34us/step - loss: 0.6950 - acc: 0.5143\n",
      "Epoch 6/10\n",
      "700/700 [==============================] - 0s 31us/step - loss: 0.6943 - acc: 0.4714\n",
      "Epoch 7/10\n",
      "700/700 [==============================] - 0s 33us/step - loss: 0.6945 - acc: 0.4614\n",
      "Epoch 8/10\n",
      "700/700 [==============================] - 0s 33us/step - loss: 0.6944 - acc: 0.5200\n",
      "Epoch 9/10\n",
      "700/700 [==============================] - 0s 31us/step - loss: 0.6944 - acc: 0.5114\n",
      "Epoch 10/10\n",
      "700/700 [==============================] - 0s 31us/step - loss: 0.6948 - acc: 0.4757\n",
      "Accuracy: 0.46\n",
      "AUC: 0.4725284495021337\n"
     ]
    }
   ],
   "source": [
    "from keras.models import Sequential\n",
    "from keras.layers.core import Dense, Activation\n",
    "from keras.optimizers import Adam\n",
    "\n",
    "input_dim = X_train.shape[1]\n",
    "output_dim = 1\n",
    "\n",
    "model = Sequential()\n",
    "\n",
    "# Add the input layer and connect to 50 hidden neurons\n",
    "model.add(Dense(50,input_dim=input_dim))\n",
    "# See the activation type of the layer\n",
    "model.add(Activation('linear'))\n",
    "\n",
    "# Extra hidden layer can be added like this\n",
    "model.add(Dense(50))\n",
    "model.add(Activation('linear'))\n",
    "\n",
    "# Connect the previous layer to the output layer\n",
    "model.add(Dense(output_dim))\n",
    "\n",
    "# Add a final layer for classification based on the sigmoid function\n",
    "model.add(Activation('sigmoid'))\n",
    "\n",
    "# We use a different optimiser here instead of stochastic gradient descent\n",
    "# This is not important now\n",
    "model.compile(optimizer=Adam(),loss='binary_crossentropy',metrics=['accuracy'])\n",
    "model.summary()\n",
    "model.fit(X_train,y_train,epochs=10)\n",
    "prediction_class = model.predict_classes(X_test)\n",
    "prediction_prob = model.predict_proba(X_test)\n",
    "\n",
    "print('Accuracy:', accuracy_score(y_test,prediction_class))\n",
    "print('AUC:',roc_auc_score(y_test,prediction_prob))"
   ]
  },
  {
   "cell_type": "markdown",
   "metadata": {},
   "source": [
    "Clearly, the network is having a hard time coming up with good results. The linear kernel will just not be able to capture the shapes in the data adequately. Let's try a different kernel."
   ]
  },
  {
   "cell_type": "markdown",
   "metadata": {},
   "source": [
    "## ReLU kernel"
   ]
  },
  {
   "cell_type": "markdown",
   "metadata": {},
   "source": [
    "We can easily change the code above to use a different kernel, e.g., the rectified linear unit:"
   ]
  },
  {
   "cell_type": "code",
   "execution_count": 10,
   "metadata": {},
   "outputs": [
    {
     "name": "stdout",
     "output_type": "stream",
     "text": [
      "_________________________________________________________________\n",
      "Layer (type)                 Output Shape              Param #   \n",
      "=================================================================\n",
      "dense_19 (Dense)             (None, 50)                150       \n",
      "_________________________________________________________________\n",
      "activation_19 (Activation)   (None, 50)                0         \n",
      "_________________________________________________________________\n",
      "dense_20 (Dense)             (None, 50)                2550      \n",
      "_________________________________________________________________\n",
      "activation_20 (Activation)   (None, 50)                0         \n",
      "_________________________________________________________________\n",
      "dense_21 (Dense)             (None, 1)                 51        \n",
      "_________________________________________________________________\n",
      "activation_21 (Activation)   (None, 1)                 0         \n",
      "=================================================================\n",
      "Total params: 2,751\n",
      "Trainable params: 2,751\n",
      "Non-trainable params: 0\n",
      "_________________________________________________________________\n",
      "Epoch 1/10\n",
      "700/700 [==============================] - 0s 476us/step - loss: 0.6901 - acc: 0.4986\n",
      "Epoch 2/10\n",
      "700/700 [==============================] - 0s 33us/step - loss: 0.6846 - acc: 0.4971\n",
      "Epoch 3/10\n",
      "700/700 [==============================] - 0s 33us/step - loss: 0.6801 - acc: 0.5286\n",
      "Epoch 4/10\n",
      "700/700 [==============================] - 0s 33us/step - loss: 0.6778 - acc: 0.5100\n",
      "Epoch 5/10\n",
      "700/700 [==============================] - 0s 35us/step - loss: 0.6707 - acc: 0.6129\n",
      "Epoch 6/10\n",
      "700/700 [==============================] - 0s 32us/step - loss: 0.6644 - acc: 0.6629\n",
      "Epoch 7/10\n",
      "700/700 [==============================] - 0s 32us/step - loss: 0.6549 - acc: 0.6414\n",
      "Epoch 8/10\n",
      "700/700 [==============================] - 0s 32us/step - loss: 0.6448 - acc: 0.7314\n",
      "Epoch 9/10\n",
      "700/700 [==============================] - 0s 34us/step - loss: 0.6319 - acc: 0.6957\n",
      "Epoch 10/10\n",
      "700/700 [==============================] - 0s 34us/step - loss: 0.6158 - acc: 0.8243\n",
      "Accuracy: 0.84\n",
      "AUC: 0.9551475817923186\n"
     ]
    }
   ],
   "source": [
    "input_dim = X_train.shape[1]\n",
    "output_dim = 1\n",
    "\n",
    "model = Sequential()\n",
    "model.add(Dense(50,input_dim=input_dim))\n",
    "model.add(Activation('relu'))\n",
    "\n",
    "model.add(Dense(50))\n",
    "model.add(Activation('relu'))\n",
    "\n",
    "model.add(Dense(output_dim))\n",
    "\n",
    "model.add(Activation('sigmoid'))\n",
    "\n",
    "model.compile(optimizer=Adam(),loss='binary_crossentropy',metrics=['accuracy'])\n",
    "model.summary()\n",
    "model.fit(X_train,y_train,epochs=10)\n",
    "prediction_class = model.predict_classes(X_test)\n",
    "prediction_prob = model.predict_proba(X_test)\n",
    "\n",
    "print('Accuracy:', accuracy_score(y_test,prediction_class))\n",
    "print('AUC:',roc_auc_score(y_test,prediction_prob))"
   ]
  },
  {
   "cell_type": "markdown",
   "metadata": {},
   "source": [
    "That's not a bad result. You will notice that, when running the model multiple times, the result is not very stable. Nevertheless, the ReLU kernel will at least be able to break that 50% accuracy barrier that the linear kernel had because it can't predict the outcome and ends up in random guessing (or just drawing a straight line through the middle - which is the same in the case of the circles)."
   ]
  }
 ],
 "metadata": {
  "kernelspec": {
   "display_name": "Python 3",
   "language": "python",
   "name": "python3"
  },
  "language_info": {
   "codemirror_mode": {
    "name": "ipython",
    "version": 3
   },
   "file_extension": ".py",
   "mimetype": "text/x-python",
   "name": "python",
   "nbconvert_exporter": "python",
   "pygments_lexer": "ipython3",
   "version": "3.6.8"
  }
 },
 "nbformat": 4,
 "nbformat_minor": 2
}
