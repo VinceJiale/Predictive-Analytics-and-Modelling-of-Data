{
 "cells": [
  {
   "cell_type": "markdown",
   "metadata": {},
   "source": [
    "# Hyperparameter exploration"
   ]
  },
  {
   "cell_type": "markdown",
   "metadata": {},
   "source": [
    "In this notebook, we are going to model the circles dataset again, and see how not only the kernel, but all hyperparameters affect our outcome."
   ]
  },
  {
   "cell_type": "markdown",
   "metadata": {},
   "source": [
    "## Dataset"
   ]
  },
  {
   "cell_type": "code",
   "execution_count": 1,
   "metadata": {},
   "outputs": [
    {
     "data": {
      "image/png": "[encoded data removed]",
      "text/plain": [
       "<Figure size 432x288 with 1 Axes>"
      ]
     },
     "metadata": {},
     "output_type": "display_data"
    }
   ],
   "source": [
    "import pandas as pd\n",
    "import numpy as np\n",
    "from sklearn.datasets import make_circles\n",
    "import matplotlib.pyplot as plt\n",
    "\n",
    "X, y = make_circles(n_samples=1000, noise=0.05)\n",
    "\n",
    "df = pd.DataFrame(dict(x=X[:,0], y=X[:,1], label=y))\n",
    "colors = {0:'red', 1:'blue'}\n",
    "\n",
    "fig, ax = plt.subplots()\n",
    "grouped = df.groupby('label')\n",
    "for key, group in grouped:\n",
    "    group.plot(ax=ax, kind='scatter', x='x', y='y', label=key, color=colors[key])\n",
    "plt.show()"
   ]
  },
  {
   "cell_type": "markdown",
   "metadata": {},
   "source": [
    "## MLP"
   ]
  },
  {
   "cell_type": "markdown",
   "metadata": {},
   "source": [
    "First, we create our training and test sets again:"
   ]
  },
  {
   "cell_type": "code",
   "execution_count": 2,
   "metadata": {
    "collapsed": true
   },
   "outputs": [],
   "source": [
    "from sklearn.model_selection import train_test_split\n",
    "from sklearn.metrics import accuracy_score, roc_auc_score\n",
    "\n",
    "X_train, X_test, y_train, y_test = train_test_split(X, y, test_size = 0.3)"
   ]
  },
  {
   "cell_type": "markdown",
   "metadata": {},
   "source": [
    "Now, let's run the same model with linear kernel as before:"
   ]
  },
  {
   "cell_type": "code",
   "execution_count": 3,
   "metadata": {},
   "outputs": [
    {
     "name": "stderr",
     "output_type": "stream",
     "text": [
      "Using TensorFlow backend.\n"
     ]
    },
    {
     "name": "stdout",
     "output_type": "stream",
     "text": [
      "_________________________________________________________________\n",
      "Layer (type)                 Output Shape              Param #   \n",
      "=================================================================\n",
      "dense_1 (Dense)              (None, 50)                150       \n",
      "_________________________________________________________________\n",
      "activation_1 (Activation)    (None, 50)                0         \n",
      "_________________________________________________________________\n",
      "dense_2 (Dense)              (None, 50)                2550      \n",
      "_________________________________________________________________\n",
      "activation_2 (Activation)    (None, 50)                0         \n",
      "_________________________________________________________________\n",
      "dense_3 (Dense)              (None, 1)                 51        \n",
      "_________________________________________________________________\n",
      "activation_3 (Activation)    (None, 1)                 0         \n",
      "=================================================================\n",
      "Total params: 2,751\n",
      "Trainable params: 2,751\n",
      "Non-trainable params: 0\n",
      "_________________________________________________________________\n",
      "Epoch 1/10\n",
      "700/700 [==============================] - 0s 282us/step - loss: 0.6953 - acc: 0.4971\n",
      "Epoch 2/10\n",
      "700/700 [==============================] - 0s 31us/step - loss: 0.6947 - acc: 0.4857\n",
      "Epoch 3/10\n",
      "700/700 [==============================] - 0s 30us/step - loss: 0.6943 - acc: 0.4843\n",
      "Epoch 4/10\n",
      "700/700 [==============================] - 0s 30us/step - loss: 0.6940 - acc: 0.4686\n",
      "Epoch 5/10\n",
      "700/700 [==============================] - 0s 30us/step - loss: 0.6938 - acc: 0.4457\n",
      "Epoch 6/10\n",
      "700/700 [==============================] - 0s 30us/step - loss: 0.6935 - acc: 0.4843\n",
      "Epoch 7/10\n",
      "700/700 [==============================] - 0s 28us/step - loss: 0.6937 - acc: 0.4814\n",
      "Epoch 8/10\n",
      "700/700 [==============================] - 0s 30us/step - loss: 0.6935 - acc: 0.4757\n",
      "Epoch 9/10\n",
      "700/700 [==============================] - 0s 30us/step - loss: 0.6934 - acc: 0.4571\n",
      "Epoch 10/10\n",
      "700/700 [==============================] - 0s 30us/step - loss: 0.6934 - acc: 0.4543\n",
      "Accuracy: 0.44\n",
      "AUC: 0.4680661803949475\n"
     ]
    }
   ],
   "source": [
    "from keras.models import Sequential\n",
    "from keras.layers.core import Dense, Activation\n",
    "\n",
    "input_dim = X_train.shape[1]\n",
    "output_dim = 1\n",
    "\n",
    "model = Sequential()\n",
    "model.add(Dense(50,input_dim=input_dim))\n",
    "model.add(Activation('linear'))\n",
    "model.add(Dense(50))\n",
    "model.add(Activation('linear'))\n",
    "model.add(Dense(output_dim))\n",
    "model.add(Activation('sigmoid'))\n",
    "model.compile(optimizer='sgd',loss='binary_crossentropy',metrics=['accuracy'])\n",
    "\n",
    "model.summary()\n",
    "\n",
    "model.fit(X_train,y_train,epochs=10)\n",
    "\n",
    "prediction_class = model.predict_classes(X_test)\n",
    "prediction_prob = model.predict_proba(X_test)\n",
    "\n",
    "print('Accuracy:', accuracy_score(y_test,prediction_class))\n",
    "print('AUC:',roc_auc_score(y_test,prediction_prob))"
   ]
  },
  {
   "cell_type": "markdown",
   "metadata": {},
   "source": [
    "That's not very good is it? We knew this was coming from playing around in the TensorFlow playground and our earlier experiments. We can visualise the result as well:"
   ]
  },
  {
   "cell_type": "code",
   "execution_count": 4,
   "metadata": {},
   "outputs": [
    {
     "data": {
      "image/png": "[encoded data removed]",
      "text/plain": [
       "<Figure size 432x288 with 1 Axes>"
      ]
     },
     "metadata": {},
     "output_type": "display_data"
    }
   ],
   "source": [
    "df = pd.DataFrame(dict(x=X_test[:,0], y=X_test[:,1], label=prediction_class[:,0]))\n",
    "colors = {0:'red', 1:'blue'}\n",
    "\n",
    "fig, ax = plt.subplots()\n",
    "grouped = df.groupby('label')\n",
    "for key, group in grouped:\n",
    "    group.plot(ax=ax, kind='scatter', x='x', y='y', label=key, color=colors[key])\n",
    "plt.show()"
   ]
  },
  {
   "cell_type": "markdown",
   "metadata": {},
   "source": [
    "The linear kernel is clearly not suitable. Let's try something different:"
   ]
  },
  {
   "cell_type": "markdown",
   "metadata": {},
   "source": [
    "## Different hyperparameters"
   ]
  },
  {
   "cell_type": "markdown",
   "metadata": {},
   "source": [
    "Let's explore a range of hyperparameters. More specifically, we will focus on:\n",
    "- Activation function\n",
    "- Number of neurons in a hidden layer\n",
    "- Number of layers\n",
    "- Learning rate\n",
    "- Number of epochs"
   ]
  },
  {
   "cell_type": "markdown",
   "metadata": {},
   "source": [
    "First we create the model:"
   ]
  },
  {
   "cell_type": "code",
   "execution_count": 5,
   "metadata": {},
   "outputs": [],
   "source": [
    "from keras.models import Sequential\n",
    "from keras.layers.core import Dense, Activation\n",
    "from keras.optimizers import Adam\n",
    "\n",
    "def nn_model(no_neurons,learning_rate,no_layers,kernel):\n",
    "    model = Sequential()\n",
    "    model.add(Dense(no_neurons,input_dim=input_dim))\n",
    "    model.add(Activation(kernel))\n",
    "\n",
    "    # Extra hidden layers\n",
    "    for _ in range(0,no_layers):\n",
    "        model.add(Dense(no_neurons))\n",
    "        model.add(Activation(kernel))\n",
    "\n",
    "    # Output\n",
    "    model.add(Dense(output_dim))\n",
    "    model.add(Activation('sigmoid'))\n",
    "    model.compile(optimizer=Adam(lr=learning_rate),loss='binary_crossentropy',metrics=['accuracy'])\n",
    "        \n",
    "    return model"
   ]
  },
  {
   "cell_type": "markdown",
   "metadata": {},
   "source": [
    "Next, we run the grid search:"
   ]
  },
  {
   "cell_type": "code",
   "execution_count": 6,
   "metadata": {},
   "outputs": [
    {
     "name": "stdout",
     "output_type": "stream",
     "text": [
      "Mean AUC (+/- standard deviation), for parameters\n",
      "0.994 (+/- 0.004) for {'epochs': 10, 'kernel': 'relu', 'learning_rate': 0.1, 'no_layers': 1, 'no_neurons': 50, 'verbose': 0}\n",
      "0.987 (+/- 0.013) for {'epochs': 10, 'kernel': 'relu', 'learning_rate': 0.1, 'no_layers': 1, 'no_neurons': 100, 'verbose': 0}\n",
      "0.974 (+/- 0.020) for {'epochs': 10, 'kernel': 'relu', 'learning_rate': 0.1, 'no_layers': 2, 'no_neurons': 50, 'verbose': 0}\n",
      "0.978 (+/- 0.009) for {'epochs': 10, 'kernel': 'relu', 'learning_rate': 0.1, 'no_layers': 2, 'no_neurons': 100, 'verbose': 0}\n",
      "0.996 (+/- 0.003) for {'epochs': 10, 'kernel': 'relu', 'learning_rate': 0.01, 'no_layers': 1, 'no_neurons': 50, 'verbose': 0}\n",
      "0.991 (+/- 0.007) for {'epochs': 10, 'kernel': 'relu', 'learning_rate': 0.01, 'no_layers': 1, 'no_neurons': 100, 'verbose': 0}\n",
      "0.995 (+/- 0.006) for {'epochs': 10, 'kernel': 'relu', 'learning_rate': 0.01, 'no_layers': 2, 'no_neurons': 50, 'verbose': 0}\n",
      "0.992 (+/- 0.006) for {'epochs': 10, 'kernel': 'relu', 'learning_rate': 0.01, 'no_layers': 2, 'no_neurons': 100, 'verbose': 0}\n",
      "0.877 (+/- 0.082) for {'epochs': 10, 'kernel': 'relu', 'learning_rate': 0.001, 'no_layers': 1, 'no_neurons': 50, 'verbose': 0}\n",
      "0.978 (+/- 0.019) for {'epochs': 10, 'kernel': 'relu', 'learning_rate': 0.001, 'no_layers': 1, 'no_neurons': 100, 'verbose': 0}\n",
      "0.980 (+/- 0.016) for {'epochs': 10, 'kernel': 'relu', 'learning_rate': 0.001, 'no_layers': 2, 'no_neurons': 50, 'verbose': 0}\n",
      "0.990 (+/- 0.003) for {'epochs': 10, 'kernel': 'relu', 'learning_rate': 0.001, 'no_layers': 2, 'no_neurons': 100, 'verbose': 0}\n",
      "0.583 (+/- 0.044) for {'epochs': 10, 'kernel': 'sigmoid', 'learning_rate': 0.1, 'no_layers': 1, 'no_neurons': 50, 'verbose': 0}\n",
      "0.553 (+/- 0.054) for {'epochs': 10, 'kernel': 'sigmoid', 'learning_rate': 0.1, 'no_layers': 1, 'no_neurons': 100, 'verbose': 0}\n",
      "0.503 (+/- 0.036) for {'epochs': 10, 'kernel': 'sigmoid', 'learning_rate': 0.1, 'no_layers': 2, 'no_neurons': 50, 'verbose': 0}\n",
      "0.512 (+/- 0.028) for {'epochs': 10, 'kernel': 'sigmoid', 'learning_rate': 0.1, 'no_layers': 2, 'no_neurons': 100, 'verbose': 0}\n",
      "0.451 (+/- 0.031) for {'epochs': 10, 'kernel': 'sigmoid', 'learning_rate': 0.01, 'no_layers': 1, 'no_neurons': 50, 'verbose': 0}\n",
      "0.451 (+/- 0.035) for {'epochs': 10, 'kernel': 'sigmoid', 'learning_rate': 0.01, 'no_layers': 1, 'no_neurons': 100, 'verbose': 0}\n",
      "0.448 (+/- 0.033) for {'epochs': 10, 'kernel': 'sigmoid', 'learning_rate': 0.01, 'no_layers': 2, 'no_neurons': 50, 'verbose': 0}\n",
      "0.453 (+/- 0.033) for {'epochs': 10, 'kernel': 'sigmoid', 'learning_rate': 0.01, 'no_layers': 2, 'no_neurons': 100, 'verbose': 0}\n",
      "0.451 (+/- 0.040) for {'epochs': 10, 'kernel': 'sigmoid', 'learning_rate': 0.001, 'no_layers': 1, 'no_neurons': 50, 'verbose': 0}\n",
      "0.449 (+/- 0.032) for {'epochs': 10, 'kernel': 'sigmoid', 'learning_rate': 0.001, 'no_layers': 1, 'no_neurons': 100, 'verbose': 0}\n",
      "0.456 (+/- 0.028) for {'epochs': 10, 'kernel': 'sigmoid', 'learning_rate': 0.001, 'no_layers': 2, 'no_neurons': 50, 'verbose': 0}\n",
      "0.446 (+/- 0.033) for {'epochs': 10, 'kernel': 'sigmoid', 'learning_rate': 0.001, 'no_layers': 2, 'no_neurons': 100, 'verbose': 0}\n",
      "0.479 (+/- 0.029) for {'epochs': 10, 'kernel': 'linear', 'learning_rate': 0.1, 'no_layers': 1, 'no_neurons': 50, 'verbose': 0}\n",
      "0.460 (+/- 0.048) for {'epochs': 10, 'kernel': 'linear', 'learning_rate': 0.1, 'no_layers': 1, 'no_neurons': 100, 'verbose': 0}\n",
      "0.464 (+/- 0.040) for {'epochs': 10, 'kernel': 'linear', 'learning_rate': 0.1, 'no_layers': 2, 'no_neurons': 50, 'verbose': 0}\n",
      "0.496 (+/- 0.031) for {'epochs': 10, 'kernel': 'linear', 'learning_rate': 0.1, 'no_layers': 2, 'no_neurons': 100, 'verbose': 0}\n",
      "0.465 (+/- 0.022) for {'epochs': 10, 'kernel': 'linear', 'learning_rate': 0.01, 'no_layers': 1, 'no_neurons': 50, 'verbose': 0}\n",
      "0.466 (+/- 0.027) for {'epochs': 10, 'kernel': 'linear', 'learning_rate': 0.01, 'no_layers': 1, 'no_neurons': 100, 'verbose': 0}\n",
      "0.489 (+/- 0.061) for {'epochs': 10, 'kernel': 'linear', 'learning_rate': 0.01, 'no_layers': 2, 'no_neurons': 50, 'verbose': 0}\n",
      "0.452 (+/- 0.035) for {'epochs': 10, 'kernel': 'linear', 'learning_rate': 0.01, 'no_layers': 2, 'no_neurons': 100, 'verbose': 0}\n",
      "0.455 (+/- 0.034) for {'epochs': 10, 'kernel': 'linear', 'learning_rate': 0.001, 'no_layers': 1, 'no_neurons': 50, 'verbose': 0}\n",
      "0.437 (+/- 0.028) for {'epochs': 10, 'kernel': 'linear', 'learning_rate': 0.001, 'no_layers': 1, 'no_neurons': 100, 'verbose': 0}\n",
      "0.470 (+/- 0.039) for {'epochs': 10, 'kernel': 'linear', 'learning_rate': 0.001, 'no_layers': 2, 'no_neurons': 50, 'verbose': 0}\n",
      "0.457 (+/- 0.030) for {'epochs': 10, 'kernel': 'linear', 'learning_rate': 0.001, 'no_layers': 2, 'no_neurons': 100, 'verbose': 0}\n",
      "0.987 (+/- 0.011) for {'epochs': 20, 'kernel': 'relu', 'learning_rate': 0.1, 'no_layers': 1, 'no_neurons': 50, 'verbose': 0}\n",
      "0.992 (+/- 0.004) for {'epochs': 20, 'kernel': 'relu', 'learning_rate': 0.1, 'no_layers': 1, 'no_neurons': 100, 'verbose': 0}\n",
      "0.896 (+/- 0.198) for {'epochs': 20, 'kernel': 'relu', 'learning_rate': 0.1, 'no_layers': 2, 'no_neurons': 50, 'verbose': 0}\n",
      "0.994 (+/- 0.004) for {'epochs': 20, 'kernel': 'relu', 'learning_rate': 0.1, 'no_layers': 2, 'no_neurons': 100, 'verbose': 0}\n",
      "0.995 (+/- 0.004) for {'epochs': 20, 'kernel': 'relu', 'learning_rate': 0.01, 'no_layers': 1, 'no_neurons': 50, 'verbose': 0}\n",
      "0.996 (+/- 0.002) for {'epochs': 20, 'kernel': 'relu', 'learning_rate': 0.01, 'no_layers': 1, 'no_neurons': 100, 'verbose': 0}\n",
      "0.995 (+/- 0.003) for {'epochs': 20, 'kernel': 'relu', 'learning_rate': 0.01, 'no_layers': 2, 'no_neurons': 50, 'verbose': 0}\n",
      "0.995 (+/- 0.004) for {'epochs': 20, 'kernel': 'relu', 'learning_rate': 0.01, 'no_layers': 2, 'no_neurons': 100, 'verbose': 0}\n",
      "0.993 (+/- 0.004) for {'epochs': 20, 'kernel': 'relu', 'learning_rate': 0.001, 'no_layers': 1, 'no_neurons': 50, 'verbose': 0}\n",
      "0.997 (+/- 0.003) for {'epochs': 20, 'kernel': 'relu', 'learning_rate': 0.001, 'no_layers': 1, 'no_neurons': 100, 'verbose': 0}\n",
      "0.998 (+/- 0.001) for {'epochs': 20, 'kernel': 'relu', 'learning_rate': 0.001, 'no_layers': 2, 'no_neurons': 50, 'verbose': 0}\n",
      "0.997 (+/- 0.002) for {'epochs': 20, 'kernel': 'relu', 'learning_rate': 0.001, 'no_layers': 2, 'no_neurons': 100, 'verbose': 0}\n",
      "0.659 (+/- 0.182) for {'epochs': 20, 'kernel': 'sigmoid', 'learning_rate': 0.1, 'no_layers': 1, 'no_neurons': 50, 'verbose': 0}\n",
      "0.550 (+/- 0.073) for {'epochs': 20, 'kernel': 'sigmoid', 'learning_rate': 0.1, 'no_layers': 1, 'no_neurons': 100, 'verbose': 0}\n",
      "0.511 (+/- 0.105) for {'epochs': 20, 'kernel': 'sigmoid', 'learning_rate': 0.1, 'no_layers': 2, 'no_neurons': 50, 'verbose': 0}\n",
      "0.500 (+/- 0.000) for {'epochs': 20, 'kernel': 'sigmoid', 'learning_rate': 0.1, 'no_layers': 2, 'no_neurons': 100, 'verbose': 0}\n",
      "0.470 (+/- 0.061) for {'epochs': 20, 'kernel': 'sigmoid', 'learning_rate': 0.01, 'no_layers': 1, 'no_neurons': 50, 'verbose': 0}\n",
      "0.452 (+/- 0.036) for {'epochs': 20, 'kernel': 'sigmoid', 'learning_rate': 0.01, 'no_layers': 1, 'no_neurons': 100, 'verbose': 0}\n",
      "0.456 (+/- 0.036) for {'epochs': 20, 'kernel': 'sigmoid', 'learning_rate': 0.01, 'no_layers': 2, 'no_neurons': 50, 'verbose': 0}\n",
      "0.441 (+/- 0.029) for {'epochs': 20, 'kernel': 'sigmoid', 'learning_rate': 0.01, 'no_layers': 2, 'no_neurons': 100, 'verbose': 0}\n",
      "0.447 (+/- 0.032) for {'epochs': 20, 'kernel': 'sigmoid', 'learning_rate': 0.001, 'no_layers': 1, 'no_neurons': 50, 'verbose': 0}\n",
      "0.448 (+/- 0.037) for {'epochs': 20, 'kernel': 'sigmoid', 'learning_rate': 0.001, 'no_layers': 1, 'no_neurons': 100, 'verbose': 0}\n",
      "0.446 (+/- 0.032) for {'epochs': 20, 'kernel': 'sigmoid', 'learning_rate': 0.001, 'no_layers': 2, 'no_neurons': 50, 'verbose': 0}\n",
      "0.448 (+/- 0.037) for {'epochs': 20, 'kernel': 'sigmoid', 'learning_rate': 0.001, 'no_layers': 2, 'no_neurons': 100, 'verbose': 0}\n",
      "0.476 (+/- 0.053) for {'epochs': 20, 'kernel': 'linear', 'learning_rate': 0.1, 'no_layers': 1, 'no_neurons': 50, 'verbose': 0}\n",
      "0.483 (+/- 0.015) for {'epochs': 20, 'kernel': 'linear', 'learning_rate': 0.1, 'no_layers': 1, 'no_neurons': 100, 'verbose': 0}\n",
      "0.544 (+/- 0.036) for {'epochs': 20, 'kernel': 'linear', 'learning_rate': 0.1, 'no_layers': 2, 'no_neurons': 50, 'verbose': 0}\n",
      "0.513 (+/- 0.024) for {'epochs': 20, 'kernel': 'linear', 'learning_rate': 0.1, 'no_layers': 2, 'no_neurons': 100, 'verbose': 0}\n",
      "0.446 (+/- 0.035) for {'epochs': 20, 'kernel': 'linear', 'learning_rate': 0.01, 'no_layers': 1, 'no_neurons': 50, 'verbose': 0}\n",
      "0.449 (+/- 0.028) for {'epochs': 20, 'kernel': 'linear', 'learning_rate': 0.01, 'no_layers': 1, 'no_neurons': 100, 'verbose': 0}\n",
      "0.454 (+/- 0.026) for {'epochs': 20, 'kernel': 'linear', 'learning_rate': 0.01, 'no_layers': 2, 'no_neurons': 50, 'verbose': 0}\n",
      "0.448 (+/- 0.033) for {'epochs': 20, 'kernel': 'linear', 'learning_rate': 0.01, 'no_layers': 2, 'no_neurons': 100, 'verbose': 0}\n",
      "0.447 (+/- 0.039) for {'epochs': 20, 'kernel': 'linear', 'learning_rate': 0.001, 'no_layers': 1, 'no_neurons': 50, 'verbose': 0}\n",
      "0.456 (+/- 0.034) for {'epochs': 20, 'kernel': 'linear', 'learning_rate': 0.001, 'no_layers': 1, 'no_neurons': 100, 'verbose': 0}\n",
      "0.448 (+/- 0.032) for {'epochs': 20, 'kernel': 'linear', 'learning_rate': 0.001, 'no_layers': 2, 'no_neurons': 50, 'verbose': 0}\n",
      "0.447 (+/- 0.031) for {'epochs': 20, 'kernel': 'linear', 'learning_rate': 0.001, 'no_layers': 2, 'no_neurons': 100, 'verbose': 0}\n"
     ]
    }
   ],
   "source": [
    "from keras.wrappers.scikit_learn import KerasClassifier\n",
    "from sklearn.model_selection import GridSearchCV\n",
    "\n",
    "parameters = {'no_neurons':[50,100],'kernel':['relu','sigmoid','linear'],'no_layers':[1,2],'learning_rate':[0.1,0.01,0.001],'epochs':[10,20],'verbose':[0]} \n",
    "\n",
    "grid_search = GridSearchCV(KerasClassifier(nn_model), parameters, cv=5,scoring='roc_auc')\n",
    "grid_search.fit(X_train, y_train.ravel())\n",
    "\n",
    "means = grid_search.cv_results_['mean_test_score']\n",
    "stds = grid_search.cv_results_['std_test_score']\n",
    "\n",
    "print('Mean AUC (+/- standard deviation), for parameters')\n",
    "for mean, std, params in zip(means, stds, grid_search.cv_results_['params']):\n",
    "    print(\"%0.3f (+/- %0.03f) for %r\"\n",
    "          % (mean, std, params))"
   ]
  },
  {
   "cell_type": "markdown",
   "metadata": {},
   "source": [
    "Again, we see that the ReLU kernel clearly outperforms the linear and sigmoid one (although the sigmoid one is slightly higher and above 50%). Besides, we notice that the influence of epochs is apparent: results appear to be much more homogeneous over the various learning rates. The middle learning rate (0.01), however, tends to result in the highest AUC. The structure of the network (number of layers and number of neurons) seems to have little impact on the final results.\n",
    "This shows how effective hyperparameter search can be in order to finetune your neural network."
   ]
  }
 ],
 "metadata": {
  "kernelspec": {
   "display_name": "Python 3",
   "language": "python",
   "name": "python3"
  },
  "language_info": {
   "codemirror_mode": {
    "name": "ipython",
    "version": 3
   },
   "file_extension": ".py",
   "mimetype": "text/x-python",
   "name": "python",
   "nbconvert_exporter": "python",
   "pygments_lexer": "ipython3",
   "version": "3.6.8"
  }
 },
 "nbformat": 4,
 "nbformat_minor": 2
}
