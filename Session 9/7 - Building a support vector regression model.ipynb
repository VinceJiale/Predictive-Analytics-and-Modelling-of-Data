{
 "cells": [
  {
   "cell_type": "markdown",
   "metadata": {},
   "source": [
    "# Building a support vector regression model"
   ]
  },
  {
   "cell_type": "markdown",
   "metadata": {},
   "source": [
    "In this activity we will build a support vector regression for the medical data set on diabetes progression."
   ]
  },
  {
   "cell_type": "markdown",
   "metadata": {},
   "source": [
    "## Dataset"
   ]
  },
  {
   "cell_type": "markdown",
   "metadata": {},
   "source": [
    "We use a dataset included in scikit-learn."
   ]
  },
  {
   "cell_type": "code",
   "execution_count": 1,
   "metadata": {},
   "outputs": [],
   "source": [
    "##### added line to ensure plots are showing\n",
    "%matplotlib inline\n",
    "#####\n",
    "\n",
    "import pandas as pd\n",
    "import numpy as np\n",
    "from sklearn.datasets import load_diabetes\n",
    "from sklearn.preprocessing import StandardScaler\n",
    "\n",
    "dataset = load_diabetes()\n",
    "\n",
    "X = pd.DataFrame(data=dataset['data'],columns=dataset['feature_names'])\n",
    "\n",
    "# Again, best to scale the input variables\n",
    "X = StandardScaler().fit_transform(X)\n",
    "\n",
    "y = pd.DataFrame(data=dataset['target'],columns=['progression'])"
   ]
  },
  {
   "cell_type": "markdown",
   "metadata": {},
   "source": [
    "## Building the regression"
   ]
  },
  {
   "cell_type": "markdown",
   "metadata": {},
   "source": [
    "We can almost use exactly the same code as for classification, except we use an instance of ```SVR```:"
   ]
  },
  {
   "cell_type": "code",
   "execution_count": 2,
   "metadata": {},
   "outputs": [
    {
     "name": "stdout",
     "output_type": "stream",
     "text": [
      "RMSE LR: 60.34742250148648\n",
      "RMSE SVM: 71.84843439044327\n"
     ]
    }
   ],
   "source": [
    "from sklearn.svm import SVR\n",
    "from sklearn.linear_model import LinearRegression\n",
    "from sklearn.model_selection import train_test_split\n",
    "from sklearn.metrics import mean_squared_error as mse\n",
    "\n",
    "X_train, X_test, y_train, y_test = train_test_split(X, y, test_size = 0.3)\n",
    "\n",
    "lr = LinearRegression()\n",
    "lr.fit(X_train,y_train.values.ravel())\n",
    "pred_lr = lr.predict(X_test)\n",
    "print('RMSE LR:',np.sqrt(mse(y_test,pred_lr)))\n",
    "\n",
    "svr = SVR(gamma='auto')\n",
    "svr.fit(X_train,y_train.values.ravel())\n",
    "pred_svm = svr.predict(X_test)\n",
    "print('RMSE SVM:', np.sqrt(mse(y_test,pred_svm)))"
   ]
  },
  {
   "cell_type": "markdown",
   "metadata": {},
   "source": [
    "That's wrose than linear regression. We might want to change the parameters:"
   ]
  },
  {
   "cell_type": "code",
   "execution_count": 3,
   "metadata": {},
   "outputs": [
    {
     "name": "stdout",
     "output_type": "stream",
     "text": [
      "Mean RMSE (+/- standard deviation), for parameters\n",
      "56.316 (+/- 18.890) for {'C': 0.2, 'kernel': 'linear'}\n",
      "72.752 (+/- 22.029) for {'C': 0.2, 'kernel': 'poly'}\n",
      "76.019 (+/- 23.862) for {'C': 0.2, 'kernel': 'rbf'}\n",
      "52.795 (+/- 19.261) for {'C': 0.5, 'kernel': 'linear'}\n",
      "68.965 (+/- 20.070) for {'C': 0.5, 'kernel': 'poly'}\n",
      "74.277 (+/- 23.404) for {'C': 0.5, 'kernel': 'rbf'}\n",
      "52.344 (+/- 19.721) for {'C': 1.0, 'kernel': 'linear'}\n",
      "66.148 (+/- 18.524) for {'C': 1.0, 'kernel': 'poly'}\n",
      "71.728 (+/- 22.983) for {'C': 1.0, 'kernel': 'rbf'}\n"
     ]
    },
    {
     "name": "stderr",
     "output_type": "stream",
     "text": [
      "/anaconda3/lib/python3.6/site-packages/sklearn/model_selection/_search.py:813: DeprecationWarning: The default of the `iid` parameter will change from True to False in version 0.22 and will be removed in 0.24. This will change numeric results when test-set sizes are unequal.\n",
      "  DeprecationWarning)\n"
     ]
    }
   ],
   "source": [
    "from sklearn.model_selection import GridSearchCV\n",
    "\n",
    "parameters = {'kernel':['linear','poly','rbf'],'C':[0.2,0.5,1.0]}\n",
    "\n",
    "grid_search = GridSearchCV(SVR(gamma='auto'), parameters, cv=5,scoring='neg_mean_squared_error')\n",
    "grid_search.fit(X_train, y_train.values.ravel())\n",
    "\n",
    "means = grid_search.cv_results_['mean_test_score']\n",
    "stds = grid_search.cv_results_['std_test_score']\n",
    "\n",
    "print('Mean RMSE (+/- standard deviation), for parameters')\n",
    "for mean, std, params in zip(means, stds, grid_search.cv_results_['params']):\n",
    "    print(\"%0.3f (+/- %0.03f) for %r\"\n",
    "          # The MSE is return as a negative, so we multiple it with -1 before squaring it\n",
    "          % (np.sqrt(-1*mean), np.sqrt(std), params))"
   ]
  },
  {
   "cell_type": "code",
   "execution_count": 4,
   "metadata": {},
   "outputs": [
    {
     "name": "stdout",
     "output_type": "stream",
     "text": [
      "Mean RMSE (+/- standard deviation), for parameters\n",
      "55.554 (+/- 21.183) for {'C': 0.2, 'kernel': 'linear'}\n",
      "72.276 (+/- 29.010) for {'C': 0.2, 'kernel': 'poly'}\n",
      "75.864 (+/- 31.302) for {'C': 0.2, 'kernel': 'rbf'}\n",
      "52.680 (+/- 21.506) for {'C': 0.5, 'kernel': 'linear'}\n",
      "68.667 (+/- 26.861) for {'C': 0.5, 'kernel': 'poly'}\n",
      "73.875 (+/- 30.686) for {'C': 0.5, 'kernel': 'rbf'}\n",
      "52.208 (+/- 21.951) for {'C': 1.0, 'kernel': 'linear'}\n",
      "65.719 (+/- 25.198) for {'C': 1.0, 'kernel': 'poly'}\n",
      "71.187 (+/- 29.652) for {'C': 1.0, 'kernel': 'rbf'}\n"
     ]
    },
    {
     "name": "stderr",
     "output_type": "stream",
     "text": [
      "/anaconda3/lib/python3.6/site-packages/sklearn/model_selection/_search.py:813: DeprecationWarning: The default of the `iid` parameter will change from True to False in version 0.22 and will be removed in 0.24. This will change numeric results when test-set sizes are unequal.\n",
      "  DeprecationWarning)\n"
     ]
    }
   ],
   "source": [
    "from sklearn.model_selection import GridSearchCV\n",
    "\n",
    "parameters = {'kernel':['linear','poly','rbf'],'C':[0.2,0.5,1.0]}\n",
    "\n",
    "grid_search = GridSearchCV(SVR(gamma='auto'), parameters, cv=10,scoring='neg_mean_squared_error')\n",
    "grid_search.fit(X_train, y_train.values.ravel())\n",
    "\n",
    "means = grid_search.cv_results_['mean_test_score']\n",
    "stds = grid_search.cv_results_['std_test_score']\n",
    "\n",
    "print('Mean RMSE (+/- standard deviation), for parameters')\n",
    "for mean, std, params in zip(means, stds, grid_search.cv_results_['params']):\n",
    "    print(\"%0.3f (+/- %0.03f) for %r\"\n",
    "          # The MSE is return as a negative, so we multiple it with -1 before squaring it\n",
    "          % (np.sqrt(-1*mean), np.sqrt(std), params))"
   ]
  },
  {
   "cell_type": "markdown",
   "metadata": {},
   "source": [
    "It seems that, again, the linear kernel is working best with the cost parameter only influencing the result slightly. The confidence intervals are quite wide, however, so the results might not be very reliable."
   ]
  }
 ],
 "metadata": {
  "kernelspec": {
   "display_name": "Python 3",
   "language": "python",
   "name": "python3"
  },
  "language_info": {
   "codemirror_mode": {
    "name": "ipython",
    "version": 3
   },
   "file_extension": ".py",
   "mimetype": "text/x-python",
   "name": "python",
   "nbconvert_exporter": "python",
   "pygments_lexer": "ipython3",
   "version": "3.6.8"
  }
 },
 "nbformat": 4,
 "nbformat_minor": 2
}
