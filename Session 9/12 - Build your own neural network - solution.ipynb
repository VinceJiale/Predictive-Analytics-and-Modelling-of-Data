{
 "cells": [
  {
   "cell_type": "markdown",
   "metadata": {},
   "source": [
    "# Build your own neural network"
   ]
  },
  {
   "cell_type": "markdown",
   "metadata": {},
   "source": [
    "Now it is all up to you to build your own neural network from scratch and apply a hyperparameter search."
   ]
  },
  {
   "cell_type": "markdown",
   "metadata": {},
   "source": [
    "## The data"
   ]
  },
  {
   "cell_type": "code",
   "execution_count": 1,
   "metadata": {},
   "outputs": [
    {
     "data": {
      "text/html": [
       "<div>\n",
       "<style scoped>\n",
       "    .dataframe tbody tr th:only-of-type {\n",
       "        vertical-align: middle;\n",
       "    }\n",
       "\n",
       "    .dataframe tbody tr th {\n",
       "        vertical-align: top;\n",
       "    }\n",
       "\n",
       "    .dataframe thead th {\n",
       "        text-align: right;\n",
       "    }\n",
       "</style>\n",
       "<table border=\"1\" class=\"dataframe\">\n",
       "  <thead>\n",
       "    <tr style=\"text-align: right;\">\n",
       "      <th></th>\n",
       "      <th>symboling</th>\n",
       "      <th>normalized-losses</th>\n",
       "      <th>make</th>\n",
       "      <th>fuel-type</th>\n",
       "      <th>aspiration</th>\n",
       "      <th>doors</th>\n",
       "      <th>bodystyle</th>\n",
       "      <th>drive</th>\n",
       "      <th>enginelocation</th>\n",
       "      <th>wheelbase</th>\n",
       "      <th>...</th>\n",
       "      <th>enginesize</th>\n",
       "      <th>fuelsystem</th>\n",
       "      <th>bore</th>\n",
       "      <th>stroke</th>\n",
       "      <th>compression</th>\n",
       "      <th>hp</th>\n",
       "      <th>rpm</th>\n",
       "      <th>citympg</th>\n",
       "      <th>highwaympg</th>\n",
       "      <th>price</th>\n",
       "    </tr>\n",
       "  </thead>\n",
       "  <tbody>\n",
       "    <tr>\n",
       "      <th>0</th>\n",
       "      <td>3</td>\n",
       "      <td>NaN</td>\n",
       "      <td>alfa-romero</td>\n",
       "      <td>gas</td>\n",
       "      <td>std</td>\n",
       "      <td>two</td>\n",
       "      <td>convertible</td>\n",
       "      <td>rwd</td>\n",
       "      <td>front</td>\n",
       "      <td>88.6</td>\n",
       "      <td>...</td>\n",
       "      <td>130</td>\n",
       "      <td>mpfi</td>\n",
       "      <td>3.47</td>\n",
       "      <td>2.68</td>\n",
       "      <td>9.0</td>\n",
       "      <td>111.0</td>\n",
       "      <td>5000.0</td>\n",
       "      <td>21</td>\n",
       "      <td>27</td>\n",
       "      <td>13495.0</td>\n",
       "    </tr>\n",
       "    <tr>\n",
       "      <th>1</th>\n",
       "      <td>3</td>\n",
       "      <td>NaN</td>\n",
       "      <td>alfa-romero</td>\n",
       "      <td>gas</td>\n",
       "      <td>std</td>\n",
       "      <td>two</td>\n",
       "      <td>convertible</td>\n",
       "      <td>rwd</td>\n",
       "      <td>front</td>\n",
       "      <td>88.6</td>\n",
       "      <td>...</td>\n",
       "      <td>130</td>\n",
       "      <td>mpfi</td>\n",
       "      <td>3.47</td>\n",
       "      <td>2.68</td>\n",
       "      <td>9.0</td>\n",
       "      <td>111.0</td>\n",
       "      <td>5000.0</td>\n",
       "      <td>21</td>\n",
       "      <td>27</td>\n",
       "      <td>16500.0</td>\n",
       "    </tr>\n",
       "    <tr>\n",
       "      <th>2</th>\n",
       "      <td>1</td>\n",
       "      <td>NaN</td>\n",
       "      <td>alfa-romero</td>\n",
       "      <td>gas</td>\n",
       "      <td>std</td>\n",
       "      <td>two</td>\n",
       "      <td>hatchback</td>\n",
       "      <td>rwd</td>\n",
       "      <td>front</td>\n",
       "      <td>94.5</td>\n",
       "      <td>...</td>\n",
       "      <td>152</td>\n",
       "      <td>mpfi</td>\n",
       "      <td>2.68</td>\n",
       "      <td>3.47</td>\n",
       "      <td>9.0</td>\n",
       "      <td>154.0</td>\n",
       "      <td>5000.0</td>\n",
       "      <td>19</td>\n",
       "      <td>26</td>\n",
       "      <td>16500.0</td>\n",
       "    </tr>\n",
       "    <tr>\n",
       "      <th>3</th>\n",
       "      <td>2</td>\n",
       "      <td>164.0</td>\n",
       "      <td>audi</td>\n",
       "      <td>gas</td>\n",
       "      <td>std</td>\n",
       "      <td>four</td>\n",
       "      <td>sedan</td>\n",
       "      <td>fwd</td>\n",
       "      <td>front</td>\n",
       "      <td>99.8</td>\n",
       "      <td>...</td>\n",
       "      <td>109</td>\n",
       "      <td>mpfi</td>\n",
       "      <td>3.19</td>\n",
       "      <td>3.40</td>\n",
       "      <td>10.0</td>\n",
       "      <td>102.0</td>\n",
       "      <td>5500.0</td>\n",
       "      <td>24</td>\n",
       "      <td>30</td>\n",
       "      <td>13950.0</td>\n",
       "    </tr>\n",
       "    <tr>\n",
       "      <th>4</th>\n",
       "      <td>2</td>\n",
       "      <td>164.0</td>\n",
       "      <td>audi</td>\n",
       "      <td>gas</td>\n",
       "      <td>std</td>\n",
       "      <td>four</td>\n",
       "      <td>sedan</td>\n",
       "      <td>4wd</td>\n",
       "      <td>front</td>\n",
       "      <td>99.4</td>\n",
       "      <td>...</td>\n",
       "      <td>136</td>\n",
       "      <td>mpfi</td>\n",
       "      <td>3.19</td>\n",
       "      <td>3.40</td>\n",
       "      <td>8.0</td>\n",
       "      <td>115.0</td>\n",
       "      <td>5500.0</td>\n",
       "      <td>18</td>\n",
       "      <td>22</td>\n",
       "      <td>17450.0</td>\n",
       "    </tr>\n",
       "  </tbody>\n",
       "</table>\n",
       "<p>5 rows × 26 columns</p>\n",
       "</div>"
      ],
      "text/plain": [
       "   symboling  normalized-losses         make fuel-type aspiration doors  \\\n",
       "0          3                NaN  alfa-romero       gas        std   two   \n",
       "1          3                NaN  alfa-romero       gas        std   two   \n",
       "2          1                NaN  alfa-romero       gas        std   two   \n",
       "3          2              164.0         audi       gas        std  four   \n",
       "4          2              164.0         audi       gas        std  four   \n",
       "\n",
       "     bodystyle drive enginelocation  wheelbase  ...  enginesize  fuelsystem  \\\n",
       "0  convertible   rwd          front       88.6  ...         130        mpfi   \n",
       "1  convertible   rwd          front       88.6  ...         130        mpfi   \n",
       "2    hatchback   rwd          front       94.5  ...         152        mpfi   \n",
       "3        sedan   fwd          front       99.8  ...         109        mpfi   \n",
       "4        sedan   4wd          front       99.4  ...         136        mpfi   \n",
       "\n",
       "   bore  stroke compression     hp     rpm citympg  highwaympg    price  \n",
       "0  3.47    2.68         9.0  111.0  5000.0      21          27  13495.0  \n",
       "1  3.47    2.68         9.0  111.0  5000.0      21          27  16500.0  \n",
       "2  2.68    3.47         9.0  154.0  5000.0      19          26  16500.0  \n",
       "3  3.19    3.40        10.0  102.0  5500.0      24          30  13950.0  \n",
       "4  3.19    3.40         8.0  115.0  5500.0      18          22  17450.0  \n",
       "\n",
       "[5 rows x 26 columns]"
      ]
     },
     "execution_count": 1,
     "metadata": {},
     "output_type": "execute_result"
    }
   ],
   "source": [
    "import pandas as pd\n",
    "import numpy as np\n",
    "from sklearn.preprocessing import StandardScaler\n",
    "\n",
    "df = pd.read_csv('cars.csv')\n",
    "df.head()"
   ]
  },
  {
   "cell_type": "code",
   "execution_count": 2,
   "metadata": {},
   "outputs": [],
   "source": [
    "df = df.fillna(0)\n",
    "\n",
    "y = df[['price']]\n",
    "X = df.drop(['price'],axis=1)"
   ]
  },
  {
   "cell_type": "code",
   "execution_count": 3,
   "metadata": {},
   "outputs": [
    {
     "name": "stdout",
     "output_type": "stream",
     "text": [
      "Converting  make\n",
      "Converting  fuel-type\n",
      "Converting  aspiration\n",
      "Converting  doors\n",
      "Converting  bodystyle\n",
      "Converting  drive\n",
      "Converting  enginelocation\n",
      "Converting  enginetype\n",
      "Converting  numcyl\n",
      "Converting  fuelsystem\n"
     ]
    }
   ],
   "source": [
    "for column in X.columns:\n",
    "    if X[column].dtype == np.object:\n",
    "        print('Converting ', column)\n",
    "        X = pd.concat([X,pd.get_dummies(X[column], prefix=column, drop_first=True)],axis=1).drop([column],axis=1)"
   ]
  },
  {
   "cell_type": "markdown",
   "metadata": {},
   "source": [
    "## Create the model"
   ]
  },
  {
   "cell_type": "markdown",
   "metadata": {},
   "source": [
    "Creating train and test set and standardising:"
   ]
  },
  {
   "cell_type": "code",
   "execution_count": 4,
   "metadata": {},
   "outputs": [],
   "source": [
    "from sklearn.model_selection import train_test_split\n",
    "from sklearn.metrics import mean_squared_error as mse\n",
    "from sklearn.preprocessing import StandardScaler\n",
    "\n",
    "X = StandardScaler().fit_transform(X)\n",
    "y = StandardScaler().fit_transform(y)\n",
    "\n",
    "X_train, X_test, y_train, y_test = train_test_split(X, y, test_size = 0.3)"
   ]
  },
  {
   "cell_type": "markdown",
   "metadata": {},
   "source": [
    "### Baselines"
   ]
  },
  {
   "cell_type": "code",
   "execution_count": 5,
   "metadata": {},
   "outputs": [
    {
     "name": "stdout",
     "output_type": "stream",
     "text": [
      "RMSE: 0.6375896829908441\n",
      "RMSE: 0.2838598182648678\n"
     ]
    },
    {
     "name": "stderr",
     "output_type": "stream",
     "text": [
      "/anaconda3/lib/python3.6/site-packages/ipykernel_launcher.py:11: DataConversionWarning: A column-vector y was passed when a 1d array was expected. Please change the shape of y to (n_samples,), for example using ravel().\n",
      "  # This is added back by InteractiveShellApp.init_path()\n"
     ]
    }
   ],
   "source": [
    "from sklearn.ensemble import RandomForestRegressor\n",
    "from sklearn.linear_model import LinearRegression\n",
    "\n",
    "lr = LinearRegression()\n",
    "lr.fit(X_train,y_train)\n",
    "prediction = lr.predict(X_test)\n",
    "\n",
    "print('RMSE:', np.sqrt(mse(y_test,prediction)))\n",
    "\n",
    "rf = RandomForestRegressor(n_estimators=100)\n",
    "rf.fit(X_train,y_train)\n",
    "prediction = rf.predict(X_test)\n",
    "\n",
    "print('RMSE:', np.sqrt(mse(y_test,prediction)))"
   ]
  },
  {
   "cell_type": "markdown",
   "metadata": {},
   "source": [
    "### Create your neural network"
   ]
  },
  {
   "cell_type": "markdown",
   "metadata": {},
   "source": [
    "Incorporate the following:\n",
    "- 2 different kernels in hidden layer.\n",
    "- 2 different output kernels.\n",
    "- Different sizes for the hidden layers.\n",
    "- Different number of hidden layers.\n",
    "- Use 10 epochs."
   ]
  },
  {
   "cell_type": "markdown",
   "metadata": {},
   "source": [
    "Here, create your model compatible with Keras:"
   ]
  },
  {
   "cell_type": "code",
   "execution_count": 6,
   "metadata": {},
   "outputs": [
    {
     "name": "stderr",
     "output_type": "stream",
     "text": [
      "Using TensorFlow backend.\n",
      "/anaconda3/lib/python3.6/site-packages/tensorflow/python/framework/dtypes.py:526: FutureWarning: Passing (type, 1) or '1type' as a synonym of type is deprecated; in a future version of numpy, it will be understood as (type, (1,)) / '(1,)type'.\n",
      "  _np_qint8 = np.dtype([(\"qint8\", np.int8, 1)])\n",
      "/anaconda3/lib/python3.6/site-packages/tensorflow/python/framework/dtypes.py:527: FutureWarning: Passing (type, 1) or '1type' as a synonym of type is deprecated; in a future version of numpy, it will be understood as (type, (1,)) / '(1,)type'.\n",
      "  _np_quint8 = np.dtype([(\"quint8\", np.uint8, 1)])\n",
      "/anaconda3/lib/python3.6/site-packages/tensorflow/python/framework/dtypes.py:528: FutureWarning: Passing (type, 1) or '1type' as a synonym of type is deprecated; in a future version of numpy, it will be understood as (type, (1,)) / '(1,)type'.\n",
      "  _np_qint16 = np.dtype([(\"qint16\", np.int16, 1)])\n",
      "/anaconda3/lib/python3.6/site-packages/tensorflow/python/framework/dtypes.py:529: FutureWarning: Passing (type, 1) or '1type' as a synonym of type is deprecated; in a future version of numpy, it will be understood as (type, (1,)) / '(1,)type'.\n",
      "  _np_quint16 = np.dtype([(\"quint16\", np.uint16, 1)])\n",
      "/anaconda3/lib/python3.6/site-packages/tensorflow/python/framework/dtypes.py:530: FutureWarning: Passing (type, 1) or '1type' as a synonym of type is deprecated; in a future version of numpy, it will be understood as (type, (1,)) / '(1,)type'.\n",
      "  _np_qint32 = np.dtype([(\"qint32\", np.int32, 1)])\n",
      "/anaconda3/lib/python3.6/site-packages/tensorflow/python/framework/dtypes.py:535: FutureWarning: Passing (type, 1) or '1type' as a synonym of type is deprecated; in a future version of numpy, it will be understood as (type, (1,)) / '(1,)type'.\n",
      "  np_resource = np.dtype([(\"resource\", np.ubyte, 1)])\n"
     ]
    }
   ],
   "source": [
    "from keras.models import Sequential\n",
    "from keras.layers.core import Dense, Activation\n",
    "from keras.optimizers import Adam\n",
    "\n",
    "def nn_model(no_neurons,no_layers,kernel,output_kernel):\n",
    "    model = Sequential()\n",
    "    model.add(Dense(no_neurons,input_dim=input_dim))\n",
    "    model.add(Activation(kernel))\n",
    "\n",
    "    # Extra hidden layers\n",
    "    for _ in range(0,no_layers):\n",
    "        model.add(Dense(no_neurons))\n",
    "        model.add(Activation(kernel))\n",
    "\n",
    "    # Output\n",
    "    model.add(Dense(output_dim))\n",
    "    model.add(Activation(output_kernel))\n",
    "    model.compile(optimizer=Adam(),loss='mean_squared_error',metrics=['mean_squared_error'])\n",
    "        \n",
    "    return model"
   ]
  },
  {
   "cell_type": "markdown",
   "metadata": {},
   "source": [
    "Here, run your grid search (10 epochs):"
   ]
  },
  {
   "cell_type": "code",
   "execution_count": 7,
   "metadata": {},
   "outputs": [
    {
     "name": "stdout",
     "output_type": "stream",
     "text": [
      "WARNING:tensorflow:From /anaconda3/lib/python3.6/site-packages/tensorflow/python/framework/op_def_library.py:263: colocate_with (from tensorflow.python.framework.ops) is deprecated and will be removed in a future version.\n",
      "Instructions for updating:\n",
      "Colocations handled automatically by placer.\n",
      "WARNING:tensorflow:From /anaconda3/lib/python3.6/site-packages/tensorflow/python/ops/math_ops.py:3066: to_int32 (from tensorflow.python.ops.math_ops) is deprecated and will be removed in a future version.\n",
      "Instructions for updating:\n",
      "Use tf.cast instead.\n",
      "Mean RMSE (+/- standard deviation), for parameters\n",
      "0.859 (+/- 0.700) for {'kernel': 'relu', 'no_layers': 1, 'no_neurons': 50, 'output_kernel': 'linear', 'verbose': 0}\n",
      "0.884 (+/- 0.666) for {'kernel': 'relu', 'no_layers': 1, 'no_neurons': 50, 'output_kernel': 'sigmoid', 'verbose': 0}\n",
      "0.803 (+/- 0.647) for {'kernel': 'relu', 'no_layers': 1, 'no_neurons': 100, 'output_kernel': 'linear', 'verbose': 0}\n",
      "0.840 (+/- 0.617) for {'kernel': 'relu', 'no_layers': 1, 'no_neurons': 100, 'output_kernel': 'sigmoid', 'verbose': 0}\n",
      "0.770 (+/- 0.603) for {'kernel': 'relu', 'no_layers': 2, 'no_neurons': 50, 'output_kernel': 'linear', 'verbose': 0}\n",
      "0.887 (+/- 0.705) for {'kernel': 'relu', 'no_layers': 2, 'no_neurons': 50, 'output_kernel': 'sigmoid', 'verbose': 0}\n",
      "0.799 (+/- 0.682) for {'kernel': 'relu', 'no_layers': 2, 'no_neurons': 100, 'output_kernel': 'linear', 'verbose': 0}\n",
      "0.827 (+/- 0.626) for {'kernel': 'relu', 'no_layers': 2, 'no_neurons': 100, 'output_kernel': 'sigmoid', 'verbose': 0}\n",
      "1.002 (+/- 0.716) for {'kernel': 'linear', 'no_layers': 1, 'no_neurons': 50, 'output_kernel': 'linear', 'verbose': 0}\n",
      "0.969 (+/- 0.602) for {'kernel': 'linear', 'no_layers': 1, 'no_neurons': 50, 'output_kernel': 'sigmoid', 'verbose': 0}\n",
      "0.849 (+/- 0.655) for {'kernel': 'linear', 'no_layers': 1, 'no_neurons': 100, 'output_kernel': 'linear', 'verbose': 0}\n",
      "0.964 (+/- 0.593) for {'kernel': 'linear', 'no_layers': 1, 'no_neurons': 100, 'output_kernel': 'sigmoid', 'verbose': 0}\n",
      "1.074 (+/- 0.800) for {'kernel': 'linear', 'no_layers': 2, 'no_neurons': 50, 'output_kernel': 'linear', 'verbose': 0}\n",
      "0.995 (+/- 0.601) for {'kernel': 'linear', 'no_layers': 2, 'no_neurons': 50, 'output_kernel': 'sigmoid', 'verbose': 0}\n",
      "0.800 (+/- 0.539) for {'kernel': 'linear', 'no_layers': 2, 'no_neurons': 100, 'output_kernel': 'linear', 'verbose': 0}\n",
      "0.983 (+/- 0.584) for {'kernel': 'linear', 'no_layers': 2, 'no_neurons': 100, 'output_kernel': 'sigmoid', 'verbose': 0}\n"
     ]
    }
   ],
   "source": [
    "from keras.wrappers.scikit_learn import KerasRegressor\n",
    "from sklearn.model_selection import GridSearchCV\n",
    "\n",
    "input_dim = X.shape[1]\n",
    "output_dim = 1\n",
    "\n",
    "parameters = {'no_neurons':[50,100],'kernel':['relu','linear'],'output_kernel':['linear','sigmoid'],'no_layers':[1,2],'verbose':[0]} \n",
    "\n",
    "grid_search = GridSearchCV(KerasRegressor(nn_model), parameters, cv=5,scoring='neg_mean_squared_error')\n",
    "grid_search.fit(X, y,epochs=10)\n",
    "\n",
    "means = grid_search.cv_results_['mean_test_score']\n",
    "stds = grid_search.cv_results_['std_test_score']\n",
    "\n",
    "print('Mean RMSE (+/- standard deviation), for parameters')\n",
    "for mean, std, params in zip(means, stds, grid_search.cv_results_['params']):\n",
    "    print(\"%0.3f (+/- %0.03f) for %r\"\n",
    "          # The MSE is return as a negative, so we multiple it with -1 before squaring it\n",
    "          % (np.sqrt(-1*mean), np.sqrt(std), params))"
   ]
  },
  {
   "cell_type": "markdown",
   "metadata": {},
   "source": [
    "It seems that there is quite some difference between using the sigmiod and linear output kernel. The former gives a lower RMSE. The better results are obtained using ReLU as the activation function in the hidden layers."
   ]
  },
  {
   "cell_type": "markdown",
   "metadata": {},
   "source": [
    "Smaller hidden layers:"
   ]
  },
  {
   "cell_type": "code",
   "execution_count": 9,
   "metadata": {},
   "outputs": [
    {
     "name": "stdout",
     "output_type": "stream",
     "text": [
      "Mean RMSE (+/- standard deviation), for parameters\n",
      "1.694 (+/- 1.085) for {'kernel': 'relu', 'no_layers': 0, 'no_neurons': 10, 'output_kernel': 'linear', 'verbose': 0}\n",
      "1.605 (+/- 0.993) for {'kernel': 'relu', 'no_layers': 0, 'no_neurons': 10, 'output_kernel': 'sigmoid', 'verbose': 0}\n",
      "1.657 (+/- 0.974) for {'kernel': 'relu', 'no_layers': 0, 'no_neurons': 20, 'output_kernel': 'linear', 'verbose': 0}\n",
      "1.511 (+/- 1.084) for {'kernel': 'relu', 'no_layers': 0, 'no_neurons': 20, 'output_kernel': 'sigmoid', 'verbose': 0}\n",
      "1.590 (+/- 1.064) for {'kernel': 'relu', 'no_layers': 1, 'no_neurons': 10, 'output_kernel': 'linear', 'verbose': 0}\n",
      "1.472 (+/- 1.117) for {'kernel': 'relu', 'no_layers': 1, 'no_neurons': 10, 'output_kernel': 'sigmoid', 'verbose': 0}\n",
      "1.400 (+/- 1.046) for {'kernel': 'relu', 'no_layers': 1, 'no_neurons': 20, 'output_kernel': 'linear', 'verbose': 0}\n",
      "1.405 (+/- 1.050) for {'kernel': 'relu', 'no_layers': 1, 'no_neurons': 20, 'output_kernel': 'sigmoid', 'verbose': 0}\n",
      "1.674 (+/- 1.024) for {'kernel': 'linear', 'no_layers': 0, 'no_neurons': 10, 'output_kernel': 'linear', 'verbose': 0}\n",
      "1.656 (+/- 1.101) for {'kernel': 'linear', 'no_layers': 0, 'no_neurons': 10, 'output_kernel': 'sigmoid', 'verbose': 0}\n",
      "1.661 (+/- 1.055) for {'kernel': 'linear', 'no_layers': 0, 'no_neurons': 20, 'output_kernel': 'linear', 'verbose': 0}\n",
      "1.664 (+/- 1.039) for {'kernel': 'linear', 'no_layers': 0, 'no_neurons': 20, 'output_kernel': 'sigmoid', 'verbose': 0}\n",
      "1.649 (+/- 1.099) for {'kernel': 'linear', 'no_layers': 1, 'no_neurons': 10, 'output_kernel': 'linear', 'verbose': 0}\n",
      "1.674 (+/- 0.987) for {'kernel': 'linear', 'no_layers': 1, 'no_neurons': 10, 'output_kernel': 'sigmoid', 'verbose': 0}\n",
      "1.645 (+/- 1.050) for {'kernel': 'linear', 'no_layers': 1, 'no_neurons': 20, 'output_kernel': 'linear', 'verbose': 0}\n",
      "1.697 (+/- 1.039) for {'kernel': 'linear', 'no_layers': 1, 'no_neurons': 20, 'output_kernel': 'sigmoid', 'verbose': 0}\n"
     ]
    }
   ],
   "source": [
    "from keras.wrappers.scikit_learn import KerasClassifier\n",
    "from sklearn.model_selection import GridSearchCV\n",
    "\n",
    "input_dim = X.shape[1]\n",
    "output_dim = 1\n",
    "\n",
    "parameters = {'no_neurons':[10,20],'kernel':['relu','linear'],'output_kernel':['linear','sigmoid'],'no_layers':[0,1],'verbose':[0]} \n",
    "\n",
    "grid_search = GridSearchCV(KerasClassifier(nn_model), parameters, cv=5,scoring='neg_mean_squared_error')\n",
    "grid_search.fit(X, y,epochs=10)\n",
    "\n",
    "means = grid_search.cv_results_['mean_test_score']\n",
    "stds = grid_search.cv_results_['std_test_score']\n",
    "\n",
    "print('Mean RMSE (+/- standard deviation), for parameters')\n",
    "for mean, std, params in zip(means, stds, grid_search.cv_results_['params']):\n",
    "    print(\"%0.3f (+/- %0.03f) for %r\"\n",
    "          # The MSE is return as a negative, so we multiple it with -1 before squaring it\n",
    "          % (np.sqrt(-1*mean), np.sqrt(std), params))"
   ]
  },
  {
   "cell_type": "markdown",
   "metadata": {},
   "source": [
    "We clearly have a higher error rate, meaning that a bigger network pays off in this case."
   ]
  },
  {
   "cell_type": "markdown",
   "metadata": {},
   "source": [
    "Let's try more epochs for the smaller hidden layers:"
   ]
  },
  {
   "cell_type": "code",
   "execution_count": 8,
   "metadata": {},
   "outputs": [
    {
     "name": "stdout",
     "output_type": "stream",
     "text": [
      "Mean RMSE (+/- standard deviation), for parameters\n",
      "1.492 (+/- 1.105) for {'kernel': 'relu', 'no_layers': 0, 'no_neurons': 10, 'output_kernel': 'linear', 'verbose': 0}\n",
      "1.493 (+/- 1.057) for {'kernel': 'relu', 'no_layers': 0, 'no_neurons': 10, 'output_kernel': 'sigmoid', 'verbose': 0}\n",
      "1.485 (+/- 1.073) for {'kernel': 'relu', 'no_layers': 0, 'no_neurons': 20, 'output_kernel': 'linear', 'verbose': 0}\n",
      "1.460 (+/- 1.061) for {'kernel': 'relu', 'no_layers': 0, 'no_neurons': 20, 'output_kernel': 'sigmoid', 'verbose': 0}\n",
      "1.408 (+/- 1.080) for {'kernel': 'relu', 'no_layers': 1, 'no_neurons': 10, 'output_kernel': 'linear', 'verbose': 0}\n",
      "1.394 (+/- 1.046) for {'kernel': 'relu', 'no_layers': 1, 'no_neurons': 10, 'output_kernel': 'sigmoid', 'verbose': 0}\n",
      "1.394 (+/- 1.046) for {'kernel': 'relu', 'no_layers': 1, 'no_neurons': 20, 'output_kernel': 'linear', 'verbose': 0}\n",
      "1.394 (+/- 1.046) for {'kernel': 'relu', 'no_layers': 1, 'no_neurons': 20, 'output_kernel': 'sigmoid', 'verbose': 0}\n",
      "1.719 (+/- 0.994) for {'kernel': 'linear', 'no_layers': 0, 'no_neurons': 10, 'output_kernel': 'linear', 'verbose': 0}\n",
      "1.796 (+/- 1.190) for {'kernel': 'linear', 'no_layers': 0, 'no_neurons': 10, 'output_kernel': 'sigmoid', 'verbose': 0}\n",
      "1.767 (+/- 1.020) for {'kernel': 'linear', 'no_layers': 0, 'no_neurons': 20, 'output_kernel': 'linear', 'verbose': 0}\n",
      "1.800 (+/- 1.198) for {'kernel': 'linear', 'no_layers': 0, 'no_neurons': 20, 'output_kernel': 'sigmoid', 'verbose': 0}\n",
      "1.836 (+/- 1.164) for {'kernel': 'linear', 'no_layers': 1, 'no_neurons': 10, 'output_kernel': 'linear', 'verbose': 0}\n",
      "1.796 (+/- 1.191) for {'kernel': 'linear', 'no_layers': 1, 'no_neurons': 10, 'output_kernel': 'sigmoid', 'verbose': 0}\n",
      "1.812 (+/- 1.196) for {'kernel': 'linear', 'no_layers': 1, 'no_neurons': 20, 'output_kernel': 'linear', 'verbose': 0}\n",
      "1.783 (+/- 1.202) for {'kernel': 'linear', 'no_layers': 1, 'no_neurons': 20, 'output_kernel': 'sigmoid', 'verbose': 0}\n"
     ]
    }
   ],
   "source": [
    "from keras.wrappers.scikit_learn import KerasClassifier\n",
    "from sklearn.model_selection import GridSearchCV\n",
    "\n",
    "input_dim = X.shape[1]\n",
    "output_dim = 1\n",
    "\n",
    "parameters = {'no_neurons':[10,20],'kernel':['relu','linear'],'output_kernel':['linear','sigmoid'],'no_layers':[0,1],'verbose':[0]} \n",
    "\n",
    "grid_search = GridSearchCV(KerasClassifier(nn_model), parameters, cv=5,scoring='neg_mean_squared_error')\n",
    "grid_search.fit(X, y,epochs=100)\n",
    "\n",
    "means = grid_search.cv_results_['mean_test_score']\n",
    "stds = grid_search.cv_results_['std_test_score']\n",
    "\n",
    "print('Mean RMSE (+/- standard deviation), for parameters')\n",
    "for mean, std, params in zip(means, stds, grid_search.cv_results_['params']):\n",
    "    print(\"%0.3f (+/- %0.03f) for %r\"\n",
    "          # The MSE is return as a negative, so we multiple it with -1 before squaring it\n",
    "          % (np.sqrt(-1*mean), np.sqrt(std), params))"
   ]
  },
  {
   "cell_type": "markdown",
   "metadata": {},
   "source": [
    "No difference here except for the reLU kernel based ones. we might be overfitting in the other cases."
   ]
  }
 ],
 "metadata": {
  "kernelspec": {
   "display_name": "Python 3",
   "language": "python",
   "name": "python3"
  },
  "language_info": {
   "codemirror_mode": {
    "name": "ipython",
    "version": 3
   },
   "file_extension": ".py",
   "mimetype": "text/x-python",
   "name": "python",
   "nbconvert_exporter": "python",
   "pygments_lexer": "ipython3",
   "version": "3.6.8"
  }
 },
 "nbformat": 4,
 "nbformat_minor": 2
}
