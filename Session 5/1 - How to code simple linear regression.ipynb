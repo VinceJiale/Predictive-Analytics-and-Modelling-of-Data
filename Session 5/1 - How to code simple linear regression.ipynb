{
 "cells": [
  {
   "cell_type": "markdown",
   "metadata": {},
   "source": [
    "# How to code simple linear regression\n",
    "\n",
    "First, let's build a linear regression model using the *statsmodels* package. This package builds several statistical models and provides a nice output summary of the linear regression model."
   ]
  },
  {
   "cell_type": "code",
   "execution_count": 1,
   "metadata": {},
   "outputs": [],
   "source": [
    "import numpy as np\n",
    "import matplotlib.pyplot as plt\n",
    "import pandas as pd\n",
    "import statsmodels.api as sm\n",
    "\n",
    "#We will build a statistical linear regression model first\n",
    "#If we would be using linear regression just for prediction, we use sklearn\n",
    "\n",
    "#Make the data\n",
    "#y are box offce revenues, x: advertising. All variables are expressed in 000s\n",
    "#Linear regression accepts Pandas DataFrame \n",
    "d = {\"y\":[23,12,36,27,45],\"x\":[29,49,89,110,210]}\n",
    "data = pd.DataFrame(data = d)\n",
    "\n",
    "#We seperate the predictor and the response\n",
    "#Linear regression only accepts a dataframe as input for the predictors\n",
    "#so we use [[]] to select x from the data\n",
    "x = data[['x']] \n",
    "y = data['y']"
   ]
  },
  {
   "cell_type": "code",
   "execution_count": 2,
   "metadata": {},
   "outputs": [
    {
     "name": "stdout",
     "output_type": "stream",
     "text": [
      "                            OLS Regression Results                            \n",
      "==============================================================================\n",
      "Dep. Variable:                      y   R-squared:                       0.690\n",
      "Model:                            OLS   Adj. R-squared:                  0.587\n",
      "Method:                 Least Squares   F-statistic:                     6.677\n",
      "Date:                Tue, 06 Oct 2020   Prob (F-statistic):             0.0815\n",
      "Time:                        17:01:55   Log-Likelihood:                -16.270\n",
      "No. Observations:                   5   AIC:                             36.54\n",
      "Df Residuals:                       3   BIC:                             35.76\n",
      "Df Model:                           1                                         \n",
      "Covariance Type:            nonrobust                                         \n",
      "==============================================================================\n",
      "                 coef    std err          t      P>|t|      [0.025      0.975]\n",
      "------------------------------------------------------------------------------\n",
      "const         14.1786      6.651      2.132      0.123      -6.987      35.344\n",
      "x              0.1481      0.057      2.584      0.081      -0.034       0.330\n",
      "==============================================================================\n",
      "Omnibus:                          nan   Durbin-Watson:                   3.457\n",
      "Prob(Omnibus):                    nan   Jarque-Bera (JB):                0.299\n",
      "Skew:                          -0.116   Prob(JB):                        0.861\n",
      "Kurtosis:                       1.825   Cond. No.                         213.\n",
      "==============================================================================\n",
      "\n",
      "Warnings:\n",
      "[1] Standard Errors assume that the covariance matrix of the errors is correctly specified.\n"
     ]
    },
    {
     "name": "stderr",
     "output_type": "stream",
     "text": [
      "/opt/conda/lib/python3.7/site-packages/statsmodels/stats/stattools.py:71: ValueWarning: omni_normtest is not valid with less than 8 observations; 5 samples were given.\n",
      "  \"samples were given.\" % int(n), ValueWarning)\n"
     ]
    }
   ],
   "source": [
    "#The statsmodels package does not add an intercept by default\n",
    "#First,we need to add a constant\n",
    "xint = sm.add_constant(x)\n",
    "\n",
    "#Fit an OLS model\n",
    "linreg = sm.OLS(y,xint).fit()\n",
    "print(linreg.summary())"
   ]
  },
  {
   "cell_type": "code",
   "execution_count": 4,
   "metadata": {},
   "outputs": [
    {
     "data": {
      "image/png": "[encoded data removed]",
      "text/plain": [
       "<Figure size 432x288 with 1 Axes>"
      ]
     },
     "metadata": {
      "needs_background": "light"
     },
     "output_type": "display_data"
    }
   ],
   "source": [
    "#Make a scatterplot of the data and add the regression line: y_i =14.179+0.1481x_i\n",
    "plt.scatter(x,y)\n",
    "plt.plot(x,14.179 + 0.1481*x,'b-')\n",
    "plt.show()"
   ]
  }
 ],
 "metadata": {
  "kernelspec": {
   "display_name": "Python 3",
   "language": "python",
   "name": "python3"
  },
  "language_info": {
   "codemirror_mode": {
    "name": "ipython",
    "version": 3
   },
   "file_extension": ".py",
   "mimetype": "text/x-python",
   "name": "python",
   "nbconvert_exporter": "python",
   "pygments_lexer": "ipython3",
   "version": "3.7.6"
  }
 },
 "nbformat": 4,
 "nbformat_minor": 2
}
