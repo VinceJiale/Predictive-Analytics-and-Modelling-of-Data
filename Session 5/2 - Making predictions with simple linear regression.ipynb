{
 "cells": [
  {
   "cell_type": "markdown",
   "metadata": {},
   "source": [
    "# Making predictions with simple linear regression\n",
    "\n",
    "You have learned how to model a simple linear regression model with the *statsmodels* package. We are now going to look at how to make predictions using this model. There are two packages in Python to do this: *statsmodels* and *sklearn*. First, let's see how to make a prediction with the *statsmodels* package. "
   ]
  },
  {
   "cell_type": "code",
   "execution_count": 1,
   "metadata": {},
   "outputs": [
    {
     "name": "stderr",
     "output_type": "stream",
     "text": [
      "C:\\Anaconda\\lib\\site-packages\\statsmodels\\compat\\pandas.py:56: FutureWarning: The pandas.core.datetools module is deprecated and will be removed in a future version. Please use the pandas.tseries module instead.\n",
      "  from pandas.core import datetools\n"
     ]
    },
    {
     "name": "stdout",
     "output_type": "stream",
     "text": [
      "8    36.895146\n",
      "1    23.789109\n",
      "5    49.103509\n",
      "dtype: float64\n"
     ]
    }
   ],
   "source": [
    "import numpy as np\n",
    "import matplotlib.pyplot as plt\n",
    "import pandas as pd\n",
    "import statsmodels.api as sm\n",
    "\n",
    "#Import the data box office revenues\n",
    "#Since we will be making predictions, let's load 10 observations\n",
    "d = {\"y\":[23,12,36,27,45,70,55,8,62,28],\"x\":[29,49,89,110,210,190,153,20,122,41]}\n",
    "data = pd.DataFrame(data = d)\n",
    "\n",
    "#To make predictions, we have to make a split between a train and a test set\n",
    "#Use the train_test_split function from sklearn to do so\n",
    "from sklearn.model_selection import train_test_split\n",
    "\n",
    "#Make a train and test split (70/30)\n",
    "train, test = train_test_split(data, test_size=0.30, random_state=42)\n",
    "\n",
    "#Build a statsmodels SLR\n",
    "#Add the intercept\n",
    "train = sm.add_constant(train)\n",
    "test = sm.add_constant(test)\n",
    "\n",
    "#Fit an OLS model and make a prediction\n",
    "linreg = sm.OLS(train[[\"y\"]],train[[\"const\",\"x\"]]).fit()\n",
    "pred_stats = linreg.predict(test[[\"const\",\"x\"]])\n",
    "\n",
    "#The predictions of our test set data\n",
    "print(pred_stats)"
   ]
  },
  {
   "cell_type": "markdown",
   "metadata": {},
   "source": [
    "Now that we have the predictions, we can evaluate prediction accuracy. We will evaluate our simple linear regression model using the mean absolute error (MAE), root mean squared error (RMSE), and the R-squared on the test set."
   ]
  },
  {
   "cell_type": "code",
   "execution_count": 2,
   "metadata": {},
   "outputs": [
    {
     "name": "stdout",
     "output_type": "stream",
     "text": [
      "MAE: 19.2634848922\n",
      "RMSE: 20.049107665\n",
      "R-squared test: 0.389726642464\n",
      "R-squared train: 0.678779457109\n"
     ]
    }
   ],
   "source": [
    "from sklearn.metrics import mean_absolute_error as mae\n",
    "from sklearn.metrics import mean_squared_error as mse\n",
    "from sklearn.metrics import r2_score as r2\n",
    "\n",
    "print(\"MAE: \"+str(mae(test[[\"y\"]],pred_stats)))\n",
    "print(\"RMSE: \"+str(np.sqrt(mse(test[[\"y\"]],pred_stats))))\n",
    "print(\"R-squared test: \"+str(r2(test[[\"y\"]],pred_stats)))\n",
    "print(\"R-squared train: \"+str(linreg.rsquared))"
   ]
  },
  {
   "cell_type": "markdown",
   "metadata": {},
   "source": [
    "As you can see, the R-squared on the training set is higher than on the test set. This is logical since OLS fits the paramaters on the training set such that the R-squared is maximised. The R-squared on the test set will thus be lower by definition and will also be a better reflection of the true explanatory power of your model. \n",
    "\n",
    "Now, let's make predictions wih the *sklearn* package. This package is the go-to package for predictive analytics in Python. Since it is focused on predicting, it does not have a nice output summary for simple linear regression. So, if you are interested in interpreting the model, *statsmodels* might be more suitable. However, for true predictive purposes, *sklearn* might be more convenient."
   ]
  },
  {
   "cell_type": "code",
   "execution_count": 3,
   "metadata": {},
   "outputs": [
    {
     "name": "stdout",
     "output_type": "stream",
     "text": [
      "intercept: [ 14.99190618]\n",
      "x: [[ 0.17953475]]\n"
     ]
    },
    {
     "data": {
      "text/plain": [
       "True"
      ]
     },
     "execution_count": 3,
     "metadata": {},
     "output_type": "execute_result"
    }
   ],
   "source": [
    "from sklearn.linear_model import LinearRegression\n",
    "\n",
    "#Since sklearn automatically adds the intercept, let's make the train/test splits again\n",
    "train, test = train_test_split(data,test_size=0.3, random_state=42)\n",
    "\n",
    "#Initiate the linear regression model\n",
    "lm = LinearRegression()\n",
    "\n",
    "#Fit the model\n",
    "lm.fit(train[['x']],train[['y']])\n",
    "\n",
    "#We can have a look at intercept and the coefficient\n",
    "print(\"intercept: \" + str(lm.intercept_))\n",
    "print(\"x: \" + str(lm.coef_))\n",
    "\n",
    "#Make predictions \n",
    "pred_sk = lm.predict(test[[\"x\"]])\n",
    "\n",
    "#Check whether the results of statsmodels and sklearn are the same\n",
    "pred_sk.all()==pred_stats.all()"
   ]
  },
  {
   "cell_type": "code",
   "execution_count": 4,
   "metadata": {},
   "outputs": [
    {
     "name": "stdout",
     "output_type": "stream",
     "text": [
      "MAE: 19.2634848922\n",
      "RMSE1: 20.049107665\n",
      "R-squared test: 0.389726642464\n",
      "R-squared train: 0.678779457109\n"
     ]
    }
   ],
   "source": [
    "#Evaluate performance\n",
    "print(\"MAE: \"+str(mae(test[[\"y\"]],pred_sk)))\n",
    "print(\"RMSE1: \"+str(np.sqrt(mse(test[[\"y\"]],pred_sk))))\n",
    "print(\"R-squared test: \"+str(r2(test[[\"y\"]],pred_sk)))\n",
    "print(\"R-squared train: \"+str(lm.score(train[[\"x\"]],train[[\"y\"]])))"
   ]
  },
  {
   "cell_type": "code",
   "execution_count": 5,
   "metadata": {},
   "outputs": [
    {
     "data": {
      "image/png": "[encoded data removed]",
      "text/plain": [
       "<matplotlib.figure.Figure at 0x1f544cc54e0>"
      ]
     },
     "metadata": {},
     "output_type": "display_data"
    }
   ],
   "source": [
    "#Make a plot of the training set and regression line\n",
    "plt.scatter(train[[\"x\"]], train[[\"y\"]],  color='black')\n",
    "\n",
    "regression_line = lm.intercept_ + lm.coef_*train[[\"x\"]]\n",
    "plt.plot(train[[\"x\"]], regression_line, color = 'blue',  linewidth = 3)\n",
    "\n",
    "plt.show()"
   ]
  },
  {
   "cell_type": "code",
   "execution_count": 6,
   "metadata": {},
   "outputs": [
    {
     "data": {
      "image/png": "[encoded data removed]",
      "text/plain": [
       "<matplotlib.figure.Figure at 0x1f54a7f84e0>"
      ]
     },
     "metadata": {},
     "output_type": "display_data"
    }
   ],
   "source": [
    "#Make plot of the predictions \n",
    "plt.scatter(test[[\"x\"]], test[[\"y\"]],  color='black')\n",
    "plt.plot(test[[\"x\"]], pred_sk, color='blue', linewidth=3)\n",
    "\n",
    "plt.xticks(())\n",
    "plt.yticks(())\n",
    "\n",
    "plt.show()"
   ]
  }
 ],
 "metadata": {
  "kernelspec": {
   "display_name": "Python 3",
   "language": "python",
   "name": "python3"
  },
  "language_info": {
   "codemirror_mode": {
    "name": "ipython",
    "version": 3
   },
   "file_extension": ".py",
   "mimetype": "text/x-python",
   "name": "python",
   "nbconvert_exporter": "python",
   "pygments_lexer": "ipython3",
   "version": "3.6.3"
  }
 },
 "nbformat": 4,
 "nbformat_minor": 2
}
