{
 "cells": [
  {
   "cell_type": "markdown",
   "metadata": {},
   "source": [
    "# Bootstrap"
   ]
  },
  {
   "cell_type": "markdown",
   "metadata": {
    "nbgrader": {
     "grade": false,
     "locked": true,
     "solution": false
    }
   },
   "source": [
    "Bootstrapping is not supported in scikit-learn anymore. There are other techniques we can use, and other sampling methods in the cross-validation function. A common one is addressed below."
   ]
  },
  {
   "cell_type": "markdown",
   "metadata": {},
   "source": [
    "## The data"
   ]
  },
  {
   "cell_type": "markdown",
   "metadata": {
    "nbgrader": {
     "grade": false,
     "locked": true,
     "solution": false
    }
   },
   "source": [
    "First, loading data again:"
   ]
  },
  {
   "cell_type": "code",
   "execution_count": 1,
   "metadata": {
    "collapsed": true,
    "nbgrader": {
     "grade": false,
     "locked": true,
     "solution": false
    }
   },
   "outputs": [],
   "source": [
    "import numpy as np\n",
    "from sklearn.model_selection import train_test_split\n",
    "from sklearn.datasets import make_classification\n",
    "from sklearn.linear_model import LogisticRegression\n",
    "\n",
    "classifier = LogisticRegression(solver='liblinear')\n",
    "\n",
    "X,y = make_classification(n_samples=20, n_features=10,\n",
    "                               n_informative=2, n_redundant=0, n_repeated=0,\n",
    "                               n_classes=2,\n",
    "                               n_clusters_per_class=1,\n",
    "                               weights=(0.7,0.3),\n",
    "                               class_sep=0.99, random_state=14)\n",
    "\n",
    "\n",
    "# You already know about training and test splits:\n",
    "X_train, X_test, y_train, y_test = train_test_split(\n",
    "        X, y, test_size=0.3, random_state=42)"
   ]
  },
  {
   "cell_type": "markdown",
   "metadata": {},
   "source": [
    "## The ShuffleSplit function"
   ]
  },
  {
   "cell_type": "markdown",
   "metadata": {
    "nbgrader": {
     "grade": false,
     "locked": true,
     "solution": false
    }
   },
   "source": [
    "Now let's look at said function. ShuffleSplit is performing cross-validation, but shuffles the data after each iteration to avoid a deterministic training and test set. Hence, some training and test sets have overlapping instances:"
   ]
  },
  {
   "cell_type": "code",
   "execution_count": 2,
   "metadata": {},
   "outputs": [
    {
     "name": "stdout",
     "output_type": "stream",
     "text": [
      "Training indices: [ 3  0 16  9 11 14 18 19 15 17 12  8  2  6] Test indices: [ 5  7  1 10 13  4]\n",
      "Training indices: [ 7 17 14 12  1  5  4  8  2  3 16  6 15 18] Test indices: [19 13  9 11  0 10]\n",
      "Training indices: [ 0  5 15  7  2 12  6 17  3 19  8  1  4 16] Test indices: [13 10 11  9 14 18]\n",
      "Training indices: [13  0 10  7  6  1  5  8 14 19 18 15 17  3] Test indices: [ 2 12 16  4 11  9]\n",
      "Training indices: [16  2 11 18 17  6  3  5  7  9 15  4 12 14] Test indices: [ 0  8 19 13 10  1]\n",
      "Training indices: [ 2  4 17  5 19  9 15  3  8 10  0 16 18 11] Test indices: [ 7 14 12  1 13  6]\n",
      "Training indices: [18 12 11  5 19  9 10  7  3 14  2 13 17  0] Test indices: [ 4  8 15  6 16  1]\n",
      "Training indices: [12 13 10 18  9 17  0 11  4  1  5  6 15  7] Test indices: [ 8 14 16  2  3 19]\n",
      "Training indices: [14 13 17 12  9  7 18  6 15  8 11  1  4 10] Test indices: [19  0  5  2  3 16]\n",
      "Training indices: [ 1 11 18 16  6 13 19 15 10  9  8  5 14  7] Test indices: [ 2  0  4 12 17  3]\n"
     ]
    }
   ],
   "source": [
    "from sklearn.model_selection import ShuffleSplit\n",
    "from sklearn.model_selection import cross_validate\n",
    "\n",
    "metrics = ['accuracy']\n",
    "ss = ShuffleSplit(n_splits = 10, test_size=0.3)\n",
    "\n",
    "# Printing the indices:\n",
    "for train_index, test_index in ss.split(X):\n",
    "    print(\"Training indices:\", train_index, \"Test indices:\", test_index)"
   ]
  },
  {
   "cell_type": "code",
   "execution_count": 3,
   "metadata": {},
   "outputs": [
    {
     "name": "stdout",
     "output_type": "stream",
     "text": [
      "\n",
      "Metrics: \n",
      "fit_time value: [0.00080991 0.00051403 0.000561   0.00050068 0.00039959 0.00039387\n",
      " 0.00045919 0.00040078 0.00061893 0.00070691]\n",
      "score_time value: [0.00032234 0.00037289 0.00026035 0.00029945 0.00031805 0.00036788\n",
      " 0.00031376 0.00030112 0.00036454 0.00032401]\n",
      "test_accuracy value: [1.  0.8 0.8 1.  0.6 0.4 0.6 0.6 0.8 0.4]\n"
     ]
    }
   ],
   "source": [
    "print(\"\\nMetrics: \")\n",
    "outcomes = cross_validate(classifier, X_train, y_train, scoring=metrics, cv=ss, return_train_score=False)\n",
    "for metric in outcomes.keys():\n",
    "    print(metric+\" value: \"+str(outcomes[metric]))"
   ]
  },
  {
   "cell_type": "markdown",
   "metadata": {
    "nbgrader": {
     "grade": false,
     "locked": true,
     "solution": false
    }
   },
   "source": [
    "Notice how some samples are returning in the test sets."
   ]
  },
  {
   "cell_type": "markdown",
   "metadata": {},
   "source": [
    "## Stratified shuffling"
   ]
  },
  {
   "cell_type": "markdown",
   "metadata": {
    "nbgrader": {
     "grade": false,
     "locked": true,
     "solution": false
    }
   },
   "source": [
    "A stratified version exists as well:"
   ]
  },
  {
   "cell_type": "code",
   "execution_count": 4,
   "metadata": {},
   "outputs": [
    {
     "name": "stdout",
     "output_type": "stream",
     "text": [
      "fit_time value: [0.00055051 0.00058889 0.00043964 0.00036931 0.00030208 0.00030017\n",
      " 0.00029993 0.00032496 0.00030494 0.00030375]\n",
      "score_time value: [0.00025678 0.0002501  0.00034833 0.00021386 0.00019121 0.00018954\n",
      " 0.00019073 0.00019264 0.00018954 0.00018835]\n",
      "test_accuracy value: [0.8 0.6 0.8 0.8 1.  0.8 0.6 0.6 0.8 0.8]\n"
     ]
    }
   ],
   "source": [
    "from sklearn.model_selection import StratifiedShuffleSplit\n",
    "\n",
    "metrics = ['accuracy']\n",
    "ss = StratifiedShuffleSplit(n_splits = 10, test_size=0.3)\n",
    "\n",
    "outcomes = cross_validate(classifier, X_train, y_train, scoring=metrics, cv=ss, return_train_score=False)\n",
    "\n",
    "for metric in outcomes.keys():\n",
    "    print(metric+\" value: \"+str(outcomes[metric]))"
   ]
  }
 ],
 "metadata": {
  "kernelspec": {
   "display_name": "Python 3 [3.6]",
   "language": "python",
   "name": "python3"
  },
  "language_info": {
   "codemirror_mode": {
    "name": "ipython",
    "version": 3
   },
   "file_extension": ".py",
   "mimetype": "text/x-python",
   "name": "python",
   "nbconvert_exporter": "python",
   "pygments_lexer": "ipython3",
   "version": "3.6.4"
  }
 },
 "nbformat": 4,
 "nbformat_minor": 2
}
