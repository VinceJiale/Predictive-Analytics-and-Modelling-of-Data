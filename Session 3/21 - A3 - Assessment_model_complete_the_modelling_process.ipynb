{
 "cells": [
  {
   "cell_type": "markdown",
   "metadata": {},
   "source": [
    "# Part 3: Modelling"
   ]
  },
  {
   "cell_type": "markdown",
   "metadata": {},
   "source": [
    "If you run all the code in the notebook, make sure to do it cell-by-cell, as the graphs in one of the last cells will disappear unless you find the correct answer.\n",
    "\n",
    "Let's first reload the dataset we obtained after pre-processing and transformation:"
   ]
  },
  {
   "cell_type": "code",
   "execution_count": 1,
   "metadata": {},
   "outputs": [
    {
     "name": "stdout",
     "output_type": "stream",
     "text": [
      "   Occupation  Marital_Status  Purchase_Sum  annual_income  \\\n",
      "0    0.288734               0     -0.452944      -0.434067   \n",
      "1    1.233680               0     -0.467259      -0.275620   \n",
      "2    1.076189               0     -0.345577      -0.457494   \n",
      "3   -0.183740               1     -0.183788      -0.082992   \n",
      "4    1.863644               1     -0.338420      -0.025106   \n",
      "\n",
      "   number_of_children  proximity_town    sum  Age_18-25  Age_26-35  Age_36-45  \\\n",
      "0            1.050259       -0.797397  38891          0          0          0   \n",
      "1           -0.982428       -0.750248  37417          0          0          0   \n",
      "2            0.033916       -0.731928  49947          0          1          0   \n",
      "3           -0.982428       -0.796079  66607          0          0          0   \n",
      "4            0.033916       -0.788903  50684          0          1          0   \n",
      "\n",
      "   ...  Age_51-55  Age_55+  Gender_M  City_Category_B  City_Category_C  \\\n",
      "0  ...          0        0         0                0                0   \n",
      "1  ...          0        1         1                0                1   \n",
      "2  ...          0        0         1                0                0   \n",
      "3  ...          0        0         1                1                0   \n",
      "4  ...          0        0         1                0                0   \n",
      "\n",
      "   Stay_In_Current_City_Years_1  Stay_In_Current_City_Years_2  \\\n",
      "0                             0                             1   \n",
      "1                             0                             0   \n",
      "2                             0                             0   \n",
      "3                             0                             1   \n",
      "4                             1                             0   \n",
      "\n",
      "   Stay_In_Current_City_Years_3  Stay_In_Current_City_Years_4+  outlier  \n",
      "0                             0                              0        1  \n",
      "1                             0                              1        1  \n",
      "2                             1                              0        1  \n",
      "3                             0                              0        1  \n",
      "4                             0                              0        1  \n",
      "\n",
      "[5 rows x 21 columns]\n"
     ]
    }
   ],
   "source": [
    "import pandas as pd\n",
    "import numpy as np\n",
    "import matplotlib.pyplot as plt\n",
    "\n",
    "dataset = pd.read_csv('CS_transformed_data.csv', index_col=0)\n",
    "print(dataset.head())"
   ]
  },
  {
   "cell_type": "markdown",
   "metadata": {},
   "source": [
    "## Model"
   ]
  },
  {
   "cell_type": "markdown",
   "metadata": {},
   "source": [
    "While this is not standard pratice, we are going to model the relationship of independent variables with the dependent variable separately. Given that the other variables are categorical, we will stick with the truly continuous ones: proximity to town and annual income.\n",
    "Write a linear regression for both, predicting the total purchase value:"
   ]
  },
  {
   "cell_type": "code",
   "execution_count": 2,
   "metadata": {
    "nbgrader": {
     "grade": false,
     "grade_id": "fit_linear_regression",
     "locked": false,
     "schema_version": 1,
     "solution": true
    }
   },
   "outputs": [],
   "source": [
    "def fit_linear_regression(dataset, variable):\n",
    "    predictions = []\n",
    "    \n",
    "    ### BEGIN SOLUTION  \n",
    "    # Import the appropriate code\n",
    "    from sklearn.linear_model import LinearRegression\n",
    "    \n",
    "    # Create the correct datasets for modelling\n",
    "    y = dataset[['Purchase_Sum']]\n",
    "    X = dataset[[variable]]\n",
    "    \n",
    "    # Create a LinearRegression instance and use it to fit and predict the data\n",
    "\n",
    "    \n",
    "    ### END SOLUTION\n",
    "    \n",
    "    return predictions"
   ]
  },
  {
   "cell_type": "markdown",
   "metadata": {},
   "source": [
    "Your answer should be similar like the results below."
   ]
  },
  {
   "cell_type": "code",
   "execution_count": 4,
   "metadata": {
    "nbgrader": {
     "grade": true,
     "grade_id": "fit_linear_regression",
     "locked": true,
     "points": "10",
     "schema_version": 1,
     "solution": false
    }
   },
   "outputs": [
    {
     "data": {
      "image/png": "[encoded data removed]",
      "text/plain": [
       "<Figure size 432x288 with 1 Axes>"
      ]
     },
     "metadata": {
      "needs_background": "light"
     },
     "output_type": "display_data"
    },
    {
     "data": {
      "image/png": "[encoded data removed]",
      "text/plain": [
       "<Figure size 432x288 with 1 Axes>"
      ]
     },
     "metadata": {
      "needs_background": "light"
     },
     "output_type": "display_data"
    }
   ],
   "source": [
    "predictions_ai = fit_linear_regression(dataset, 'annual_income')\n",
    "predictions_town = fit_linear_regression(dataset, 'proximity_town')\n",
    "\n",
    "plt.title('annual_income')\n",
    "plt.scatter(dataset[['annual_income']], dataset[['Purchase_Sum']], color = 'blue')\n",
    "plt.scatter(dataset[['annual_income']], predictions_ai, color = 'red')\n",
    "plt.show()\n",
    "\n",
    "plt.title('proximity_town')\n",
    "plt.scatter(dataset[['proximity_town']], dataset[['Purchase_Sum']], color = 'blue')\n",
    "plt.scatter(dataset[['proximity_town']], predictions_town, color = 'red')\n",
    "plt.show()"
   ]
  },
  {
   "cell_type": "markdown",
   "metadata": {},
   "source": [
    "## Evaluation"
   ]
  },
  {
   "cell_type": "markdown",
   "metadata": {},
   "source": [
    "For now, let's stick to a qualitative evaluation: by looking at the graphs.\n",
    "Clearly, it seems we can easily use the annual income to predict the purchase sum. The relationship is almost perfectly linear.\n",
    "The proximity to town is too scattered, and the linear regression is returned as a flat curve.\n",
    "Even without quantifying this, we can see the quality of both results."
   ]
  }
 ],
 "metadata": {
  "celltoolbar": "Create Assignment",
  "kernelspec": {
   "display_name": "Python 3",
   "language": "python",
   "name": "python3"
  },
  "language_info": {
   "codemirror_mode": {
    "name": "ipython",
    "version": 3
   },
   "file_extension": ".py",
   "mimetype": "text/x-python",
   "name": "python",
   "nbconvert_exporter": "python",
   "pygments_lexer": "ipython3",
   "version": "3.7.6"
  }
 },
 "nbformat": 4,
 "nbformat_minor": 2
}
