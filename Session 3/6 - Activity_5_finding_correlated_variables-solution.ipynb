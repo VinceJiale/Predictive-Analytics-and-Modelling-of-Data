{
 "cells": [
  {
   "cell_type": "markdown",
   "metadata": {},
   "source": [
    "# Finding correlated variables"
   ]
  },
  {
   "cell_type": "markdown",
   "metadata": {},
   "source": [
    "In this activity, you will look for variables in a dataset that have a high correlation with many other variables. This is not the best selection criteria to remove variables, but helps you to understand and work with the code for correlation analysis."
   ]
  },
  {
   "cell_type": "markdown",
   "metadata": {},
   "source": [
    "## The data"
   ]
  },
  {
   "cell_type": "code",
   "execution_count": 1,
   "metadata": {
    "nbgrader": {
     "grade": false,
     "grade_id": "cell-cba0a227b404aa21",
     "locked": true,
     "solution": false
    }
   },
   "outputs": [
    {
     "name": "stdout",
     "output_type": "stream",
     "text": [
      "Variable 0\t normalized-losses\n",
      "Variable 1\t wheelbase\n",
      "Variable 2\t length\n",
      "Variable 3\t width\n",
      "Variable 4\t height\n",
      "Variable 5\t bore\n",
      "Variable 6\t stroke\n",
      "Variable 7\t compression\n",
      "Variable 8\t hp\n",
      "Variable 9\t rpm\n",
      "Variable 10\t price\n"
     ]
    }
   ],
   "source": [
    "##### added line to ensure plots are showing\n",
    "#matplotlib inline\n",
    "#####\n",
    "\n",
    "import numpy as np\n",
    "import matplotlib.pyplot as plt\n",
    "import pandas as pd\n",
    "\n",
    "from pandas.plotting import scatter_matrix\n",
    "from sklearn import datasets\n",
    "\n",
    "# Use this code if you need large figures (on high-resolution screens)\n",
    "#plt.rcParams[\"figure.dpi\"] = 144\n",
    "\n",
    "data = pd.read_csv(\"cars.csv\",sep=',')\n",
    "\n",
    "# Only retain the continuous variables for this exercise\n",
    "data = data.select_dtypes(include=['float64']).copy()\n",
    "data = data.dropna()\n",
    "\n",
    "# Print the various variables to get to know them\n",
    "for index, name in zip(range(0,len(data.columns)),data.columns):\n",
    "    print('Variable '+str(index)+'\\t '+name)"
   ]
  },
  {
   "cell_type": "markdown",
   "metadata": {},
   "source": [
    "## Correlation information"
   ]
  },
  {
   "cell_type": "markdown",
   "metadata": {
    "nbgrader": {
     "grade": false,
     "grade_id": "cell-42110cf5ed49b28d",
     "locked": true,
     "solution": false
    }
   },
   "source": [
    "Print the correlation:"
   ]
  },
  {
   "cell_type": "code",
   "execution_count": 2,
   "metadata": {
    "nbgrader": {
     "grade": false,
     "grade_id": "cell-45c7a2fde8448fa1",
     "locked": true,
     "solution": false
    }
   },
   "outputs": [
    {
     "name": "stdout",
     "output_type": "stream",
     "text": [
      "                   normalized-losses  wheelbase    length     width    height  \\\n",
      "normalized-losses           1.000000  -0.064001  0.029114  0.104857 -0.417081   \n",
      "wheelbase                  -0.064001   1.000000  0.871968  0.815935  0.558764   \n",
      "length                      0.029114   0.871968  1.000000  0.839184  0.505156   \n",
      "width                       0.104857   0.815935  0.839184  1.000000  0.298403   \n",
      "height                     -0.417081   0.558764  0.505156  0.298403  1.000000   \n",
      "bore                       -0.036167   0.580484  0.649059  0.575048  0.261501   \n",
      "stroke                      0.065627   0.164012  0.116049  0.192891 -0.095364   \n",
      "compression                -0.129971   0.293968  0.188968  0.261530  0.237432   \n",
      "hp                          0.290906   0.514507  0.666726  0.678779  0.032264   \n",
      "rpm                         0.240676  -0.292491 -0.239104 -0.235906 -0.251236   \n",
      "price                       0.199924   0.734789  0.760323  0.843316  0.247500   \n",
      "\n",
      "                       bore    stroke  compression        hp       rpm  \\\n",
      "normalized-losses -0.036167  0.065627    -0.129971  0.290906  0.240676   \n",
      "wheelbase          0.580484  0.164012     0.293968  0.514507 -0.292491   \n",
      "length             0.649059  0.116049     0.188968  0.666726 -0.239104   \n",
      "width              0.575048  0.192891     0.261530  0.678779 -0.235906   \n",
      "height             0.261501 -0.095364     0.237432  0.032264 -0.251236   \n",
      "bore               1.000000 -0.105464     0.019216  0.557107 -0.315841   \n",
      "stroke            -0.105464  1.000000     0.240895  0.149315 -0.008569   \n",
      "compression        0.019216  0.240895     1.000000 -0.162894 -0.418726   \n",
      "hp                 0.557107  0.149315    -0.162894  1.000000  0.074932   \n",
      "rpm               -0.315841 -0.008569    -0.418726  0.074932  1.000000   \n",
      "price              0.534891  0.158798     0.210948  0.758582 -0.173970   \n",
      "\n",
      "                      price  \n",
      "normalized-losses  0.199924  \n",
      "wheelbase          0.734789  \n",
      "length             0.760323  \n",
      "width              0.843316  \n",
      "height             0.247500  \n",
      "bore               0.534891  \n",
      "stroke             0.158798  \n",
      "compression        0.210948  \n",
      "hp                 0.758582  \n",
      "rpm               -0.173970  \n",
      "price              1.000000  \n"
     ]
    }
   ],
   "source": [
    "correlation = data.corr()\n",
    "print(correlation)"
   ]
  },
  {
   "cell_type": "markdown",
   "metadata": {
    "nbgrader": {
     "grade": false,
     "grade_id": "cell-75bfd6d493ec685d",
     "locked": true,
     "solution": false
    }
   },
   "source": [
    "Make the correlation plot:"
   ]
  },
  {
   "cell_type": "code",
   "execution_count": 3,
   "metadata": {
    "nbgrader": {
     "grade": false,
     "grade_id": "cell-109b3fb29ce5d321",
     "locked": true,
     "solution": false
    }
   },
   "outputs": [
    {
     "data": {
      "image/png": "[encoded data removed]",
      "text/plain": [
       "<Figure size 432x288 with 2 Axes>"
      ]
     },
     "metadata": {
      "needs_background": "light"
     },
     "output_type": "display_data"
    }
   ],
   "source": [
    "fig = plt.figure()\n",
    "ax = fig.add_subplot(111)\n",
    "cax = ax.matshow(correlation, vmin=-1, vmax=1)\n",
    "fig.colorbar(cax)\n",
    "ticks = np.arange(0,len(data.columns),1)\n",
    "ax.set_xticks(ticks)\n",
    "ax.set_yticks(ticks)\n",
    "\n",
    "for tick in ax.get_xticklabels():\n",
    "    tick.set_rotation(60)\n",
    "\n",
    "ax.set_xticklabels(data.columns)\n",
    "ax.set_yticklabels(data.columns)\n",
    "plt.show()"
   ]
  },
  {
   "cell_type": "markdown",
   "metadata": {},
   "source": [
    "## Finding the correlated variables"
   ]
  },
  {
   "cell_type": "markdown",
   "metadata": {
    "nbgrader": {
     "grade": false,
     "grade_id": "cell-f00e3d38cfc517dd",
     "locked": true,
     "solution": false
    }
   },
   "source": [
    "Create a function that removes variables that have a higher average (absolute) correlation with the other variables (make sure to take the absolute correlation between variables) than a certain threshold. Return them as a list of their column names to_remove. This allows us to find variables that are too correlated with many other variables and hence might cause problems in our dataset. "
   ]
  },
  {
   "cell_type": "code",
   "execution_count": 4,
   "metadata": {
    "nbgrader": {
     "grade": true,
     "grade_id": "remove_variables",
     "locked": false,
     "points": 0,
     "schema_version": 1,
     "solution": true
    }
   },
   "outputs": [],
   "source": [
    "def remove_variables(data, threshold):\n",
    "    to_remove = []\n",
    "    correlation = data.corr()\n",
    "    \n",
    "    ### BEGIN SOLUTION\n",
    "    # Loop the correlation matrix for every variable\n",
    "    for var_1 in correlation:\n",
    "        \n",
    "        # If the mean absolute correlation of the variable is higher than the threshold, add to the removal list\n",
    "        if np.mean(abs(correlation[var_1])) > threshold:\n",
    "            to_remove.append(var_1)\n",
    "    ### END SOLUTION\n",
    "    \n",
    "    return sorted(to_remove)"
   ]
  },
  {
   "cell_type": "markdown",
   "metadata": {
    "nbgrader": {
     "grade": false,
     "grade_id": "cell-056121a6d323ad8a",
     "locked": true,
     "solution": false
    }
   },
   "source": [
    "Verify your answer by checking the variables that should be removed:"
   ]
  },
  {
   "cell_type": "markdown",
   "metadata": {},
   "source": [
    "## The result"
   ]
  },
  {
   "cell_type": "markdown",
   "metadata": {
    "nbgrader": {
     "grade": false,
     "grade_id": "cell-cfb52320db8274ec",
     "locked": true,
     "solution": false
    }
   },
   "source": [
    "Let's now visualise the dataset without the highly correlated variables visually at a threshold of 40%:"
   ]
  },
  {
   "cell_type": "code",
   "execution_count": 5,
   "metadata": {
    "nbgrader": {
     "grade": false,
     "locked": false,
     "solution": false
    }
   },
   "outputs": [
    {
     "data": {
      "image/png": "[encoded data removed]",
      "text/plain": [
       "<Figure size 432x288 with 2 Axes>"
      ]
     },
     "metadata": {
      "needs_background": "light"
     },
     "output_type": "display_data"
    }
   ],
   "source": [
    "# remove the columns from the data\n",
    "to_remove = remove_variables(data,0.4)\n",
    "data_high = data.drop(to_remove,axis=1)\n",
    "correlation = data_high.corr()\n",
    "\n",
    "fig = plt.figure()\n",
    "ax = fig.add_subplot(111)\n",
    "cax = ax.matshow(correlation, vmin=-1, vmax=1)\n",
    "fig.colorbar(cax)\n",
    "#\n",
    "ticks = np.arange(0,len(data_high.columns),1)\n",
    "ax.set_xticks(ticks)\n",
    "ax.set_yticks(ticks)\n",
    "\n",
    "for tick in ax.get_xticklabels():\n",
    "    tick.set_rotation(60)\n",
    "\n",
    "ax.set_xticklabels(data_high.columns)\n",
    "ax.set_yticklabels(data_high.columns)\n",
    "plt.show()"
   ]
  },
  {
   "cell_type": "markdown",
   "metadata": {
    "nbgrader": {
     "grade": false,
     "grade_id": "cell-4d1048dba7cd131f",
     "locked": true,
     "solution": false
    }
   },
   "source": [
    "The correlation is now much lower. However, some peaks still exist, such as the correlation between compression and rpm. Using this serves rather as a starting point for finding variables that cause problematic correlations."
   ]
  }
 ],
 "metadata": {
  "kernelspec": {
   "display_name": "Python 3",
   "language": "python",
   "name": "python3"
  },
  "language_info": {
   "codemirror_mode": {
    "name": "ipython",
    "version": 3
   },
   "file_extension": ".py",
   "mimetype": "text/x-python",
   "name": "python",
   "nbconvert_exporter": "python",
   "pygments_lexer": "ipython3",
   "version": "3.7.6"
  }
 },
 "nbformat": 4,
 "nbformat_minor": 2
}
