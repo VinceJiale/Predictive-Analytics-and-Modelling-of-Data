{
 "cells": [
  {
   "cell_type": "markdown",
   "metadata": {},
   "source": [
    "# Optional Assessment: Compare linear regression models\n",
    "\n",
    "In this assessment, you are tasked with producing several linear regression models that explain box office revenues based on social media data. The dataset is *box_office_social_media.csv* and contains data about the Facebook likes and comments and Twitter followers and replies and the total gross revenues of a movie."
   ]
  },
  {
   "cell_type": "code",
   "execution_count": 1,
   "metadata": {},
   "outputs": [
    {
     "data": {
      "text/html": [
       "<div>\n",
       "<style scoped>\n",
       "    .dataframe tbody tr th:only-of-type {\n",
       "        vertical-align: middle;\n",
       "    }\n",
       "\n",
       "    .dataframe tbody tr th {\n",
       "        vertical-align: top;\n",
       "    }\n",
       "\n",
       "    .dataframe thead th {\n",
       "        text-align: right;\n",
       "    }\n",
       "</style>\n",
       "<table border=\"1\" class=\"dataframe\">\n",
       "  <thead>\n",
       "    <tr style=\"text-align: right;\">\n",
       "      <th></th>\n",
       "      <th>NrOfLikesFb</th>\n",
       "      <th>NrofCommentsFb</th>\n",
       "      <th>NrOfFollowersTw</th>\n",
       "      <th>NrofRepliesTw</th>\n",
       "      <th>Revenue</th>\n",
       "    </tr>\n",
       "  </thead>\n",
       "  <tbody>\n",
       "    <tr>\n",
       "      <th>count</th>\n",
       "      <td>1.000000e+02</td>\n",
       "      <td>100.000000</td>\n",
       "      <td>100.000000</td>\n",
       "      <td>100.000000</td>\n",
       "      <td>1.000000e+02</td>\n",
       "    </tr>\n",
       "    <tr>\n",
       "      <th>mean</th>\n",
       "      <td>7.636365e+05</td>\n",
       "      <td>11862.950000</td>\n",
       "      <td>15696.420000</td>\n",
       "      <td>432.340000</td>\n",
       "      <td>4.267951e+07</td>\n",
       "    </tr>\n",
       "    <tr>\n",
       "      <th>std</th>\n",
       "      <td>1.760275e+06</td>\n",
       "      <td>17170.871568</td>\n",
       "      <td>42940.057244</td>\n",
       "      <td>488.068306</td>\n",
       "      <td>5.575949e+07</td>\n",
       "    </tr>\n",
       "    <tr>\n",
       "      <th>min</th>\n",
       "      <td>2.346000e+03</td>\n",
       "      <td>8.000000</td>\n",
       "      <td>123.000000</td>\n",
       "      <td>11.000000</td>\n",
       "      <td>2.471600e+04</td>\n",
       "    </tr>\n",
       "    <tr>\n",
       "      <th>25%</th>\n",
       "      <td>6.410725e+04</td>\n",
       "      <td>1611.750000</td>\n",
       "      <td>1817.500000</td>\n",
       "      <td>137.250000</td>\n",
       "      <td>3.448721e+06</td>\n",
       "    </tr>\n",
       "    <tr>\n",
       "      <th>50%</th>\n",
       "      <td>1.895590e+05</td>\n",
       "      <td>5644.000000</td>\n",
       "      <td>4482.000000</td>\n",
       "      <td>314.000000</td>\n",
       "      <td>1.989631e+07</td>\n",
       "    </tr>\n",
       "    <tr>\n",
       "      <th>75%</th>\n",
       "      <td>6.119358e+05</td>\n",
       "      <td>14808.000000</td>\n",
       "      <td>13319.000000</td>\n",
       "      <td>568.750000</td>\n",
       "      <td>5.952901e+07</td>\n",
       "    </tr>\n",
       "    <tr>\n",
       "      <th>max</th>\n",
       "      <td>9.628565e+06</td>\n",
       "      <td>119309.000000</td>\n",
       "      <td>386992.000000</td>\n",
       "      <td>3185.000000</td>\n",
       "      <td>2.341681e+08</td>\n",
       "    </tr>\n",
       "  </tbody>\n",
       "</table>\n",
       "</div>"
      ],
      "text/plain": [
       "        NrOfLikesFb  NrofCommentsFb  NrOfFollowersTw  NrofRepliesTw  \\\n",
       "count  1.000000e+02      100.000000       100.000000     100.000000   \n",
       "mean   7.636365e+05    11862.950000     15696.420000     432.340000   \n",
       "std    1.760275e+06    17170.871568     42940.057244     488.068306   \n",
       "min    2.346000e+03        8.000000       123.000000      11.000000   \n",
       "25%    6.410725e+04     1611.750000      1817.500000     137.250000   \n",
       "50%    1.895590e+05     5644.000000      4482.000000     314.000000   \n",
       "75%    6.119358e+05    14808.000000     13319.000000     568.750000   \n",
       "max    9.628565e+06   119309.000000    386992.000000    3185.000000   \n",
       "\n",
       "            Revenue  \n",
       "count  1.000000e+02  \n",
       "mean   4.267951e+07  \n",
       "std    5.575949e+07  \n",
       "min    2.471600e+04  \n",
       "25%    3.448721e+06  \n",
       "50%    1.989631e+07  \n",
       "75%    5.952901e+07  \n",
       "max    2.341681e+08  "
      ]
     },
     "execution_count": 1,
     "metadata": {},
     "output_type": "execute_result"
    }
   ],
   "source": [
    "import numpy as np\n",
    "import matplotlib.pyplot as plt\n",
    "import pandas as pd\n",
    "\n",
    "#Read in the data \n",
    "boxoffice = pd.read_csv(\"box_office_social_media.csv\")\n",
    "boxoffice.describe()"
   ]
  },
  {
   "cell_type": "markdown",
   "metadata": {},
   "source": [
    "First of all, we see that the srpead in the dependent variable is quite large. Also, most box office revenue models transform the dependent variable by taking a log transformation. Since there are no zeros, we will take a normal log transformation. We will not conduct any other pre-processing of the data (e.g., removing outliers, normalizing the data, transforming independent variables, etc). "
   ]
  },
  {
   "cell_type": "code",
   "execution_count": 2,
   "metadata": {},
   "outputs": [],
   "source": [
    "#Make a log-transformation\n",
    "boxoffice[\"Revenue\"] = np.log(boxoffice.Revenue)"
   ]
  },
  {
   "cell_type": "markdown",
   "metadata": {},
   "source": [
    "# Simple linear regression\n",
    "\n",
    "First, you will make simple linear regression models on all predictors. I will first make the train-test splits that you will use thoughout the exercise.  "
   ]
  },
  {
   "cell_type": "code",
   "execution_count": 3,
   "metadata": {},
   "outputs": [],
   "source": [
    "np.random.seed(40) \n",
    "\n",
    "from sklearn.model_selection import train_test_split\n",
    "X = boxoffice[[\"NrOfLikesFb\", \"NrofCommentsFb\", \"NrOfFollowersTw\", \"NrofRepliesTw\"]]\n",
    "y = boxoffice.Revenue\n",
    "\n",
    "X_train, X_test, y_train, y_test = train_test_split(X, y, test_size=0.3)"
   ]
  },
  {
   "cell_type": "markdown",
   "metadata": {},
   "source": [
    "Now, you should make a function that creates simple linear regression models of of all independent variables. You should use the *scikit-learn* package and build the models on the training set. You should output all the regression models into a list. \n"
   ]
  },
  {
   "cell_type": "code",
   "execution_count": 4,
   "metadata": {
    "nbgrader": {
     "grade": false,
     "locked": false,
     "solution": false
    }
   },
   "outputs": [],
   "source": [
    "def make_SLR(X,y): \n",
    "    from sklearn.linear_model import LinearRegression\n",
    "    \n",
    "    variables = ['NrOfLikesFb','NrofCommentsFb','NrOfFollowersTw','NrofRepliesTw']\n",
    "    models = [None] * 4\n",
    "    \n",
    "    ### BEGIN SOLUTION\n",
    "    i = 0\n",
    "    for col in variables:\n",
    "        x = X[[col]]\n",
    "        lm =LinearRegression()\n",
    "        models[i] = lm.fit(x,y)\n",
    "        i += 1\n",
    "    ### END SOLUTION\n",
    "    \n",
    "    #Note the returned linear regression model should be in the same order as variables. \n",
    "    #So the first model has to be NrOfLikesFb, the second NrofCommentsFb, and so on.\n",
    "    \n",
    "    return models"
   ]
  },
  {
   "cell_type": "markdown",
   "metadata": {
    "collapsed": true
   },
   "source": [
    "Verify your results:"
   ]
  },
  {
   "cell_type": "code",
   "execution_count": 5,
   "metadata": {
    "nbgrader": {
     "grade": true,
     "grade_id": "check_slr",
     "locked": true,
     "points": "4",
     "solution": false
    }
   },
   "outputs": [],
   "source": [
    "slr_models = make_SLR(X= X_train, y = y_train)\n",
    "\n",
    "assert np.allclose((slr_models[0].intercept_, slr_models[0].coef_[0]),(15.609488173698871, 5.1671695107909227e-07))\n",
    "\n",
    "\n",
    "### BEGIN HIDDEN TESTS\n",
    "\n",
    "\n",
    "assert np.allclose((slr_models[1].intercept_, slr_models[1].coef_[0]),(15.265318469966811, 6.0628001418242879e-05))\n",
    "\n",
    "\n",
    "assert np.allclose((slr_models[2].intercept_, slr_models[2].coef_[0]),(15.769624755714137, 1.376551838293093e-05))\n",
    "\n",
    "\n",
    "assert np.allclose((slr_models[3].intercept_, slr_models[3].coef_[0]),(15.126197837099062, 0.0020155533841367981))\n",
    "\n",
    "\n",
    "### END HIDDEN TEST"
   ]
  },
  {
   "cell_type": "markdown",
   "metadata": {},
   "source": [
    "Now you should have made all the simple linear regression model. Have a look at the intercept and the slope. What do you notice? which predictor has the strongest effect on box office revenues? What is the R-squared to the simple linear regression models? Write these conclusions down, since you will have to discuss this in the next activity. "
   ]
  },
  {
   "cell_type": "markdown",
   "metadata": {},
   "source": [
    "# Multiple linear regression\n",
    "\n",
    "Nowm you will build multiple linear regression models. You have to build the following models: two models containing the likes and the colums, two models containing the Facebook and Twitter variables, and a model with all predictors. Again, it is up to you to interpret the coefficients and write down your conclusions. "
   ]
  },
  {
   "cell_type": "code",
   "execution_count": 6,
   "metadata": {
    "nbgrader": {
     "grade": false,
     "locked": false,
     "solution": false
    }
   },
   "outputs": [],
   "source": [
    "def make_MLR(X,y, variables):\n",
    "    \n",
    "    #This function only returns 1 model with a specific set of variables\n",
    "    \n",
    "    from sklearn.linear_model import LinearRegression\n",
    "    \n",
    "    x = X[variables]\n",
    "    \n",
    "    ### BEGIN SOLUTION \n",
    "    \n",
    "    lm = LinearRegression()\n",
    "    model = lm.fit(x,y)\n",
    "    \n",
    "    ### END SOLUTION\n",
    "    \n",
    "    return model"
   ]
  },
  {
   "cell_type": "markdown",
   "metadata": {},
   "source": [
    "Verify your answers: "
   ]
  },
  {
   "cell_type": "code",
   "execution_count": 7,
   "metadata": {
    "nbgrader": {
     "grade": true,
     "grade_id": "check_mlr",
     "locked": true,
     "points": "2",
     "solution": false
    }
   },
   "outputs": [],
   "source": [
    "#We will make all the models:\n",
    "lm_likes = make_MLR(X= X_train, y= y_train, variables= ['NrOfLikesFb','NrOfFollowersTw'])\n",
    "lm_talking = make_MLR(X= X_train, y= y_train, variables= ['NrofCommentsFb','NrofRepliesTw'])\n",
    "lm_Fb = make_MLR(X= X_train, y= y_train, variables= ['NrOfLikesFb','NrofCommentsFb'])\n",
    "lm_Tw = make_MLR(X= X_train, y= y_train, variables= ['NrOfFollowersTw','NrofRepliesTw'])\n",
    "lm_all = make_MLR(X= X_train, y= y_train, variables= ['NrOfLikesFb','NrofCommentsFb','NrOfFollowersTw','NrofRepliesTw'])\n",
    "\n",
    "\n",
    "assert np.allclose((lm_likes.intercept_, lm_likes.coef_[0], lm_likes.coef_[1]), \n",
    "                   (15.526154303083253, 4.4391961176389638e-07, 8.4075527425921782e-06))\n",
    "\n",
    "\n",
    "### BEGIN HIDDEN TESTS\n",
    "\n",
    "\n",
    "assert np.allclose((lm_talking.intercept_, lm_talking.coef_[0], lm_talking.coef_[1]), \n",
    "                   (14.99132819232663, 4.8143518699883124e-05, 0.0009842254399353783))\n",
    "\n",
    "\n",
    "assert np.allclose((lm_Fb.intercept_, lm_Fb.coef_[0], lm_Fb.coef_[1]), \n",
    "                   (15.277025943868374, 4.1442541480199368e-08, 5.7086227050407943e-05))\n",
    "\n",
    "\n",
    "assert np.allclose((lm_Tw.intercept_, lm_Tw.coef_[0], lm_Tw.coef_[1]), \n",
    "                   (15.166024532079879, 2.3401659335220929e-06, 0.0018342747618596952))\n",
    "\n",
    "\n",
    "assert np.allclose((lm_all.intercept_, lm_all.coef_[0], lm_all.coef_[1], lm_all.coef_[2], lm_all.coef_[3]), \n",
    "                   (15.053790882473528,1.0608497234696554e-07,3.8910849178628834e-05,3.4027697660251417e-06,0.00078424597337231996))\n",
    "\n",
    "\n",
    "### END HIDDEN TESTS"
   ]
  },
  {
   "cell_type": "markdown",
   "metadata": {},
   "source": [
    "Check the intercept and the coefficients of the multiple linear regression models and write down your conclusions for the next discussion section. "
   ]
  },
  {
   "cell_type": "markdown",
   "metadata": {},
   "source": [
    "Finally, we want to assess the predictive performance of all these models. All the models are normally made on the train set, so you will now evaluate their performance on the test set. "
   ]
  },
  {
   "cell_type": "code",
   "execution_count": 8,
   "metadata": {},
   "outputs": [],
   "source": [
    "def evaluate_performance(model, X, y):\n",
    "\n",
    "    #Return the RMSE, MAE, and R2 of the model\n",
    "    from sklearn.linear_model import LinearRegression\n",
    "    from sklearn.metrics import mean_squared_error as mse\n",
    "    from sklearn.metrics import mean_absolute_error as mae\n",
    "    from sklearn.metrics import r2_score as r2\n",
    "    from math import sqrt\n",
    "    \n",
    "    ### BEGIN SOLUTION\n",
    "    predictions = model.predict(X)\n",
    "    RMSE = sqrt(mse(y, predictions))\n",
    "    MAE = mae(y, predictions)\n",
    "    R2 = r2(y, predictions)\n",
    "    \n",
    "    measures = [RMSE, MAE, R2]\n",
    "    \n",
    "    ### END SOLUTION\n",
    "    \n",
    "    return measures"
   ]
  },
  {
   "cell_type": "markdown",
   "metadata": {
    "collapsed": true
   },
   "source": [
    "Verify your answers:"
   ]
  },
  {
   "cell_type": "code",
   "execution_count": 9,
   "metadata": {
    "nbgrader": {
     "grade": true,
     "grade_id": "check_performance",
     "locked": true,
     "points": "4",
     "solution": false
    }
   },
   "outputs": [],
   "source": [
    "evaluate_performance(model=lm_likes, X= X_test[['NrOfLikesFb','NrOfFollowersTw']], y=  y_test)\n",
    "\n",
    "assert np.allclose(evaluate_performance(model=lm_likes, X= X_test[['NrOfLikesFb','NrOfFollowersTw']], y=  y_test),\n",
    "                  (1.7007832761032557, 1.3282081135523005, 0.17475328369066268))\n",
    "\n",
    "\n",
    "### BEGIN HIDDEN TESTS\n",
    "\n",
    "\n",
    "assert np.allclose(evaluate_performance(model=lm_talking, X= X_test[['NrofCommentsFb','NrofRepliesTw']], y=  y_test),\n",
    "                  (1.6609099779256515, 1.3194545903400885, 0.21299400667403368))\n",
    "\n",
    "\n",
    "assert np.allclose(evaluate_performance(model=lm_Fb, X= X_test[['NrOfLikesFb','NrofCommentsFb']], y=  y_test),\n",
    "                  (1.6253601512775537, 1.2372103620416932, 0.2463233377969366))\n",
    "\n",
    "\n",
    "assert np.allclose(evaluate_performance(model=lm_Tw, X= X_test[['NrOfFollowersTw', 'NrofRepliesTw']], y=  y_test),\n",
    "                  (1.8506008910050995, 1.4795681849169782, 0.022962157064807309))\n",
    "\n",
    "\n",
    "assert np.allclose(evaluate_performance(model=lm_all, \n",
    "                                        X= X_test[['NrOfLikesFb','NrofCommentsFb','NrOfFollowersTw','NrofRepliesTw']], y=  y_test),\n",
    "                  (1.6311219570599929, 1.2803922157424248, 0.24097038809117377))\n",
    "\n",
    "\n",
    "### END HIDDEN TESTS"
   ]
  }
 ],
 "metadata": {
  "kernelspec": {
   "display_name": "Python 3",
   "language": "python",
   "name": "python3"
  },
  "language_info": {
   "codemirror_mode": {
    "name": "ipython",
    "version": 3
   },
   "file_extension": ".py",
   "mimetype": "text/x-python",
   "name": "python",
   "nbconvert_exporter": "python",
   "pygments_lexer": "ipython3",
   "version": "3.7.6"
  }
 },
 "nbformat": 4,
 "nbformat_minor": 2
}
