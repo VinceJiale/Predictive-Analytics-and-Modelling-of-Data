{
 "cells": [
  {
   "cell_type": "markdown",
   "metadata": {},
   "source": [
    "# Exercise: Build multiple models\n",
    "For this exercise, you will perform a multiple linear regression on the social media dataset. We already saw a simple linear regression example where we regressed number of Facebook friends on number of groups. In this new dataset, a couple of variables are added. So let's first have a look at our data before building a multiple linear regression model. After the data exploration, it is up to you to test the assumptions and to select the best linear regression model. \n",
    "\n",
    "\n",
    "## Data exploration"
   ]
  },
  {
   "cell_type": "code",
   "execution_count": 1,
   "metadata": {},
   "outputs": [
    {
     "data": {
      "text/html": [
       "<div>\n",
       "<style scoped>\n",
       "    .dataframe tbody tr th:only-of-type {\n",
       "        vertical-align: middle;\n",
       "    }\n",
       "\n",
       "    .dataframe tbody tr th {\n",
       "        vertical-align: top;\n",
       "    }\n",
       "\n",
       "    .dataframe thead th {\n",
       "        text-align: right;\n",
       "    }\n",
       "</style>\n",
       "<table border=\"1\" class=\"dataframe\">\n",
       "  <thead>\n",
       "    <tr style=\"text-align: right;\">\n",
       "      <th></th>\n",
       "      <th>LOR</th>\n",
       "      <th>NBRlikes</th>\n",
       "      <th>NBRgroups</th>\n",
       "      <th>NBRmusic</th>\n",
       "      <th>NBRcheckins</th>\n",
       "      <th>NBRmovies</th>\n",
       "      <th>NBRlinks</th>\n",
       "      <th>NBRfriends</th>\n",
       "      <th>female</th>\n",
       "    </tr>\n",
       "  </thead>\n",
       "  <tbody>\n",
       "    <tr>\n",
       "      <td>0</td>\n",
       "      <td>454.542650</td>\n",
       "      <td>2</td>\n",
       "      <td>9</td>\n",
       "      <td>5</td>\n",
       "      <td>0</td>\n",
       "      <td>1</td>\n",
       "      <td>0</td>\n",
       "      <td>280</td>\n",
       "      <td>1</td>\n",
       "    </tr>\n",
       "    <tr>\n",
       "      <td>1</td>\n",
       "      <td>27.638287</td>\n",
       "      <td>4</td>\n",
       "      <td>6</td>\n",
       "      <td>0</td>\n",
       "      <td>0</td>\n",
       "      <td>4</td>\n",
       "      <td>0</td>\n",
       "      <td>104</td>\n",
       "      <td>1</td>\n",
       "    </tr>\n",
       "    <tr>\n",
       "      <td>2</td>\n",
       "      <td>126.946725</td>\n",
       "      <td>17</td>\n",
       "      <td>24</td>\n",
       "      <td>129</td>\n",
       "      <td>0</td>\n",
       "      <td>79</td>\n",
       "      <td>0</td>\n",
       "      <td>1307</td>\n",
       "      <td>1</td>\n",
       "    </tr>\n",
       "    <tr>\n",
       "      <td>3</td>\n",
       "      <td>208.484745</td>\n",
       "      <td>1</td>\n",
       "      <td>4</td>\n",
       "      <td>11</td>\n",
       "      <td>0</td>\n",
       "      <td>3</td>\n",
       "      <td>0</td>\n",
       "      <td>269</td>\n",
       "      <td>0</td>\n",
       "    </tr>\n",
       "    <tr>\n",
       "      <td>4</td>\n",
       "      <td>718.958299</td>\n",
       "      <td>1</td>\n",
       "      <td>9</td>\n",
       "      <td>3</td>\n",
       "      <td>0</td>\n",
       "      <td>0</td>\n",
       "      <td>0</td>\n",
       "      <td>437</td>\n",
       "      <td>1</td>\n",
       "    </tr>\n",
       "    <tr>\n",
       "      <td>5</td>\n",
       "      <td>12.650775</td>\n",
       "      <td>5</td>\n",
       "      <td>22</td>\n",
       "      <td>46</td>\n",
       "      <td>0</td>\n",
       "      <td>7</td>\n",
       "      <td>1</td>\n",
       "      <td>677</td>\n",
       "      <td>1</td>\n",
       "    </tr>\n",
       "    <tr>\n",
       "      <td>6</td>\n",
       "      <td>19.378935</td>\n",
       "      <td>26</td>\n",
       "      <td>0</td>\n",
       "      <td>2</td>\n",
       "      <td>0</td>\n",
       "      <td>3</td>\n",
       "      <td>0</td>\n",
       "      <td>74</td>\n",
       "      <td>0</td>\n",
       "    </tr>\n",
       "    <tr>\n",
       "      <td>7</td>\n",
       "      <td>1266.304537</td>\n",
       "      <td>1</td>\n",
       "      <td>3</td>\n",
       "      <td>2</td>\n",
       "      <td>0</td>\n",
       "      <td>0</td>\n",
       "      <td>0</td>\n",
       "      <td>63</td>\n",
       "      <td>0</td>\n",
       "    </tr>\n",
       "    <tr>\n",
       "      <td>8</td>\n",
       "      <td>370.591134</td>\n",
       "      <td>0</td>\n",
       "      <td>21</td>\n",
       "      <td>3</td>\n",
       "      <td>0</td>\n",
       "      <td>0</td>\n",
       "      <td>0</td>\n",
       "      <td>576</td>\n",
       "      <td>0</td>\n",
       "    </tr>\n",
       "    <tr>\n",
       "      <td>9</td>\n",
       "      <td>596.102049</td>\n",
       "      <td>61</td>\n",
       "      <td>10</td>\n",
       "      <td>4</td>\n",
       "      <td>0</td>\n",
       "      <td>3</td>\n",
       "      <td>0</td>\n",
       "      <td>2780</td>\n",
       "      <td>1</td>\n",
       "    </tr>\n",
       "  </tbody>\n",
       "</table>\n",
       "</div>"
      ],
      "text/plain": [
       "           LOR  NBRlikes  NBRgroups  NBRmusic  NBRcheckins  NBRmovies  \\\n",
       "0   454.542650         2          9         5            0          1   \n",
       "1    27.638287         4          6         0            0          4   \n",
       "2   126.946725        17         24       129            0         79   \n",
       "3   208.484745         1          4        11            0          3   \n",
       "4   718.958299         1          9         3            0          0   \n",
       "5    12.650775         5         22        46            0          7   \n",
       "6    19.378935        26          0         2            0          3   \n",
       "7  1266.304537         1          3         2            0          0   \n",
       "8   370.591134         0         21         3            0          0   \n",
       "9   596.102049        61         10         4            0          3   \n",
       "\n",
       "   NBRlinks  NBRfriends  female  \n",
       "0         0         280       1  \n",
       "1         0         104       1  \n",
       "2         0        1307       1  \n",
       "3         0         269       0  \n",
       "4         0         437       1  \n",
       "5         1         677       1  \n",
       "6         0          74       0  \n",
       "7         0          63       0  \n",
       "8         0         576       0  \n",
       "9         0        2780       1  "
      ]
     },
     "execution_count": 1,
     "metadata": {},
     "output_type": "execute_result"
    }
   ],
   "source": [
    "import numpy as np\n",
    "import matplotlib.pyplot as plt\n",
    "import pandas as pd\n",
    "\n",
    "#Read in the data \n",
    "social_media = pd.read_csv(\"social_media_2.csv\")\n",
    "social_media.head(n=10)"
   ]
  },
  {
   "cell_type": "markdown",
   "metadata": {},
   "source": [
    "There are 9 columns in total:\n",
    "- LOR: length of relationship, tells us how long somebody is on Facebook (expressed in weeks)\n",
    "- NBRlikes: the total number of likes a user has given to Facebook pages\n",
    "- NBRgroups: the number of groups that a user is part of\n",
    "- NBRcheckins: the number of times a user has shared a check-in to a particular location\n",
    "- NBRmovies: the number of movies a user has liked\n",
    "- NBRlinks: the number of links a user has posted\n",
    "- NBRfriends: the dependent variable expressing a user's network size\n",
    "- female: indicate whether the user is female (1) or male (0) \n",
    "\n",
    "Let's have a closer look at what the data looks like."
   ]
  },
  {
   "cell_type": "code",
   "execution_count": 2,
   "metadata": {},
   "outputs": [
    {
     "name": "stdout",
     "output_type": "stream",
     "text": [
      "           LOR  NBRlikes  NBRgroups  NBRmusic  NBRcheckins  NBRmovies  \\\n",
      "count   200.00    200.00     200.00    200.00       200.00     200.00   \n",
      "mean    293.97      8.13       8.24     15.12         0.03       6.50   \n",
      "std     242.87     19.12      14.14     34.95         0.21      13.70   \n",
      "min       0.08      0.00       0.00      0.00         0.00       0.00   \n",
      "25%      96.50      1.00       1.00      0.00         0.00       0.00   \n",
      "50%     250.48      2.00       4.00      3.00         0.00       2.50   \n",
      "75%     416.00      4.00      10.25     11.00         0.00       5.25   \n",
      "max    1267.02    130.00     149.00    235.00         2.00      84.00   \n",
      "\n",
      "       NBRlinks  NBRfriends  female  \n",
      "count    200.00      200.00  200.00  \n",
      "mean       1.02      248.44    0.45  \n",
      "std        3.60      312.14    0.50  \n",
      "min        0.00        0.00    0.00  \n",
      "25%        0.00       47.25    0.00  \n",
      "50%        0.00      163.50    0.00  \n",
      "75%        0.00      325.50    1.00  \n",
      "max       22.00     2780.00    1.00  \n"
     ]
    }
   ],
   "source": [
    "#We will describe the data to have a look at the most important summary statistics\n",
    "pd.set_option('precision', 2)\n",
    "print(social_media.describe())"
   ]
  },
  {
   "cell_type": "markdown",
   "metadata": {},
   "source": [
    "Now it is up to you to test the most important assumptions: **linear relationships, multivariate normality** and **multicollinearity.** To do so, you should make a scatter plot and a histogram and look at the correlations. What conclusions can you make based on these analyses? \n",
    "\n",
    "After testing the assumptions, you should perform some variables transformations and/or delete some variables to get your final basetable. With this final basetable, you can start the modelling phase."
   ]
  },
  {
   "cell_type": "code",
   "execution_count": 3,
   "metadata": {},
   "outputs": [
    {
     "data": {
      "image/png": "[encoded data removed]",
      "text/plain": [
       "<Figure size 1440x180 with 8 Axes>"
      ]
     },
     "metadata": {
      "needs_background": "light"
     },
     "output_type": "display_data"
    }
   ],
   "source": [
    "import seaborn as sea \n",
    "\n",
    "data= social_media\n",
    "y_vars = [\"NBRfriends\"]\n",
    "x_vars = ['LOR', 'NBRlikes', 'NBRgroups', 'NBRmusic', 'NBRcheckins', 'NBRmovies','NBRlinks', 'female']\n",
    "plot = sea.pairplot(data = data, y_vars = y_vars, x_vars = x_vars,kind = 'reg')\n",
    "\n",
    "plt.show()"
   ]
  },
  {
   "cell_type": "code",
   "execution_count": 4,
   "metadata": {},
   "outputs": [
    {
     "data": {
      "image/png": "[encoded data removed]",
      "text/plain": [
       "<Figure size 432x288 with 9 Axes>"
      ]
     },
     "metadata": {
      "needs_background": "light"
     },
     "output_type": "display_data"
    }
   ],
   "source": [
    "#Make histograms for multivariate normality\n",
    "social_media.hist()\n",
    "plt.show()"
   ]
  },
  {
   "cell_type": "code",
   "execution_count": 5,
   "metadata": {},
   "outputs": [
    {
     "data": {
      "text/html": [
       "<div>\n",
       "<style scoped>\n",
       "    .dataframe tbody tr th:only-of-type {\n",
       "        vertical-align: middle;\n",
       "    }\n",
       "\n",
       "    .dataframe tbody tr th {\n",
       "        vertical-align: top;\n",
       "    }\n",
       "\n",
       "    .dataframe thead th {\n",
       "        text-align: right;\n",
       "    }\n",
       "</style>\n",
       "<table border=\"1\" class=\"dataframe\">\n",
       "  <thead>\n",
       "    <tr style=\"text-align: right;\">\n",
       "      <th></th>\n",
       "      <th>LOR</th>\n",
       "      <th>NBRlikes</th>\n",
       "      <th>NBRgroups</th>\n",
       "      <th>NBRmusic</th>\n",
       "      <th>NBRcheckins</th>\n",
       "      <th>NBRmovies</th>\n",
       "      <th>NBRlinks</th>\n",
       "      <th>NBRfriends</th>\n",
       "      <th>female</th>\n",
       "    </tr>\n",
       "  </thead>\n",
       "  <tbody>\n",
       "    <tr>\n",
       "      <td>LOR</td>\n",
       "      <td>1.00</td>\n",
       "      <td>-0.13</td>\n",
       "      <td>1.51e-02</td>\n",
       "      <td>0.05</td>\n",
       "      <td>-3.79e-02</td>\n",
       "      <td>-1.48e-02</td>\n",
       "      <td>-4.03e-02</td>\n",
       "      <td>1.49e-01</td>\n",
       "      <td>8.11e-02</td>\n",
       "    </tr>\n",
       "    <tr>\n",
       "      <td>NBRlikes</td>\n",
       "      <td>-0.13</td>\n",
       "      <td>1.00</td>\n",
       "      <td>1.91e-01</td>\n",
       "      <td>0.22</td>\n",
       "      <td>-4.81e-02</td>\n",
       "      <td>2.91e-01</td>\n",
       "      <td>1.58e-01</td>\n",
       "      <td>1.15e-02</td>\n",
       "      <td>8.03e-02</td>\n",
       "    </tr>\n",
       "    <tr>\n",
       "      <td>NBRgroups</td>\n",
       "      <td>0.02</td>\n",
       "      <td>0.19</td>\n",
       "      <td>1.00e+00</td>\n",
       "      <td>0.38</td>\n",
       "      <td>2.99e-03</td>\n",
       "      <td>4.69e-01</td>\n",
       "      <td>7.97e-02</td>\n",
       "      <td>3.37e-01</td>\n",
       "      <td>-8.59e-03</td>\n",
       "    </tr>\n",
       "    <tr>\n",
       "      <td>NBRmusic</td>\n",
       "      <td>0.05</td>\n",
       "      <td>0.22</td>\n",
       "      <td>3.81e-01</td>\n",
       "      <td>1.00</td>\n",
       "      <td>-1.61e-02</td>\n",
       "      <td>6.63e-01</td>\n",
       "      <td>-3.29e-02</td>\n",
       "      <td>2.18e-01</td>\n",
       "      <td>5.94e-02</td>\n",
       "    </tr>\n",
       "    <tr>\n",
       "      <td>NBRcheckins</td>\n",
       "      <td>-0.04</td>\n",
       "      <td>-0.05</td>\n",
       "      <td>2.99e-03</td>\n",
       "      <td>-0.02</td>\n",
       "      <td>1.00e+00</td>\n",
       "      <td>-4.60e-02</td>\n",
       "      <td>-2.71e-02</td>\n",
       "      <td>7.07e-02</td>\n",
       "      <td>-1.07e-01</td>\n",
       "    </tr>\n",
       "    <tr>\n",
       "      <td>NBRmovies</td>\n",
       "      <td>-0.01</td>\n",
       "      <td>0.29</td>\n",
       "      <td>4.69e-01</td>\n",
       "      <td>0.66</td>\n",
       "      <td>-4.60e-02</td>\n",
       "      <td>1.00e+00</td>\n",
       "      <td>-1.94e-02</td>\n",
       "      <td>2.06e-01</td>\n",
       "      <td>9.89e-03</td>\n",
       "    </tr>\n",
       "    <tr>\n",
       "      <td>NBRlinks</td>\n",
       "      <td>-0.04</td>\n",
       "      <td>0.16</td>\n",
       "      <td>7.97e-02</td>\n",
       "      <td>-0.03</td>\n",
       "      <td>-2.71e-02</td>\n",
       "      <td>-1.94e-02</td>\n",
       "      <td>1.00e+00</td>\n",
       "      <td>-5.51e-03</td>\n",
       "      <td>-2.18e-02</td>\n",
       "    </tr>\n",
       "    <tr>\n",
       "      <td>NBRfriends</td>\n",
       "      <td>0.15</td>\n",
       "      <td>0.01</td>\n",
       "      <td>3.37e-01</td>\n",
       "      <td>0.22</td>\n",
       "      <td>7.07e-02</td>\n",
       "      <td>2.06e-01</td>\n",
       "      <td>-5.51e-03</td>\n",
       "      <td>1.00e+00</td>\n",
       "      <td>7.35e-02</td>\n",
       "    </tr>\n",
       "    <tr>\n",
       "      <td>female</td>\n",
       "      <td>0.08</td>\n",
       "      <td>0.08</td>\n",
       "      <td>-8.59e-03</td>\n",
       "      <td>0.06</td>\n",
       "      <td>-1.07e-01</td>\n",
       "      <td>9.89e-03</td>\n",
       "      <td>-2.18e-02</td>\n",
       "      <td>7.35e-02</td>\n",
       "      <td>1.00e+00</td>\n",
       "    </tr>\n",
       "  </tbody>\n",
       "</table>\n",
       "</div>"
      ],
      "text/plain": [
       "              LOR  NBRlikes  NBRgroups  NBRmusic  NBRcheckins  NBRmovies  \\\n",
       "LOR          1.00     -0.13   1.51e-02      0.05    -3.79e-02  -1.48e-02   \n",
       "NBRlikes    -0.13      1.00   1.91e-01      0.22    -4.81e-02   2.91e-01   \n",
       "NBRgroups    0.02      0.19   1.00e+00      0.38     2.99e-03   4.69e-01   \n",
       "NBRmusic     0.05      0.22   3.81e-01      1.00    -1.61e-02   6.63e-01   \n",
       "NBRcheckins -0.04     -0.05   2.99e-03     -0.02     1.00e+00  -4.60e-02   \n",
       "NBRmovies   -0.01      0.29   4.69e-01      0.66    -4.60e-02   1.00e+00   \n",
       "NBRlinks    -0.04      0.16   7.97e-02     -0.03    -2.71e-02  -1.94e-02   \n",
       "NBRfriends   0.15      0.01   3.37e-01      0.22     7.07e-02   2.06e-01   \n",
       "female       0.08      0.08  -8.59e-03      0.06    -1.07e-01   9.89e-03   \n",
       "\n",
       "             NBRlinks  NBRfriends    female  \n",
       "LOR         -4.03e-02    1.49e-01  8.11e-02  \n",
       "NBRlikes     1.58e-01    1.15e-02  8.03e-02  \n",
       "NBRgroups    7.97e-02    3.37e-01 -8.59e-03  \n",
       "NBRmusic    -3.29e-02    2.18e-01  5.94e-02  \n",
       "NBRcheckins -2.71e-02    7.07e-02 -1.07e-01  \n",
       "NBRmovies   -1.94e-02    2.06e-01  9.89e-03  \n",
       "NBRlinks     1.00e+00   -5.51e-03 -2.18e-02  \n",
       "NBRfriends  -5.51e-03    1.00e+00  7.35e-02  \n",
       "female      -2.18e-02    7.35e-02  1.00e+00  "
      ]
     },
     "execution_count": 5,
     "metadata": {},
     "output_type": "execute_result"
    }
   ],
   "source": [
    "#To test for multicollinearity, we will make a correlation matrix\n",
    "correlation = social_media.corr(method='pearson')\n",
    "correlation"
   ]
  },
  {
   "cell_type": "code",
   "execution_count": 6,
   "metadata": {},
   "outputs": [
    {
     "data": {
      "image/png": "[encoded data removed]",
      "text/plain": [
       "<Figure size 504x504 with 2 Axes>"
      ]
     },
     "metadata": {
      "needs_background": "light"
     },
     "output_type": "display_data"
    }
   ],
   "source": [
    "#To test for multicollinearity, a correlation map can make things more clear\n",
    "import seaborn as sea\n",
    "\n",
    "heatmap = sea.heatmap(social_media.corr(), cbar=True, annot=True, \n",
    "                      yticklabels=social_media.columns.values, xticklabels=social_media.columns.values)\n",
    "fig = plt.gcf()\n",
    "fig.set_size_inches(7, 7)\n",
    "plt.show()"
   ]
  },
  {
   "cell_type": "markdown",
   "metadata": {},
   "source": [
    "Before continuing, take the log of NBRfriends, NBRgroups, NBRmovies, NBRlikes, NBRmusic, LOR and see what changes in the analysis."
   ]
  },
  {
   "cell_type": "code",
   "execution_count": 7,
   "metadata": {},
   "outputs": [
    {
     "data": {
      "text/html": [
       "<div>\n",
       "<style scoped>\n",
       "    .dataframe tbody tr th:only-of-type {\n",
       "        vertical-align: middle;\n",
       "    }\n",
       "\n",
       "    .dataframe tbody tr th {\n",
       "        vertical-align: top;\n",
       "    }\n",
       "\n",
       "    .dataframe thead th {\n",
       "        text-align: right;\n",
       "    }\n",
       "</style>\n",
       "<table border=\"1\" class=\"dataframe\">\n",
       "  <thead>\n",
       "    <tr style=\"text-align: right;\">\n",
       "      <th></th>\n",
       "      <th>LOR</th>\n",
       "      <th>NBRlikes</th>\n",
       "      <th>NBRgroups</th>\n",
       "      <th>NBRmusic</th>\n",
       "      <th>NBRcheckins</th>\n",
       "      <th>NBRmovies</th>\n",
       "      <th>NBRlinks</th>\n",
       "      <th>NBRfriends</th>\n",
       "      <th>female</th>\n",
       "    </tr>\n",
       "  </thead>\n",
       "  <tbody>\n",
       "    <tr>\n",
       "      <td>0</td>\n",
       "      <td>6.12</td>\n",
       "      <td>1.1</td>\n",
       "      <td>2.3</td>\n",
       "      <td>1.79</td>\n",
       "      <td>0</td>\n",
       "      <td>0.69</td>\n",
       "      <td>0</td>\n",
       "      <td>5.64</td>\n",
       "      <td>1</td>\n",
       "    </tr>\n",
       "  </tbody>\n",
       "</table>\n",
       "</div>"
      ],
      "text/plain": [
       "    LOR  NBRlikes  NBRgroups  NBRmusic  NBRcheckins  NBRmovies  NBRlinks  \\\n",
       "0  6.12       1.1        2.3      1.79            0       0.69         0   \n",
       "\n",
       "   NBRfriends  female  \n",
       "0        5.64       1  "
      ]
     },
     "execution_count": 7,
     "metadata": {},
     "output_type": "execute_result"
    }
   ],
   "source": [
    "#Take the log of NBRfriends, NBRgroups, NBRmovies, NBRlikes, NBRmusic, LOR\n",
    "#Hint: take log1p, which is the natural logarithm + 1 to make sure that zeros don't produce NaN values.\n",
    "def take_log(data, columns):\n",
    "    \n",
    "    #the columns argument should contain all the columns that you want to transform with log1p\n",
    "    #You should return a dataframe with the desired columns logged and the remaining columns unchanged\n",
    "    \n",
    "    data_log = data.copy()\n",
    "    ### BEGIN SOLUTION\n",
    "    \n",
    "    for col in columns:\n",
    "        data_log[col] = np.log1p(data_log[col])\n",
    "    ### END SOLUTION \n",
    "    \n",
    "    return data_log\n",
    "\n",
    "social_media_log = take_log(data=social_media,columns=['NBRfriends', 'NBRgroups', 'NBRmovies', \n",
    "                                                       'NBRlikes', 'NBRmusic', 'LOR'])\n",
    "social_media_log.head(1)"
   ]
  },
  {
   "cell_type": "markdown",
   "metadata": {},
   "source": [
    "Verify your solution:"
   ]
  },
  {
   "cell_type": "code",
   "execution_count": 8,
   "metadata": {
    "collapsed": true
   },
   "outputs": [],
   "source": [
    "assert np.round(social_media_log.NBRfriends[0],2) == 5.64\n",
    "assert np.round(social_media_log.NBRgroups[0],2) == 2.30\n",
    "assert np.round(social_media_log.NBRmovies[0],2) == 0.69\n",
    "assert np.round(social_media_log.NBRlikes[0],2) == 1.10\n",
    "assert np.round(social_media_log.NBRmusic[0],2) == 1.79\n",
    "assert np.round(social_media_log.LOR[0],2) == 6.12"
   ]
  },
  {
   "cell_type": "markdown",
   "metadata": {},
   "source": [
    "Now, you can make the pair plot again and the correlation heat map. You will notice that the there is a high correlation between number movies and number of music. Therefore, we will delete the number of movies variable."
   ]
  },
  {
   "cell_type": "code",
   "execution_count": 9,
   "metadata": {
    "collapsed": true
   },
   "outputs": [],
   "source": [
    "#Drop number of movies\n",
    "social_media_log = social_media_log.drop('NBRmovies', axis=1)"
   ]
  },
  {
   "cell_type": "markdown",
   "metadata": {},
   "source": [
    "## Model selection with approximation\n",
    "\n",
    "Now that you have the final basetable, you can start the modelling phase. It is up to you to select the best model. \n",
    "\n",
    "You should build several OLS models (using the *statsmodel* package) in which you include different predictors explaining the number of friends on Facebook. For example, you can include a full model (where you include all predictors), a null model (where you include no predictors), and simple linear regression model. Evaluate your models using the AIC, BIC and adjusted R-squared. "
   ]
  },
  {
   "cell_type": "code",
   "execution_count": 10,
   "metadata": {
    "collapsed": true
   },
   "outputs": [],
   "source": [
    "np.random.seed(40) \n",
    "\n",
    "def calculate_approximation(data,columns):\n",
    "    #This function will calculate approximation measures (AIC, BIC, adjusted Rsq)\n",
    "    #The columns parameter determines which variables are considered in the model\n",
    "    #You should return the AIC, BIC and adj Rsq values\n",
    "    \n",
    "    ### BEGIN SOLUTION\n",
    "    import statsmodels.api as sm\n",
    "\n",
    "    data = sm.add_constant(data)\n",
    "\n",
    "    lm = sm.OLS(data[\"NBRfriends\"],data[columns]).fit()\n",
    "    \n",
    "    measures = (lm.aic, lm.bic, lm.rsquared_adj)\n",
    "    ### END SOLUTION\n",
    "    \n",
    "    return measures"
   ]
  },
  {
   "cell_type": "markdown",
   "metadata": {},
   "source": [
    "Verify you results:"
   ]
  },
  {
   "cell_type": "code",
   "execution_count": 11,
   "metadata": {},
   "outputs": [
    {
     "name": "stderr",
     "output_type": "stream",
     "text": [
      "/opt/conda/lib/python3.7/site-packages/numpy/core/fromnumeric.py:2495: FutureWarning: Method .ptp is deprecated and will be removed in a future version. Use numpy.ptp instead.\n",
      "  return ptp(axis=axis, out=out, **kwargs)\n"
     ]
    }
   ],
   "source": [
    "assert np.allclose(calculate_approximation(data=social_media_log,\n",
    "                       columns = ['const','LOR', 'NBRgroups', \n",
    "                                 'NBRmusic','female']),(616.96181973426951, 633.45340656700967, 0.55823475386753474)) \n",
    "\n",
    "assert np.allclose(calculate_approximation(data=social_media_log,\n",
    "                       columns = ['const','LOR']),(731.94436129573842, 738.54099602883446, 0.20334328916931421)) \n",
    "\n",
    "assert np.allclose(calculate_approximation(data=social_media_log,\n",
    "                       columns = ['const','NBRgroups']),(641.993574665, 648.590209398,0.491904243857))\n",
    "\n",
    "assert np.allclose(calculate_approximation(data=social_media_log,\n",
    "                       columns = ['const', 'LOR', 'NBRgroups', 'NBRmusic','female']),(616.961819734, 633.453406567,0.558234753868)) \n",
    "\n",
    "assert np.allclose(calculate_approximation(data=social_media_log,\n",
    "                       columns = ['const', 'LOR', 'NBRgroups','female']),(617.571702521, 630.764971987 ,0.554715707868))"
   ]
  },
  {
   "cell_type": "markdown",
   "metadata": {},
   "source": [
    "You can test several other models besides the ones tested above. You can do this as an extra exercise To make sure that the best model found by the approximation measures is really the best. "
   ]
  },
  {
   "cell_type": "markdown",
   "metadata": {},
   "source": [
    "## Model selection with cross-validation\n",
    "\n",
    "Now, you should perform cross-validation to select the best model. Use 10-fold cross-validation and use the RMSE, MAE and R-squared as evaluation measures. You will now use the *scikit-learn* to build the 10-fold cross-validated models. "
   ]
  },
  {
   "cell_type": "code",
   "execution_count": 12,
   "metadata": {},
   "outputs": [
    {
     "data": {
      "text/plain": [
       "(1.1408803949151503, 0.8924228170648923, 0.5372708903989369)"
      ]
     },
     "execution_count": 12,
     "metadata": {},
     "output_type": "execute_result"
    }
   ],
   "source": [
    "np.random.seed(40) \n",
    "\n",
    "def calculate_performance(X, y, nFold):    \n",
    "    \n",
    "    from sklearn.linear_model import LinearRegression\n",
    "    from sklearn.pipeline import make_pipeline\n",
    "    from sklearn.model_selection import cross_val_predict\n",
    "    from sklearn.metrics import mean_squared_error as mse\n",
    "    from sklearn.metrics import mean_absolute_error as mae\n",
    "    from sklearn.metrics import r2_score as r2\n",
    "    from math import sqrt\n",
    "    \n",
    "    #Return RMSE, MAE, adj R-sq (in that order!)\n",
    "    \n",
    "    ### BEGIN SOLUTION\n",
    "    predictions = cross_val_predict(LinearRegression(), X, y, cv=nFold)\n",
    "    \n",
    "    RMSE = sqrt(mse(y, predictions))\n",
    "    MAE = mae(y, predictions)\n",
    "    R2 = r2(y, predictions)\n",
    "    \n",
    "    measures = (RMSE, MAE, R2)\n",
    "    \n",
    "    ### END SOLUTION\n",
    "    return measures\n",
    "\n",
    "calculate_performance(social_media_log[['LOR', 'NBRgroups','female']], social_media_log[\"NBRfriends\"],10)"
   ]
  },
  {
   "cell_type": "markdown",
   "metadata": {},
   "source": [
    "Verify your results:"
   ]
  },
  {
   "cell_type": "code",
   "execution_count": 13,
   "metadata": {
    "collapsed": true
   },
   "outputs": [],
   "source": [
    "#Model full\n",
    "assert np.allclose(calculate_performance(social_media_log[['LOR', 'NBRgroups', 'NBRmusic',\n",
    "       'female','NBRlikes', 'NBRcheckins', 'NBRlinks']], social_media_log[\"NBRfriends\"],10),\n",
    "                   (1.1438008768799586, 0.8850608338921494, 0.53489882457114346))\n",
    "\n",
    "#Only with LOR\n",
    "assert np.allclose(calculate_performance(social_media_log[['LOR']], social_media_log[\"NBRfriends\"],10),\n",
    "                   (1.5141253107197536, 1.1624917652682181, 0.18497632300004319)) \n",
    "\n",
    "assert np.allclose(calculate_performance(social_media_log[['NBRgroups']], social_media_log[\"NBRfriends\"],10),\n",
    "                   (1.2101302469911468, 0.92828642909352799, 0.47939202196849318)) \n",
    "\n",
    "assert np.allclose(calculate_performance(social_media_log[['LOR', 'NBRgroups', 'NBRmusic','female']], social_media_log[\"NBRfriends\"],10),\n",
    "                   (1.1377960324637966, 0.88705638246773422, 0.53976947842189393))\n",
    "\n",
    "assert np.allclose(calculate_performance(social_media_log[['LOR', 'NBRgroups','female']], social_media_log[\"NBRfriends\"],10),\n",
    "                   (1.140880394915332, 0.89242281706527393, 0.53727089039878939)) "
   ]
  },
  {
   "cell_type": "markdown",
   "metadata": {},
   "source": [
    "Feel free to test other models. Are the top performing models the same as with the approximation measures. "
   ]
  }
 ],
 "metadata": {
  "kernelspec": {
   "display_name": "Python 3",
   "language": "python",
   "name": "python3"
  },
  "language_info": {
   "codemirror_mode": {
    "name": "ipython",
    "version": 3
   },
   "file_extension": ".py",
   "mimetype": "text/x-python",
   "name": "python",
   "nbconvert_exporter": "python",
   "pygments_lexer": "ipython3",
   "version": "3.6.3"
  }
 },
 "nbformat": 4,
 "nbformat_minor": 2
}
