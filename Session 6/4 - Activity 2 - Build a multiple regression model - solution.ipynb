{
 "cells": [
  {
   "cell_type": "markdown",
   "metadata": {},
   "source": [
    "# Activity 2: Solution\n",
    "\n",
    "You have built a multiple linear regression model to predict box office revenues using two variables: advertising spending and number of theatres. \n",
    "\n",
    "### Data exploration\n",
    "\n",
    "Read in the data and make scatter plots between the predictors and the response. "
   ]
  },
  {
   "cell_type": "code",
   "execution_count": 48,
   "metadata": {},
   "outputs": [
    {
     "data": {
      "image/png": "[encoded data removed]",
      "text/plain": [
       "<matplotlib.figure.Figure at 0x197e122ef28>"
      ]
     },
     "metadata": {},
     "output_type": "display_data"
    }
   ],
   "source": [
    "import numpy as np\n",
    "import matplotlib.pyplot as plt\n",
    "import pandas as pd\n",
    "\n",
    "#Make the data\n",
    "#y are box office revenues, x1: advertising,x2: number of theaters  \n",
    "#All variables are expressed in 000s\n",
    "#Linear regression accepts Pandas DataFrame \n",
    "d = {\"y\":[23,12,36,27,45,70,55,8,62,28],\n",
    "     \"x1\":[29,49,89,110,210,190,153,20,122,41],\n",
    "     \"x2\": [2.036,2.919,1.707,1.505,2.232,2.910,2.795,1.46,3.288,1.838]\n",
    "    }\n",
    "data = pd.DataFrame(data = d)\n",
    "\n",
    "#To make a scatter plot of all predictors and response, you can use the seaborn package\n",
    "import seaborn as sea \n",
    "sea.pairplot(data)\n",
    "plt.show()"
   ]
  },
  {
   "cell_type": "markdown",
   "metadata": {},
   "source": [
    "The seaborn pairplot gives you a lot of information. It shows you the scatterplots between all pairs of variables. If we have a look at the third row, we can see the correlation between the response (y) and x1 and x2. The linear relationship is clear in bot predictors. However, the positive trend is more clear in x1 (advertising) than in x2 (number of theatres). We can also spot whether there is correlation between the predictors (row 1, column 2 and row 2, column 1). From those scatters, there seems to be little correlation between x1 and x2. To be sure about the correlation between x1 and x2, make a correlation matrix."
   ]
  },
  {
   "cell_type": "code",
   "execution_count": 49,
   "metadata": {
    "scrolled": true
   },
   "outputs": [
    {
     "data": {
      "text/html": [
       "<div>\n",
       "<style>\n",
       "    .dataframe thead tr:only-child th {\n",
       "        text-align: right;\n",
       "    }\n",
       "\n",
       "    .dataframe thead th {\n",
       "        text-align: left;\n",
       "    }\n",
       "\n",
       "    .dataframe tbody tr th {\n",
       "        vertical-align: top;\n",
       "    }\n",
       "</style>\n",
       "<table border=\"1\" class=\"dataframe\">\n",
       "  <thead>\n",
       "    <tr style=\"text-align: right;\">\n",
       "      <th></th>\n",
       "      <th>x1</th>\n",
       "      <th>x2</th>\n",
       "      <th>y</th>\n",
       "    </tr>\n",
       "  </thead>\n",
       "  <tbody>\n",
       "    <tr>\n",
       "      <th>x1</th>\n",
       "      <td>1.000000</td>\n",
       "      <td>0.436513</td>\n",
       "      <td>0.814852</td>\n",
       "    </tr>\n",
       "    <tr>\n",
       "      <th>x2</th>\n",
       "      <td>0.436513</td>\n",
       "      <td>1.000000</td>\n",
       "      <td>0.628218</td>\n",
       "    </tr>\n",
       "    <tr>\n",
       "      <th>y</th>\n",
       "      <td>0.814852</td>\n",
       "      <td>0.628218</td>\n",
       "      <td>1.000000</td>\n",
       "    </tr>\n",
       "  </tbody>\n",
       "</table>\n",
       "</div>"
      ],
      "text/plain": [
       "          x1        x2         y\n",
       "x1  1.000000  0.436513  0.814852\n",
       "x2  0.436513  1.000000  0.628218\n",
       "y   0.814852  0.628218  1.000000"
      ]
     },
     "execution_count": 49,
     "metadata": {},
     "output_type": "execute_result"
    }
   ],
   "source": [
    "#In pandas, correlation can be calculated fairly easy\n",
    "#By default the pearson correlation is calculated\n",
    "data.corr()"
   ]
  },
  {
   "cell_type": "markdown",
   "metadata": {},
   "source": [
    "Correlation between advertising and number of theatres is low: 0.44. However, there is a tendency that the higher the advertising spending, the higher the number of theatres and vice versa. In this case, the correlation is not problematic. However, you should be aware that the positive effect of the number of theatres may be partially caused by advertising, and the other way around. We also see that the correlation between x1 and x2 and y are bigger than 0.50, which is good since we want to perform regression.\n",
    "\n",
    "### Simple linear regression\n",
    "\n",
    "Now let's look at building a simple linear regression model for advertising and number of theatres. We use the *statsmodels* package since we are interested in interpretation. Since we are are not making any predictions, we don't make a train/test split. "
   ]
  },
  {
   "cell_type": "code",
   "execution_count": 50,
   "metadata": {},
   "outputs": [
    {
     "name": "stdout",
     "output_type": "stream",
     "text": [
      "                            OLS Regression Results                            \n",
      "==============================================================================\n",
      "Dep. Variable:                      y   R-squared:                       0.664\n",
      "Model:                            OLS   Adj. R-squared:                  0.622\n",
      "Method:                 Least Squares   F-statistic:                     15.81\n",
      "Date:                Wed, 21 Aug 2019   Prob (F-statistic):            0.00408\n",
      "Time:                        10:56:28   Log-Likelihood:                -38.624\n",
      "No. Observations:                  10   AIC:                             81.25\n",
      "Df Residuals:                       8   BIC:                             81.85\n",
      "Df Model:                           1                                         \n",
      "Covariance Type:            nonrobust                                         \n",
      "==============================================================================\n",
      "                 coef    std err          t      P>|t|      [0.025      0.975]\n",
      "------------------------------------------------------------------------------\n",
      "const         11.0657      7.603      1.455      0.184      -6.468      28.599\n",
      "x1             0.2521      0.063      3.976      0.004       0.106       0.398\n",
      "==============================================================================\n",
      "Omnibus:                        0.250   Durbin-Watson:                   2.119\n",
      "Prob(Omnibus):                  0.883   Jarque-Bera (JB):                0.401\n",
      "Skew:                          -0.026   Prob(JB):                        0.818\n",
      "Kurtosis:                       2.021   Cond. No.                         224.\n",
      "==============================================================================\n",
      "\n",
      "Warnings:\n",
      "[1] Standard Errors assume that the covariance matrix of the errors is correctly specified.\n"
     ]
    },
    {
     "name": "stderr",
     "output_type": "stream",
     "text": [
      "C:\\Anaconda\\lib\\site-packages\\scipy\\stats\\stats.py:1334: UserWarning: kurtosistest only valid for n>=20 ... continuing anyway, n=10\n",
      "  \"anyway, n=%i\" % int(n))\n"
     ]
    }
   ],
   "source": [
    "import statsmodels.api as sm\n",
    "\n",
    "#Add a constant\n",
    "data_const = sm.add_constant(data)\n",
    "\n",
    "#Fit an OLS for advertising\n",
    "lm_ads = sm.OLS(data_const[\"y\"],data_const[[\"const\",\"x1\"]]).fit()\n",
    "print(lm_ads.summary())"
   ]
  },
  {
   "cell_type": "code",
   "execution_count": 51,
   "metadata": {},
   "outputs": [
    {
     "name": "stdout",
     "output_type": "stream",
     "text": [
      "                            OLS Regression Results                            \n",
      "==============================================================================\n",
      "Dep. Variable:                      y   R-squared:                       0.395\n",
      "Model:                            OLS   Adj. R-squared:                  0.319\n",
      "Method:                 Least Squares   F-statistic:                     5.216\n",
      "Date:                Wed, 21 Aug 2019   Prob (F-statistic):             0.0518\n",
      "Time:                        10:56:28   Log-Likelihood:                -41.567\n",
      "No. Observations:                  10   AIC:                             87.13\n",
      "Df Residuals:                       8   BIC:                             87.74\n",
      "Df Model:                           1                                         \n",
      "Covariance Type:            nonrobust                                         \n",
      "==============================================================================\n",
      "                 coef    std err          t      P>|t|      [0.025      0.975]\n",
      "------------------------------------------------------------------------------\n",
      "const         -8.4790     20.481     -0.414      0.690     -55.708      38.750\n",
      "x2            19.8673      8.699      2.284      0.052      -0.193      39.928\n",
      "==============================================================================\n",
      "Omnibus:                        6.901   Durbin-Watson:                   1.766\n",
      "Prob(Omnibus):                  0.032   Jarque-Bera (JB):                2.691\n",
      "Skew:                          -1.190   Prob(JB):                        0.260\n",
      "Kurtosis:                       3.892   Cond. No.                         10.3\n",
      "==============================================================================\n",
      "\n",
      "Warnings:\n",
      "[1] Standard Errors assume that the covariance matrix of the errors is correctly specified.\n"
     ]
    },
    {
     "name": "stderr",
     "output_type": "stream",
     "text": [
      "C:\\Anaconda\\lib\\site-packages\\scipy\\stats\\stats.py:1334: UserWarning: kurtosistest only valid for n>=20 ... continuing anyway, n=10\n",
      "  \"anyway, n=%i\" % int(n))\n"
     ]
    }
   ],
   "source": [
    "#Fit an OLS for number of theaters\n",
    "lm_theaters = sm.OLS(data_const[\"y\"],data_const[[\"const\",\"x2\"]]).fit()\n",
    "print(lm_theaters.summary())"
   ]
  },
  {
   "cell_type": "markdown",
   "metadata": {
    "collapsed": true
   },
   "source": [
    "We see that the *lm_ads* model has more explanatory power than the *lm_theaters* model (high R-squared). Also the number of theatres is only significant on the 10% significance level.\n",
    "\n",
    "### Multiple linear regression\n",
    "\n",
    "Build one multiple linear regression model with two predictors: advertising and number of theatres."
   ]
  },
  {
   "cell_type": "code",
   "execution_count": 52,
   "metadata": {
    "collapsed": true
   },
   "outputs": [],
   "source": [
    "#Function that fits an OLS for advertising and theaters.\n",
    "#This is done in exactly the same fashion as SLR\n",
    "def make_mlr(data, xvars, yvars):\n",
    "    \n",
    "    ### BEGIN SOLUTION\n",
    "    lm = sm.OLS(data[yvars], data[xvars]).fit()\n",
    "    ### END SOLUTION\n",
    "    \n",
    "    return lm"
   ]
  },
  {
   "cell_type": "markdown",
   "metadata": {},
   "source": [
    "Verify your answers:"
   ]
  },
  {
   "cell_type": "code",
   "execution_count": 53,
   "metadata": {},
   "outputs": [
    {
     "name": "stdout",
     "output_type": "stream",
     "text": [
      "                            OLS Regression Results                            \n",
      "==============================================================================\n",
      "Dep. Variable:                      y   R-squared:                       0.756\n",
      "Model:                            OLS   Adj. R-squared:                  0.686\n",
      "Method:                 Least Squares   F-statistic:                     10.83\n",
      "Date:                Wed, 21 Aug 2019   Prob (F-statistic):            0.00720\n",
      "Time:                        10:56:33   Log-Likelihood:                -37.029\n",
      "No. Observations:                  10   AIC:                             80.06\n",
      "Df Residuals:                       7   BIC:                             80.97\n",
      "Df Model:                           2                                         \n",
      "Covariance Type:            nonrobust                                         \n",
      "==============================================================================\n",
      "                 coef    std err          t      P>|t|      [0.025      0.975]\n",
      "------------------------------------------------------------------------------\n",
      "const         -8.4879     13.908     -0.610      0.561     -41.376      24.400\n",
      "x1             0.2066      0.064      3.217      0.015       0.055       0.358\n",
      "x2            10.6473      6.566      1.622      0.149      -4.879      26.174\n",
      "==============================================================================\n",
      "Omnibus:                        2.741   Durbin-Watson:                   2.477\n",
      "Prob(Omnibus):                  0.254   Jarque-Bera (JB):                1.466\n",
      "Skew:                          -0.920   Prob(JB):                        0.480\n",
      "Kurtosis:                       2.631   Cond. No.                         488.\n",
      "==============================================================================\n",
      "\n",
      "Warnings:\n",
      "[1] Standard Errors assume that the covariance matrix of the errors is correctly specified.\n"
     ]
    },
    {
     "name": "stderr",
     "output_type": "stream",
     "text": [
      "C:\\Anaconda\\lib\\site-packages\\scipy\\stats\\stats.py:1334: UserWarning: kurtosistest only valid for n>=20 ... continuing anyway, n=10\n",
      "  \"anyway, n=%i\" % int(n))\n"
     ]
    }
   ],
   "source": [
    "lm_full = make_mlr(data_const,[\"const\",\"x1\",\"x2\"], \"y\")\n",
    "print(lm_full.summary())\n",
    "\n",
    "assert np.allclose(lm_full.params, (-8.48785663,0.20660479,10.64733005))"
   ]
  },
  {
   "cell_type": "markdown",
   "metadata": {},
   "source": [
    "**Coefficients**\n",
    "- We see that x1 (advertising) is significant at the 5% signifance level. If the advertising spending increases with 1 unit (or 1000 Sterling) this implies that the box office revenues would increase on average with 0.2066 (or 206.6 Sterling), while keeping the number of theatres constant. \n",
    "- We see that x2 (number of theatres) is not significant. In the SLR model it was still partially significant (p-value: 0.052), why? This is because advertising and number of theatres are correlated. In the SLR, the effect of number of theatres is actually not due to the number of theatres. It is because producers are spending more money on advertising that more theatres are playing the film, which is driving box office sales. In the SLR model, the number of theatres is getting credit for the effect of advertising on box office sales. \n",
    "\n",
    "**Performance**\n",
    "- The model performance of the MLR model is better than the two seperate models in terms of R-squared (0.76 vs 0.66 and 0.40). However, when comparing models, it is better to look at the adjusted R-squared since this corrects the R-squared for adding extra variables. When we look at the adjusted R-squared, we see that the MLR model improves model performance. However the difference with the SLR model on advertising is small (0.68 vs 0.62) \n",
    "- The F-test is significant (p-value: 0.007), so this tells us that at least 1 of the predictors is related to the response (advertising in this case).\n",
    "\n",
    "**Assumptions**\n",
    "- The linear relationship betwen predictors and response is already tested by the pair plots in the data exploration part.\n",
    "- Multicollinearity is also tested in the data exploration part. We saw that the correlation between advertising and number of theatres was 0.44 which is smaller than 0.80. However, a better way is to calculate the VIF (variance inflation factor). The VIFs of the predictors are low (below 4), only the VIF of the intercept is high. We are only interested in the VIF of the predictors, so a large VIF for the intercept is not problematic.\n"
   ]
  },
  {
   "cell_type": "code",
   "execution_count": 39,
   "metadata": {
    "collapsed": true
   },
   "outputs": [],
   "source": [
    "#Use the variance inflation factor from the statsmodels package\n",
    "from statsmodels.stats.outliers_influence import variance_inflation_factor\n",
    "\n",
    "#Extract the predictors and calculate the VIFs\n",
    "variables = lm_full.model.exog\n",
    "\n",
    "#Make a function that calculates the VIFs\n",
    "#You should return a pd Data Frame with two columns: the VIF values and the predictors name. \n",
    "def calculate_vif(variables):\n",
    "    \n",
    "    ### BEGIN SOLUTION\n",
    "    vif = pd.DataFrame()\n",
    "    vif[\"VIF\"] = [variance_inflation_factor(variables, i) for i in range(variables.shape[1])]\n",
    "    vif[\"Predictor\"] = lm_full.model.exog_names\n",
    "    ### END SOLUTION\n",
    "    \n",
    "    return vif"
   ]
  },
  {
   "cell_type": "markdown",
   "metadata": {},
   "source": [
    "Verify your results:\n"
   ]
  },
  {
   "cell_type": "code",
   "execution_count": 38,
   "metadata": {},
   "outputs": [
    {
     "name": "stdout",
     "output_type": "stream",
     "text": [
      "         VIF Predictor\n",
      "0  14.054124     const\n",
      "1   1.235397        x1\n",
      "2   1.235397        x2\n"
     ]
    }
   ],
   "source": [
    "vifs = calculate_vif(variables)\n",
    "print(vifs)\n",
    "\n",
    "assert np.allclose(vifs[\"VIF\"],(14.054124,1.235397,1.235397))"
   ]
  },
  {
   "cell_type": "markdown",
   "metadata": {},
   "source": [
    "- Multivariate normality can be tested in a couple of ways. First, the histograms in the data exploration phase did not really show a normal distribution. Second, we can make a QQ-plot of the residuals. We see that the blue dots are not exactly on the red line, which is also an indication of no normal distribution. Finally, we can perform a normality test such as a Kolmogorov–Smirnov test. This test has as a null hypothesis that the data is normally distributed. We see that the p-value of the K-S test is 0.0009 thereby rejecting the null hypothesis of a normal distribution. To mitigate this problem, we could do variable transformations like a log transformation. However, in this case, we only have 10 observations, so gathering more obsverations might be a good solution. "
   ]
  },
  {
   "cell_type": "code",
   "execution_count": 40,
   "metadata": {},
   "outputs": [
    {
     "data": {
      "image/png": "[encoded data removed]",
      "text/plain": [
       "<matplotlib.figure.Figure at 0x197e412ccc0>"
      ]
     },
     "metadata": {},
     "output_type": "display_data"
    },
    {
     "data": {
      "text/plain": [
       "KstestResult(statistic=0.58291403261470309, pvalue=0.00093189328803822136)"
      ]
     },
     "execution_count": 40,
     "metadata": {},
     "output_type": "execute_result"
    }
   ],
   "source": [
    "#Make a QQ-plot of the residuals\n",
    "from scipy import stats\n",
    "\n",
    "stats.probplot(lm_full.resid, plot= plt)\n",
    "plt.title(\"Model1 Residuals Probability Plot\")\n",
    "plt.show()\n",
    "\n",
    "#Do a K-S test\n",
    "stats.kstest(lm_full.resid, 'norm')"
   ]
  },
  {
   "cell_type": "markdown",
   "metadata": {},
   "source": [
    "- Autocorrelation can be tested with the Durbin-Watson test. The D-B test statistic can be seen in the output of MLR. Values between 1.5 and 2.5 are often seen as normal and serve as an indication for no autocorrelation problem.\n",
    "- Finally, we want to test for heteroscedasticity. This can be tested by making a residual plot, which plots the residuals against the fitted values. If there is no pattern in the residuals, then there is no heteroscedasticity. From the residual plot, we cannot detect a funnel shape."
   ]
  },
  {
   "cell_type": "code",
   "execution_count": 41,
   "metadata": {},
   "outputs": [
    {
     "data": {
      "image/png": "[encoded data removed]",
      "text/plain": [
       "<matplotlib.figure.Figure at 0x197e41325c0>"
      ]
     },
     "metadata": {},
     "output_type": "display_data"
    }
   ],
   "source": [
    "#Make a residual plot with the seaborn package\n",
    "#Lowess adds a scatter smoother\n",
    "plot_resid = sea.residplot(lm_full.fittedvalues, 'y', data=data_const, \n",
    "                          lowess=True, \n",
    "                          scatter_kws={'color': 'blue'}, \n",
    "                          line_kws={'color': 'red', 'lw': 1, 'alpha': 0.8})\n",
    "\n",
    "plot_resid.axes.set_title('Residual Plot')\n",
    "plot_resid.axes.set_xlabel('Fitted values')\n",
    "plot_resid.axes.set_ylabel('Residuals')\n",
    "\n",
    "plt.show()"
   ]
  }
 ],
 "metadata": {
  "kernelspec": {
   "display_name": "Python 3",
   "language": "python",
   "name": "python3"
  },
  "language_info": {
   "codemirror_mode": {
    "name": "ipython",
    "version": 3
   },
   "file_extension": ".py",
   "mimetype": "text/x-python",
   "name": "python",
   "nbconvert_exporter": "python",
   "pygments_lexer": "ipython3",
   "version": "3.6.8"
  }
 },
 "nbformat": 4,
 "nbformat_minor": 2
}
