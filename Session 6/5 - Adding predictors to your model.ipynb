{
 "cells": [
  {
   "cell_type": "markdown",
   "metadata": {},
   "source": [
    "# Adding predictors to your model\n",
    "\n",
    "So far, we have only included continuous predictors in our linear regression models. However, you can also add categorical variables and interaction variables to your models. We will start by focusing on categorical variables, since they are used the most. \n",
    "\n",
    "## Categorical variables\n",
    "\n",
    "Categorical or qualitative variables take on discrete values. Categorical variables can take on two or more values. For example, gender can take on two values (male or female), whereas movie genre can take on several discrete values (e.g. action, adventure, thriller, sci-Fi, drama, comedy).\n",
    "\n",
    "Suppose that we want to investigate the difference in box office sales using advertising spending, the number of theatres, and whether the movie is rated R. This means that we will add a variable to our model that resolves to 1 if the movie is rated R and 0 otherwise. This type of binary variable is often called a dummy variable. We will now build a multiple linear regression model with the dummy variable included.\n"
   ]
  },
  {
   "cell_type": "code",
   "execution_count": 1,
   "metadata": {},
   "outputs": [
    {
     "name": "stderr",
     "output_type": "stream",
     "text": [
      "C:\\Anaconda\\lib\\site-packages\\statsmodels\\compat\\pandas.py:56: FutureWarning: The pandas.core.datetools module is deprecated and will be removed in a future version. Please use the pandas.tseries module instead.\n",
      "  from pandas.core import datetools\n"
     ]
    },
    {
     "name": "stdout",
     "output_type": "stream",
     "text": [
      "                            OLS Regression Results                            \n",
      "==============================================================================\n",
      "Dep. Variable:                      y   R-squared:                       0.921\n",
      "Model:                            OLS   Adj. R-squared:                  0.881\n",
      "Method:                 Least Squares   F-statistic:                     23.31\n",
      "Date:                Mon, 01 Jul 2019   Prob (F-statistic):            0.00105\n",
      "Time:                        14:26:01   Log-Likelihood:                -31.386\n",
      "No. Observations:                  10   AIC:                             70.77\n",
      "Df Residuals:                       6   BIC:                             71.98\n",
      "Df Model:                           3                                         \n",
      "Covariance Type:            nonrobust                                         \n",
      "==============================================================================\n",
      "                 coef    std err          t      P>|t|      [0.025      0.975]\n",
      "------------------------------------------------------------------------------\n",
      "const         12.4045     10.382      1.195      0.277     -13.000      37.809\n",
      "x1             0.1880      0.040      4.723      0.003       0.091       0.285\n",
      "x2             6.1509      4.229      1.455      0.196      -4.197      16.499\n",
      "dummy        -17.6097      4.971     -3.542      0.012     -29.774      -5.445\n",
      "==============================================================================\n",
      "Omnibus:                        0.092   Durbin-Watson:                   2.439\n",
      "Prob(Omnibus):                  0.955   Jarque-Bera (JB):                0.191\n",
      "Skew:                           0.155   Prob(JB):                        0.909\n",
      "Kurtosis:                       2.400   Cond. No.                         599.\n",
      "==============================================================================\n",
      "\n",
      "Warnings:\n",
      "[1] Standard Errors assume that the covariance matrix of the errors is correctly specified.\n"
     ]
    },
    {
     "name": "stderr",
     "output_type": "stream",
     "text": [
      "C:\\Anaconda\\lib\\site-packages\\scipy\\stats\\stats.py:1334: UserWarning: kurtosistest only valid for n>=20 ... continuing anyway, n=10\n",
      "  \"anyway, n=%i\" % int(n))\n"
     ]
    }
   ],
   "source": [
    "import numpy as np\n",
    "import matplotlib.pyplot as plt\n",
    "import pandas as pd\n",
    "import statsmodels.api as sm\n",
    "\n",
    "#Make the data\n",
    "#y are box office revenues, x1: advertising,x2: number of theaters, dummy: rated R  \n",
    "d1 = {\"y\":[23,12,36,27,45,70,55,8,62,28],\n",
    "     \"x1\":[29,49,89,110,210,190,153,20,122,41],\n",
    "     \"x2\": [2.036,2.919,1.707,1.505,2.232,2.910,2.795,1.46,3.288,1.838],\n",
    "     \"dummy\": [1,1,0,1,1,0,0,1,0,0]\n",
    "    }\n",
    "data1 = pd.DataFrame(data = d1)\n",
    "\n",
    "#Build OLS model\n",
    "data1 = sm.add_constant(data1)\n",
    "lm1 = sm.OLS(data1[\"y\"],data1[[\"const\",\"x1\", \"x2\", \"dummy\"]]).fit()\n",
    "print(lm1.summary())"
   ]
  },
  {
   "cell_type": "markdown",
   "metadata": {},
   "source": [
    "## How do we interpret the dummy coefficient? \n",
    "\n",
    "If the movie is not rated R, the dummy variable is zero so the equation becomes: 12.40 + 0.189x1 + 6.15x2. Hence, the intercept (12.40) represent the average sales among movies that are not rated R. If the dummy variable becomes 1, then the equation changes to: 12.40 + 0.189x1 + 6.15x2 -17.6097. The intercept changes (12.40 - 17.61) and represents the average box office sales when the movie is rated. So a dummy variable changes the intercept, but does not affect interpretation of the coefficients of the predictors. \n",
    "\n",
    "To make the interpretation more clear, let's make a linear regression model with advertising and the dummy variable for rated R and plot the regression lines. "
   ]
  },
  {
   "cell_type": "code",
   "execution_count": 2,
   "metadata": {},
   "outputs": [
    {
     "data": {
      "image/png": "[encoded data removed]",
      "text/plain": [
       "<matplotlib.figure.Figure at 0x271594cd5c0>"
      ]
     },
     "metadata": {},
     "output_type": "display_data"
    }
   ],
   "source": [
    "#Make the data\n",
    "#y are box office revenues, x1: advertising, dummy: rated R  \n",
    "d2 = {\"y\":[23,12,36,27,45,70,55,8,62,28],\n",
    "     \"x1\":[29,49,89,110,210,190,153,20,122,41],\n",
    "     \"dummy\": [1,1,0,1,1,0,0,1,0,0]\n",
    "    }\n",
    "data2 = pd.DataFrame(data = d2)\n",
    "\n",
    "#Make an OLS\n",
    "data2 = sm.add_constant(data2)\n",
    "lm2 = sm.OLS(data2[\"y\"],data2[[\"const\",\"x1\", \"dummy\"]]).fit()\n",
    "\n",
    "#Make a plot with the two regression lines\n",
    "\n",
    "#Make a scatter plot of the y and x1\n",
    "x_plot = data2[['x1']]\n",
    "y_plot = data2[['y']]\n",
    "plt.scatter(x_plot,y_plot, color = \"blue\")\n",
    "\n",
    "#Add the regression line for non R-rated movies (black)\n",
    "plt.plot(x_plot, lm2.params[0] + lm2.params[1]*x_plot, color = \"black\")\n",
    "\n",
    "#Add the regression line for R-rated movies (red)\n",
    "plt.plot(x_plot, lm2.params[0] + lm2.params[1]*x_plot + lm2.params[2], color = \"red\")\n",
    "\n",
    "plt.show()"
   ]
  },
  {
   "cell_type": "markdown",
   "metadata": {},
   "source": [
    "As you can see from the scatter plot, the black (not R-rated movie) and the red line (R-rated) movie are parallel. This means that a dummy variable will make sure that the intercept of the regression line changes, but not the slope. The slope is the same for both R-rated and non R-rated movies.\n",
    "\n",
    "## Categorical variables with more than two levels\n",
    "\n",
    "If there are more than two levels, we have to create additional dummy variables. In general, if a variable has *c* categories, than we create *c-1* dummy variables, where each variable resolves to 1 if the the observation is equal to that category and 0 otherwise. So there will always be one less dummy variable than the number of categories. The category with no dummy variable is referred to as the 'reference class' or 'baseline'. This technique of transforming categorical variables to dummy variables is called one-hot encoding. \n",
    "\n",
    "Consider the following example, where we add genre to the box office sales example:"
   ]
  },
  {
   "cell_type": "code",
   "execution_count": 3,
   "metadata": {},
   "outputs": [],
   "source": [
    "#Make the data\n",
    "#y are box office revenues, x1: advertising, dummy: rated R  \n",
    "d3 = {\"y\":[23,12,36,27,45,70,55,8,62,28],\n",
    "     \"x1\":[29,49,89,110,210,190,153,20,122,41],\n",
    "     \"dummy\": [\"Action\",\"Drama\",\"Adventure\",\"Action\",\"Comedy\",\"Sci-Fi\",\"Drama\",\"Horror\",\"Comedy\",\"Action\"]\n",
    "    }\n",
    "data3 = pd.DataFrame(data = d3)\n",
    "\n",
    "#This function will create a dummy for every genre\n",
    "dummies = pd.get_dummies(data3['dummy'])\n",
    "\n",
    "#Delete one genre as reference category (e.g., Horror)\n",
    "dummies = dummies.drop(\"Horror\", axis = 1)\n",
    "\n",
    "#Add the dummies to the orginal data\n",
    "#Make sure that you delete the dummy category\n",
    "final = pd.concat([data3.reset_index(drop=True), dummies], axis = 1)\n",
    "final = final.drop(\"dummy\", axis = 1)\n",
    "\n",
    "#This data set can be used to build a OLS model. As an exercise, try to build an OLS model and see how the results differ!"
   ]
  },
  {
   "cell_type": "markdown",
   "metadata": {},
   "source": [
    "## Interaction variables\n",
    "\n",
    "In the previous examples of box office sales, we always assumed that the amount of advertising spent or the number of theatres were independent of each other. The average effect of number of theatres on box office sales was calculated regardless of the advertising spent. However, it could be that the effect of the number of theatres playing a movie increases with more advertising spent. Another example could be that the advertising spent is more effective for non R-rated movies of particular genres. So, an interaction effect will test whether one effect amplifies the other. This is exactly what an interaction effect is trying to prove.\n",
    "\n",
    "If we include the interaction of advertising spent and whether or not the movie is R-rated, the interaction term makes sure that not only the intercept for R-rated movies is different, but also the slope. In our case, the effect of advertising is higher for non R-rated movies (black) than for R-rated (red). "
   ]
  },
  {
   "cell_type": "code",
   "execution_count": 4,
   "metadata": {},
   "outputs": [
    {
     "name": "stdout",
     "output_type": "stream",
     "text": [
      "                            OLS Regression Results                            \n",
      "==============================================================================\n",
      "Dep. Variable:                      y   R-squared:                       0.922\n",
      "Model:                            OLS   Adj. R-squared:                  0.884\n",
      "Method:                 Least Squares   F-statistic:                     23.76\n",
      "Date:                Mon, 01 Jul 2019   Prob (F-statistic):           0.000993\n",
      "Time:                        14:37:27   Log-Likelihood:                -31.298\n",
      "No. Observations:                  10   AIC:                             70.60\n",
      "Df Residuals:                       6   BIC:                             71.81\n",
      "Df Model:                           3                                         \n",
      "Covariance Type:            nonrobust                                         \n",
      "==============================================================================\n",
      "                 coef    std err          t      P>|t|      [0.025      0.975]\n",
      "------------------------------------------------------------------------------\n",
      "const         16.2593      8.062      2.017      0.090      -3.468      35.986\n",
      "x1             0.2852      0.062      4.585      0.004       0.133       0.437\n",
      "dummy         -7.4326      9.462     -0.786      0.462     -30.585      15.720\n",
      "x1dummy       -0.1157      0.077     -1.504      0.183      -0.304       0.073\n",
      "==============================================================================\n",
      "Omnibus:                        2.817   Durbin-Watson:                   1.976\n",
      "Prob(Omnibus):                  0.244   Jarque-Bera (JB):                1.550\n",
      "Skew:                           0.942   Prob(JB):                        0.461\n",
      "Kurtosis:                       2.591   Cond. No.                         701.\n",
      "==============================================================================\n",
      "\n",
      "Warnings:\n",
      "[1] Standard Errors assume that the covariance matrix of the errors is correctly specified.\n"
     ]
    },
    {
     "name": "stderr",
     "output_type": "stream",
     "text": [
      "C:\\Anaconda\\lib\\site-packages\\scipy\\stats\\stats.py:1334: UserWarning: kurtosistest only valid for n>=20 ... continuing anyway, n=10\n",
      "  \"anyway, n=%i\" % int(n))\n"
     ]
    }
   ],
   "source": [
    "#Use data2 but add the interaction effect\n",
    "data4 = data2\n",
    "data4[\"x1dummy\"] = data4[\"x1\"]*data4[\"dummy\"] \n",
    "\n",
    "#Make an OLS model\n",
    "lm4 = sm.OLS(data4[\"y\"],data4[[\"const\",\"x1\", \"dummy\", \"x1dummy\"]]).fit()\n",
    "print(lm4.summary())"
   ]
  },
  {
   "cell_type": "markdown",
   "metadata": {},
   "source": [
    "We discover from the output that the intercept changes when the movie is R-rated (16.26 - 7.43). The slope also changes (0.29 - 0.12). This means that the effect of advertising spent on box office sales is higher for non R-rated movies. This is also clear when we make a plot of the regression lines:"
   ]
  },
  {
   "cell_type": "code",
   "execution_count": 5,
   "metadata": {},
   "outputs": [
    {
     "data": {
      "image/png": "[encoded data removed]",
      "text/plain": [
       "<matplotlib.figure.Figure at 0x271594cd5f8>"
      ]
     },
     "metadata": {},
     "output_type": "display_data"
    }
   ],
   "source": [
    "#Make a plot with the two regression lines\n",
    "#Make a scatter plot of the y and x1\n",
    "x_plot = data4[['x1']]\n",
    "y_plot = data4[['y']]\n",
    "plt.scatter(x_plot,y_plot, color = \"blue\")\n",
    "\n",
    "#Add the regression line for non R-rated movies (black)\n",
    "plt.plot(x_plot, lm4.params[0] + lm4.params[1]*x_plot, color = \"black\")\n",
    "\n",
    "#Add the regression line for R-rated movies (red)\n",
    "plt.plot(x_plot, lm2.params[0] + lm2.params[1]*x_plot + lm4.params[2] + lm4.params[3]*x_plot,color = \"red\")\n",
    "\n",
    "plt.show()"
   ]
  }
 ],
 "metadata": {
  "kernelspec": {
   "display_name": "Python 3",
   "language": "python",
   "name": "python3"
  },
  "language_info": {
   "codemirror_mode": {
    "name": "ipython",
    "version": 3
   },
   "file_extension": ".py",
   "mimetype": "text/x-python",
   "name": "python",
   "nbconvert_exporter": "python",
   "pygments_lexer": "ipython3",
   "version": "3.6.8"
  }
 },
 "nbformat": 4,
 "nbformat_minor": 2
}
