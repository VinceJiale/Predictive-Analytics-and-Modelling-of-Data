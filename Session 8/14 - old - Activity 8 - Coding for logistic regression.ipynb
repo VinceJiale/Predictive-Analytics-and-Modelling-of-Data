{
 "cells": [
  {
   "cell_type": "markdown",
   "metadata": {},
   "source": [
    "# Activity 8: Coding for logistic regression #\n",
    "\n",
    "Let's now experiment with different predictors and find out the predictive accuracy they can produce. First we'll look at an example together, then you will dive into playing with other variables to see what accuracy you can produce."
   ]
  },
  {
   "cell_type": "code",
   "execution_count": 10,
   "metadata": {},
   "outputs": [
    {
     "name": "stdout",
     "output_type": "stream",
     "text": [
      "Optimization terminated successfully.\n",
      "         Current function value: 0.535760\n",
      "         Iterations 6\n",
      "                           Logit Regression Results                           \n",
      "==============================================================================\n",
      "Dep. Variable:                  Bad_2   No. Observations:                  700\n",
      "Model:                          Logit   Df Residuals:                      697\n",
      "Method:                           MLE   Df Model:                            2\n",
      "Date:                Wed, 31 Jul 2019   Pseudo R-squ.:                  0.1064\n",
      "Time:                        08:52:26   Log-Likelihood:                -375.03\n",
      "converged:                       True   LL-Null:                       -419.70\n",
      "                                        LLR p-value:                 3.983e-20\n",
      "==============================================================================\n",
      "                 coef    std err          z      P>|z|      [0.025      0.975]\n",
      "------------------------------------------------------------------------------\n",
      "const         -1.1121      0.185     -5.999      0.000      -1.476      -0.749\n",
      "VAR1_A14      -1.5785      0.208     -7.572      0.000      -1.987      -1.170\n",
      "VAR2           0.0340      0.007      4.617      0.000       0.020       0.048\n",
      "==============================================================================\n",
      "count    300.000000\n",
      "mean       0.317787\n",
      "std        0.172189\n",
      "min        0.076792\n",
      "25%        0.132962\n",
      "50%        0.330856\n",
      "75%        0.426414\n",
      "max        0.791630\n",
      "dtype: float64\n"
     ]
    }
   ],
   "source": [
    "import numpy as np\n",
    "import matplotlib.pyplot as plt\n",
    "import pandas as pd\n",
    "import statsmodels.api as sm\n",
    "from sklearn.metrics import roc_curve, auc, roc_auc_score\n",
    "from sklearn.metrics import confusion_matrix as cm\n",
    "from sklearn.model_selection import train_test_split\n",
    "\n",
    "# we can use the dataset we have already created for the regression\n",
    "credit = pd.read_csv(\"credit_regress.csv\")\n",
    "credit = sm.add_constant(credit)\n",
    "credit.head()\n",
    "\n",
    "# we will use the same variables, but will split the data into training and testing\n",
    "\n",
    "X=credit[[\"const\",\"VAR1_A14\", \"VAR2\"]]\n",
    "Y=credit[[\"Bad_2\"]]\n",
    "\n",
    "X_train, X_test, Y_train, Y_test = train_test_split(X, Y, test_size=0.3, random_state=2) \n",
    "\n",
    "logreg = sm.Logit(Y_train, X_train)\n",
    " \n",
    "result = logreg.fit()\n",
    "prob1 = result.predict(X_test)\n",
    "\n",
    "print(result.summary())\n",
    "print(prob1.describe())"
   ]
  },
  {
   "cell_type": "code",
   "execution_count": 16,
   "metadata": {},
   "outputs": [
    {
     "name": "stdout",
     "output_type": "stream",
     "text": [
      "AUC for 30% holdout:0.771295039952\n"
     ]
    }
   ],
   "source": [
    "# Let's get AUC \n",
    "\n",
    "roc_auc = roc_auc_score(y_true=Y_test, y_score=prob1)\n",
    "print (\"AUC for 30% holdout:\" +str(roc_auc))\n"
   ]
  },
  {
   "cell_type": "markdown",
   "metadata": {},
   "source": [
    "You can see that the result is not bad at all! \n",
    "\n",
    "Now it is your turn to experiment with other variables: \n",
    "- Telephone\n",
    "- Housing\n",
    "- Age\n",
    "\n",
    "Does the addition of these variables change the AUC?"
   ]
  },
  {
   "cell_type": "code",
   "execution_count": null,
   "metadata": {
    "collapsed": true
   },
   "outputs": [],
   "source": []
  }
 ],
 "metadata": {
  "kernelspec": {
   "display_name": "Python 3",
   "language": "python",
   "name": "python3"
  },
  "language_info": {
   "codemirror_mode": {
    "name": "ipython",
    "version": 3
   },
   "file_extension": ".py",
   "mimetype": "text/x-python",
   "name": "python",
   "nbconvert_exporter": "python",
   "pygments_lexer": "ipython3",
   "version": "3.6.3"
  }
 },
 "nbformat": 4,
 "nbformat_minor": 2
}
