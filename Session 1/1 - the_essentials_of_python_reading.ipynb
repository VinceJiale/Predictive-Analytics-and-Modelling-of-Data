{
 "cells": [
  {
   "cell_type": "markdown",
   "metadata": {},
   "source": [
    "# Variables"
   ]
  },
  {
   "cell_type": "markdown",
   "metadata": {},
   "source": [
    "The first thing we need is a way to store information. Whether it's a whole dataset, your birthday or the pictures you took on your holidays. We will all store them in variables. Remember, Python is dynamically typed, so a variable that is a string at the beginning can become an integer later on."
   ]
  },
  {
   "cell_type": "code",
   "execution_count": 1,
   "metadata": {},
   "outputs": [
    {
     "name": "stdout",
     "output_type": "stream",
     "text": [
      "47\n",
      "Age: 47\n",
      "Age:  47\n"
     ]
    }
   ],
   "source": [
    "# Assign the variable age the value 47, which is an integer\n",
    "age = 47\n",
    "\n",
    "# Print the variable\n",
    "print(age)\n",
    "\n",
    "# This will not work print('Age: '+age), as you concatenate a string and integer\n",
    "# But this will:\n",
    "print('Age: '+str(age))\n",
    "print('Age: ',age)"
   ]
  },
  {
   "cell_type": "markdown",
   "metadata": {},
   "source": [
    "Printing is great for keeping track of what your code is doing:"
   ]
  },
  {
   "cell_type": "code",
   "execution_count": 2,
   "metadata": {},
   "outputs": [
    {
     "name": "stdout",
     "output_type": "stream",
     "text": [
      "47\n",
      "forty seven\n"
     ]
    }
   ],
   "source": [
    "age = 47\n",
    "print(age)\n",
    "\n",
    "age = 'forty seven'\n",
    "print(age)"
   ]
  },
  {
   "cell_type": "markdown",
   "metadata": {},
   "source": [
    "### Various ways of printing:"
   ]
  },
  {
   "cell_type": "code",
   "execution_count": 4,
   "metadata": {},
   "outputs": [
    {
     "name": "stdout",
     "output_type": "stream",
     "text": [
      "xuefei lu\n",
      "XUEFEI LU\n",
      "Xuefei Lu\n",
      "\n",
      "\n",
      "|xuefei |\n",
      "| xuefei|\n",
      "|xuefei|\n"
     ]
    }
   ],
   "source": [
    "#Various ways of printing\n",
    "name = \"xuefei lu\"\n",
    "print(name.lower())\n",
    "print(name.upper())\n",
    "print(name.title())\n",
    "\n",
    "#Prints a new line\n",
    "print(\"\\n\")\n",
    "\n",
    "#Stripping whitespace\n",
    "name = \" xuefei \"\n",
    "print(\"|\"+name.lstrip()+\"|\")\n",
    "print(\"|\"+name.rstrip()+\"|\")\n",
    "print(\"|\"+name.strip()+\"|\")"
   ]
  },
  {
   "cell_type": "markdown",
   "metadata": {},
   "source": [
    "### Numbers:"
   ]
  },
  {
   "cell_type": "code",
   "execution_count": 6,
   "metadata": {},
   "outputs": [
    {
     "name": "stdout",
     "output_type": "stream",
     "text": [
      "a: \t\t10\n",
      "b: \t\t-10.1023\n",
      "absolute of b: \t\t\t10.1023\n",
      "rounded b: \t\t\t-10.102\n",
      "square of a: \t\t\t100\n",
      "cube of a: \t\t\t1000\n",
      "integer part of b: \t\t-10\n"
     ]
    }
   ],
   "source": [
    "a = 10\n",
    "b = -10.1023\n",
    "\n",
    "#Some operations illustrated (\\t stands for a tab)\n",
    "print(\"a: \\t\\t\"+str(a))\n",
    "print(\"b: \\t\\t\"+str(b))\n",
    "print(\"absolute of b: \\t\\t\\t\"+str(abs(b)))\n",
    "print(\"rounded b: \\t\\t\\t\"+str(round(b,3)))\n",
    "print(\"square of a: \\t\\t\\t\"+ str(pow(a,2)))\n",
    "print(\"cube of a: \\t\\t\\t\"+ str(a**3))\n",
    "print(\"integer part of b: \\t\\t\"+ str(int(b)))"
   ]
  },
  {
   "cell_type": "markdown",
   "metadata": {},
   "source": [
    "# Control flow"
   ]
  },
  {
   "cell_type": "markdown",
   "metadata": {},
   "source": [
    "Control flow statements are used to manage the order in which certain operations are executed, depending on conditions. Most notably, if and for statements can alter how your program treats certain scenarios. Notice the indentatation which is used. Python is strict on this, as it alters on what level your program will execute a statement."
   ]
  },
  {
   "cell_type": "markdown",
   "metadata": {},
   "source": [
    "## If statements"
   ]
  },
  {
   "cell_type": "code",
   "execution_count": 7,
   "metadata": {},
   "outputs": [
    {
     "name": "stdout",
     "output_type": "stream",
     "text": [
      "Price is negative!\n"
     ]
    }
   ],
   "source": [
    "price = -5;\n",
    "\n",
    "if price <0:\n",
    "    print(\"Price is negative!\")\n",
    "elif price <1:\n",
    "    print(\"Price is too small!\")\n",
    "else:\n",
    "    print(\"Price is suitable.\")"
   ]
  },
  {
   "cell_type": "markdown",
   "metadata": {},
   "source": [
    "### Comparing strings:"
   ]
  },
  {
   "cell_type": "code",
   "execution_count": 9,
   "metadata": {},
   "outputs": [
    {
     "name": "stdout",
     "output_type": "stream",
     "text": [
      "Not equal\n",
      "Equal\n",
      "Equal\n",
      "Not equal\n"
     ]
    }
   ],
   "source": [
    "name1 = \"Xuefei\"\n",
    "name2 = \"xuefei\"\n",
    "\n",
    "if name1 == name2:\n",
    "    print(\"Equal\")\n",
    "else:\n",
    "    print(\"Not equal\")\n",
    "\n",
    "if name1.lower() == name2.lower():\n",
    "    print(\"Equal\")\n",
    "else:\n",
    "    print(\"Not equal\")"
   ]
  },
  {
   "cell_type": "markdown",
   "metadata": {},
   "source": [
    "### Connecting conditions with logical operators:"
   ]
  },
  {
   "cell_type": "code",
   "execution_count": 7,
   "metadata": {},
   "outputs": [
    {
     "name": "stdout",
     "output_type": "stream",
     "text": [
      "Number is between 1 and 10\n",
      "Number is lower than 3 or higher than 6\n"
     ]
    }
   ],
   "source": [
    "number = 9\n",
    "if number > 1 and not number > 9:\n",
    "    print(\"Number is between 1 and 10\")\n",
    "    \n",
    "if number < 3 or number > 6:\n",
    "    print(\"Number is lower than 3 or higher than 6\")"
   ]
  },
  {
   "cell_type": "markdown",
   "metadata": {},
   "source": [
    "### Indentation:"
   ]
  },
  {
   "cell_type": "code",
   "execution_count": 19,
   "metadata": {},
   "outputs": [
    {
     "name": "stdout",
     "output_type": "stream",
     "text": [
      "No indent (no tabs used)\n",
      "\tNumber 1 higher than 1.\n",
      "\tnumber 2 higher than 5, just print\n",
      "No indent (no tabs used)\n",
      "\tNumber 1 higher than 1.\n",
      "\t\tnumber 2 higher than 5\n",
      "\tnumber 2 higher than 5, just print\n"
     ]
    }
   ],
   "source": [
    "### Be careful with indentation\n",
    "number_1 = 3\n",
    "number_2 = 5\n",
    "\n",
    "print('No indent (no tabs used)')\n",
    "if number_1 > 1:\n",
    "    print('\\tNumber 1 higher than 1.')\n",
    "    if number_2 > 5:\n",
    "        print('\\t\\tnumber 2 higher than 5')        \n",
    "    print('\\tnumber 2 higher than 5, just print')\n",
    "\n",
    "number_1 = 3\n",
    "number_2 = 6\n",
    "\n",
    "print('No indent (no tabs used)')\n",
    "if number_1 > 1:\n",
    "    print('\\tNumber 1 higher than 1.')\n",
    "    if number_2 > 5:\n",
    "        print('\\t\\tnumber 2 higher than 5')       \n",
    "    print('\\tnumber 2 higher than 5, just print')"
   ]
  },
  {
   "cell_type": "markdown",
   "metadata": {},
   "source": [
    "## For loops"
   ]
  },
  {
   "cell_type": "code",
   "execution_count": 23,
   "metadata": {},
   "outputs": [
    {
     "name": "stdout",
     "output_type": "stream",
     "text": [
      "1\n",
      "2\n",
      "3\n",
      "4\n",
      "\n",
      "\n",
      "1\n",
      "2\n",
      "3\n",
      "\n",
      "\n",
      "a\n",
      "b\n",
      "c\n"
     ]
    }
   ],
   "source": [
    "# List will be explained below\n",
    "number_list = [1, 2, 3, 4]\n",
    "for item in number_list:\n",
    "    print(item)\n",
    "\n",
    "print(\"\\n\")\n",
    "\n",
    "for i in range(1,4):\n",
    "    print(i)\n",
    "\n",
    "print(\"\\n\")\n",
    "\n",
    "letter_list = ['a', 'b', 'c']\n",
    "for item in letter_list:\n",
    "    print(item)"
   ]
  },
  {
   "cell_type": "markdown",
   "metadata": {},
   "source": [
    "## While loops"
   ]
  },
  {
   "cell_type": "code",
   "execution_count": 24,
   "metadata": {},
   "outputs": [
    {
     "name": "stdout",
     "output_type": "stream",
     "text": [
      "4\n",
      "3\n",
      "2\n",
      "1\n"
     ]
    }
   ],
   "source": [
    "number = 4\n",
    "while number >1:\n",
    "    print(number)\n",
    "    number = number -1"
   ]
  },
  {
   "cell_type": "markdown",
   "metadata": {},
   "source": [
    "# Collection data types"
   ]
  },
  {
   "cell_type": "markdown",
   "metadata": {},
   "source": [
    "In data analysis, it is important to be able to store vast amounts of data. Collections can help a great deal to structure all the data. Remember: we always start counting from 0 in Python (not in MATLAB)."
   ]
  },
  {
   "cell_type": "markdown",
   "metadata": {},
   "source": [
    "## Lists"
   ]
  },
  {
   "cell_type": "markdown",
   "metadata": {},
   "source": [
    "### Basics:"
   ]
  },
  {
   "cell_type": "code",
   "execution_count": 89,
   "metadata": {},
   "outputs": [
    {
     "name": "stdout",
     "output_type": "stream",
     "text": [
      "Name: Xuefei\n",
      "Name: Giovanni\n",
      "Name: Rose\n",
      "Name: Yongzhe\n",
      "Name: Luciana\n",
      "Name: Imani\n",
      "GIOVANNI\n",
      "IMANI\n",
      "LUCIANA\n",
      "First three: ['Xuefei', 'Giovanni', 'Rose']\n",
      "First four: ['Xuefei', 'Giovanni', 'Rose', 'Yongzhe']\n",
      "Up until the second to last one: ['Xuefei', 'Giovanni', 'Rose', 'Yongzhe']\n",
      "Last two: ['Luciana', 'Imani']\n"
     ]
    }
   ],
   "source": [
    "names = [\"Xuefei\", \"Giovanni\", \"Rose\", \"Yongzhe\", \"Luciana\", \"Imani\"]\n",
    "\n",
    "# Loop names\n",
    "for name in names:\n",
    "    print('Name: '+name)\n",
    "\n",
    "# Get 'Giovanni' from list\n",
    "# Lists start counting at 0\n",
    "giovanni = names[1]\n",
    "print(giovanni.upper())\n",
    "\n",
    "# Get last item\n",
    "name = names[-1]\n",
    "print(name.upper())\n",
    "\n",
    "# Get second to last item\n",
    "name = names[-2]\n",
    "print(name.upper())\n",
    "\n",
    "print(\"First three: \"+str(names[0:3]))\n",
    "print(\"First four: \"+str(names[:4]))\n",
    "print(\"Up until the second to last one: \"+str(names[:-2]))\n",
    "print(\"Last two: \"+str(names[-2:]))"
   ]
  },
  {
   "cell_type": "markdown",
   "metadata": {},
   "source": [
    "### Enumeration:"
   ]
  },
  {
   "cell_type": "code",
   "execution_count": 90,
   "metadata": {},
   "outputs": [
    {
     "name": "stdout",
     "output_type": "stream",
     "text": [
      "0 Xuefei is in the list.\n",
      "1 Giovanni is in the list.\n",
      "2 Rose is in the list.\n",
      "3 Yongzhe is in the list.\n",
      "4 Luciana is in the list.\n",
      "5 Imani is in the list.\n",
      "[(10, 'Xuefei'), (11, 'Giovanni'), (12, 'Rose'), (13, 'Yongzhe'), (14, 'Luciana'), (15, 'Imani')]\n"
     ]
    }
   ],
   "source": [
    "# Enumeration, notice how indentation influences the for loop\n",
    "for index, name in enumerate(names):\n",
    "    print(index, name, \"is in the list.\")\n",
    "\n",
    "# changing the default counter\n",
    "print(list(enumerate(names,10)))"
   ]
  },
  {
   "cell_type": "markdown",
   "metadata": {},
   "source": [
    "### Searching and editing:"
   ]
  },
  {
   "cell_type": "code",
   "execution_count": 91,
   "metadata": {},
   "outputs": [
    {
     "name": "stdout",
     "output_type": "stream",
     "text": [
      "0\n",
      "['Xuefei', 'Giovanni', 'Rose', 'Yongzhe', 'Luciana', 'Imani', 'Kumiko']\n",
      "['Xuefei', 'Giovanni', 'Roberta', 'Rose', 'Yongzhe', 'Luciana', 'Imani', 'Kumiko']\n",
      "['orange']\n",
      "['Xuefei', 'Giovanni', 'Roberta', 'Rose', 'Yongzhe', 'Tom', 'Imani', 'Kumiko']\n",
      "True\n",
      "Length of the list: 8\n"
     ]
    }
   ],
   "source": [
    "# Finding an element\n",
    "print(names.index(\"Xuefei\"))\n",
    "\n",
    "# Adding an element\n",
    "names.append(\"Kumiko\")\n",
    "print(names)\n",
    "names.insert(2, \"Roberta\")\n",
    "print(names)\n",
    "\n",
    "#Removal\n",
    "fruits = [\"apple\",\"orange\",\"pear\"]\n",
    "del fruits[0]\n",
    "fruits.remove(\"pear\")\n",
    "print(fruits)\n",
    "\n",
    "# Modifying an element\n",
    "names[5] = \"Tom\"\n",
    "print(names)\n",
    "\n",
    "# Test whether an item is in the list (best do this before removing to avoid raising errors)\n",
    "print(\"Tom\" in names)\n",
    "\n",
    "# Length of a list\n",
    "print(\"Length of the list: \" + str(len(names)))"
   ]
  },
  {
   "cell_type": "markdown",
   "metadata": {},
   "source": [
    "### Sorting and copying:"
   ]
  },
  {
   "cell_type": "code",
   "execution_count": 93,
   "metadata": {},
   "outputs": [
    {
     "name": "stdout",
     "output_type": "stream",
     "text": [
      "['Giovanni', 'Imani', 'Luciana', 'Rose', 'Xuefei', 'Yongzhe']\n",
      "['Xuefei', 'Giovanni', 'Rose', 'Yongzhe', 'Luciana', 'Imani']\n",
      "Sorted names: ['Giovanni', 'Imani', 'Luciana', 'Rose', 'Xuefei', 'Yongzhe']\n",
      "Reverse sorted names: ['Yongzhe', 'Xuefei', 'Rose', 'Luciana', 'Imani', 'Giovanni']\n",
      "['Yongzhe', 'Rose', 'Luciana', 'Imani', 'Giovanni']\n",
      "['Yongzhe', 'Rose', 'Luciana', 'Imani', 'Giovanni']\n",
      "After deep copy\n",
      "['Yongzhe', 'Rose', 'Luciana', 'Imani']\n",
      "['Yongzhe', 'Rose', 'Luciana', 'Imani', 'Giovanni']\n",
      "Alternative way deep copy\n",
      "['Yongzhe', 'Rose', 'Luciana', 'Imani']\n",
      "['Yongzhe', 'Rose', 'Luciana', 'Imani', 'Giovanni']\n"
     ]
    }
   ],
   "source": [
    "names = [\"Xuefei\", \"Giovanni\", \"Rose\", \"Yongzhe\", \"Luciana\", \"Imani\"]\n",
    "# Temporary sorting:\n",
    "print(sorted(names))\n",
    "print(names)\n",
    "\n",
    "# Make changes permanent\n",
    "names.sort()\n",
    "print(\"Sorted names: \" + str(names))\n",
    "names.sort(reverse=True)\n",
    "print(\"Reverse sorted names: \" + str(names))\n",
    "\n",
    "# Copying list (a shallow copy just duplicates the pointer to the memory address)\n",
    "namez = names\n",
    "namez.remove(\"Xuefei\")\n",
    "print(namez)\n",
    "print(names)\n",
    "\n",
    "# Now a 'deep' copy\n",
    "print(\"After deep copy\")\n",
    "\n",
    "namez = names.copy()\n",
    "namez.remove(\"Giovanni\")\n",
    "print(namez)\n",
    "print(names)\n",
    "\n",
    "#Alternative\n",
    "print(\"Alternative way deep copy\")\n",
    "namez = names[:]\n",
    "namez.remove(\"Giovanni\")\n",
    "print(namez)\n",
    "print(names)"
   ]
  },
  {
   "cell_type": "markdown",
   "metadata": {},
   "source": [
    "### Strings as lists:"
   ]
  },
  {
   "cell_type": "code",
   "execution_count": 88,
   "metadata": {},
   "outputs": [
    {
     "name": "stdout",
     "output_type": "stream",
     "text": [
      "Last nine letters: analytics\n",
      "'analytics' in course title? True\n",
      "Start location of analytics: 11\n",
      "Predictive analysis\n",
      "Word: Predictive\n",
      "Word: analytics\n",
      "-1\n"
     ]
    }
   ],
   "source": [
    "course = \"Predictive analytics\"\n",
    "print(\"Last nine letters: \"+course[-9:])\n",
    "print(\"\\'analytics\\' in course title? \"+str(\"analytics\" in course))\n",
    "print(\"Start location of analytics: \"+str(course.find(\"analytics\")))\n",
    "print(course.replace(\"analytics\",\"analysis\"))\n",
    "list_of_words = course.split(\" \")\n",
    "for word in list_of_words:\n",
    "    print(\"Word: \"+word)\n",
    "\n",
    "print(course.find(\"Analytics\")) # find() method returns -1 if the value is not found, also case sensitive"
   ]
  },
  {
   "cell_type": "markdown",
   "metadata": {},
   "source": [
    "## Sets"
   ]
  },
  {
   "cell_type": "code",
   "execution_count": 94,
   "metadata": {},
   "outputs": [
    {
     "name": "stdout",
     "output_type": "stream",
     "text": [
      "{'Luciana', 'Yongzhe', 'Giovanni', 'Imani', 'Rose'}\n",
      "{'Luciana', 'Yongzhe', 'Galina', 'Giovanni', 'Imani', 'Rose'}\n",
      "{'Luciana', 'Yongzhe', 'Galina', 'Giovanni', 'Imani', 'Rose'}\n",
      "{'Luciana', 'Yongzhe', 'Galina', 'Imani', 'Giovanni'}\n",
      "{'Rose'}\n"
     ]
    }
   ],
   "source": [
    "name_set = set(names)\n",
    "print(name_set)\n",
    "\n",
    "# Add an element\n",
    "name_set.add(\"Galina\")\n",
    "print(name_set)\n",
    "\n",
    "# Discard an element\n",
    "name_set.discard(\"Xuefei\")\n",
    "print(name_set)\n",
    "\n",
    "name_set2 = set([\"Rose\", \"Tom\"])\n",
    "# Difference and intersection\n",
    "difference = name_set - name_set2\n",
    "print(difference)\n",
    "intersection = name_set.intersection(name_set2)\n",
    "print(intersection)"
   ]
  },
  {
   "cell_type": "markdown",
   "metadata": {},
   "source": [
    "## Dictionaries"
   ]
  },
  {
   "cell_type": "markdown",
   "metadata": {},
   "source": [
    "Dictionaries are a great way to store particular data as key-value pairs, which mimics the basic structure of a simple database."
   ]
  },
  {
   "cell_type": "code",
   "execution_count": 97,
   "metadata": {},
   "outputs": [
    {
     "name": "stdout",
     "output_type": "stream",
     "text": [
      "Xuefei teaches Predictive analytics\n",
      "Kumiko teaches Prescriptive analytics\n",
      "Luciana teaches Descriptive analytics\n",
      "\n",
      "\n",
      "Xuefei teaches Predictive analytics\n",
      "Kumiko teaches Prescriptive analytics\n",
      "Luciana teaches Descriptive analytics\n",
      "{'Xuefei': 'Business analytics', 'Kumiko': 'Prescriptive analytics', 'Luciana': 'Descriptive analytics', 'Imani': 'Other analytics'}\n",
      "{'Kumiko': 'Prescriptive analytics', 'Luciana': 'Descriptive analytics', 'Imani': 'Other analytics'}\n",
      "\n",
      "Looping values\n",
      "Prescriptive analytics\n",
      "Descriptive analytics\n",
      "Other analytics\n",
      "\n",
      "Sorted output\n",
      "Imani teaches Other analytics\n",
      "Kumiko teaches Prescriptive analytics\n",
      "Luciana teaches Descriptive analytics\n"
     ]
    }
   ],
   "source": [
    "courses = {\"Xuefei\" : \"Predictive analytics\", \"Kumiko\" : \"Prescriptive analytics\", \"Luciana\" : \"Descriptive analytics\"}\n",
    "\n",
    "for organizer in courses:\n",
    "    print(organizer +\" teaches \" + courses[organizer])\n",
    "\n",
    "print('\\n')\n",
    "    \n",
    "# or alternatively\n",
    "for organizer, course in courses.items():\n",
    "    print(organizer +\" teaches \" + course)\n",
    "\n",
    "# Adding items\n",
    "courses[\"Imani\"] = \"Other analytics\"\n",
    "\n",
    "# Overwrite\n",
    "courses[\"Xuefei\"] = \"Business analytics\"\n",
    "print(courses)\n",
    "\n",
    "# Remove\n",
    "del courses[\"Xuefei\"]\n",
    "print(courses)\n",
    "\n",
    "print(\"\\nLooping values\")\n",
    "# Looping values\n",
    "for course in courses.values():\n",
    "    print(course)\n",
    "\n",
    "print(\"\\nSorted output\")\n",
    "# Sorted output\n",
    "for organizer, course in sorted(courses.items()):\n",
    "    print(organizer +\" teaches \" + course)"
   ]
  },
  {
   "cell_type": "markdown",
   "metadata": {},
   "source": [
    "# Functions"
   ]
  },
  {
   "cell_type": "markdown",
   "metadata": {},
   "source": [
    "Functions form the backbone of all code. You have already used some, like print(). You can easily define them yourself as well."
   ]
  },
  {
   "cell_type": "code",
   "execution_count": 98,
   "metadata": {},
   "outputs": [
    {
     "name": "stdout",
     "output_type": "stream",
     "text": [
      "Xuefei LU\n",
      "Xuefei LU\n",
      "1.5\n",
      "a is negative\n"
     ]
    }
   ],
   "source": [
    "def my_function(a, b):\n",
    "    a = a.title()\n",
    "    b = b.upper()\n",
    "    print(a+ \" \"+b)\n",
    "\n",
    "\n",
    "def my_function2(a, b):\n",
    "    a = a.title()\n",
    "    b = b.upper()\n",
    "    return a + \" \" + b\n",
    "\n",
    "my_function(\"xuefei\",\"lu\")\n",
    "\n",
    "output = my_function2(\"xuefei\",\"lu\")\n",
    "print(output)\n",
    "\n",
    "\n",
    "# Different output type\n",
    "def calculate_mean(a, b):\n",
    "    if (a>0):\n",
    "        return (a+b)/2\n",
    "    else:\n",
    "        return \"a is negative\"\n",
    "\n",
    "output = calculate_mean(1,2)\n",
    "print(output)\n",
    "output = calculate_mean(0,1)\n",
    "print(output)"
   ]
  }
 ],
 "metadata": {
  "kernelspec": {
   "display_name": "Python 3",
   "language": "python",
   "name": "python3"
  },
  "language_info": {
   "codemirror_mode": {
    "name": "ipython",
    "version": 3
   },
   "file_extension": ".py",
   "mimetype": "text/x-python",
   "name": "python",
   "nbconvert_exporter": "python",
   "pygments_lexer": "ipython3",
   "version": "3.7.6"
  }
 },
 "nbformat": 4,
 "nbformat_minor": 2
}
